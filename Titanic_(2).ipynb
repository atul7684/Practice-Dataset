{
  "cells": [
    {
      "cell_type": "markdown",
      "id": "44cb2281-04e9-4435-84e5-2b4eae1aefe7",
      "metadata": {
        "id": "44cb2281-04e9-4435-84e5-2b4eae1aefe7"
      },
      "source": [
        "# TITANIC SURVIVAL PREDICTION"
      ]
    },
    {
      "cell_type": "markdown",
      "id": "88c56724-c4c3-4c6d-bea9-3d3652fd554e",
      "metadata": {
        "id": "88c56724-c4c3-4c6d-bea9-3d3652fd554e"
      },
      "source": [
        "## Step 1:- Importing the libraries"
      ]
    },
    {
      "cell_type": "code",
      "execution_count": null,
      "id": "90a663ef-f148-4d24-9488-6d8a3316b125",
      "metadata": {
        "id": "90a663ef-f148-4d24-9488-6d8a3316b125"
      },
      "outputs": [],
      "source": [
        "import numpy as np\n",
        "import pandas as pd\n",
        "import matplotlib.pyplot as plt\n",
        "import seaborn as sns\n",
        "import warnings\n",
        "warnings.filterwarnings(\"ignore\")\n",
        "\n",
        "import polars as pl\n",
        "\n",
        "from summarytools import dfSummary\n",
        "from skimpy import skim"
      ]
    },
    {
      "cell_type": "markdown",
      "id": "0c7dd831-95bd-4f4f-917e-f40fb8e5162e",
      "metadata": {
        "id": "0c7dd831-95bd-4f4f-917e-f40fb8e5162e"
      },
      "source": [
        "## Step 2 :- Loading the Dataset"
      ]
    },
    {
      "cell_type": "code",
      "execution_count": null,
      "id": "4c8412e5-4533-4c66-919a-9af1abad078d",
      "metadata": {
        "scrolled": true,
        "id": "4c8412e5-4533-4c66-919a-9af1abad078d"
      },
      "outputs": [],
      "source": [
        "data=pd.read_csv(\"Titanic-Dataset.csv\")"
      ]
    },
    {
      "cell_type": "markdown",
      "id": "8b055add-321b-46c5-9b9e-ebe74e6ae6f6",
      "metadata": {
        "id": "8b055add-321b-46c5-9b9e-ebe74e6ae6f6"
      },
      "source": [
        "## Step 3:- Domain Analysis"
      ]
    },
    {
      "cell_type": "markdown",
      "id": "e8d96854-8fbb-4934-98dd-3af69a54054c",
      "metadata": {
        "id": "e8d96854-8fbb-4934-98dd-3af69a54054c"
      },
      "source": [
        "1. PassengerId:- Unique number assign to all passengers.\n",
        "2. Survived :- Yes(1)/N0(0)\n",
        "3. Pclass:- First class(1),Second class(2),Third class(3)\n",
        "4. Name:- Name of passenger\n",
        "5. Sex:- Male/Female\n",
        "6. Age:- Age of the person\n",
        "7. SibSp:- Siblings/Spouses Aboard\n",
        "8. Parch:- Parents/Children Aboard\n",
        "9. Ticket:- Unique Number of ticket\n",
        "10. Fare:- Fare price\n",
        "11. Cabin:- Seat allocated\n",
        "12. Embarked:-  The port where passengers boarded the Titanic. There are three possible values for this attribute: (C,Q,S)"
      ]
    },
    {
      "cell_type": "markdown",
      "id": "3a31d260-15ff-4545-bcbd-63397fc792b4",
      "metadata": {
        "id": "3a31d260-15ff-4545-bcbd-63397fc792b4"
      },
      "source": [
        "## Step 4:- Basic Checks and Data Preprocessing"
      ]
    },
    {
      "cell_type": "code",
      "execution_count": null,
      "id": "b41549ed-cdeb-4deb-a306-3ddea6c6f1e5",
      "metadata": {
        "scrolled": true,
        "id": "b41549ed-cdeb-4deb-a306-3ddea6c6f1e5",
        "outputId": "b8c3eede-fdb3-4815-d60e-0b3672f66630"
      },
      "outputs": [
        {
          "data": {
            "text/html": [
              "<div>\n",
              "<style scoped>\n",
              "    .dataframe tbody tr th:only-of-type {\n",
              "        vertical-align: middle;\n",
              "    }\n",
              "\n",
              "    .dataframe tbody tr th {\n",
              "        vertical-align: top;\n",
              "    }\n",
              "\n",
              "    .dataframe thead th {\n",
              "        text-align: right;\n",
              "    }\n",
              "</style>\n",
              "<table border=\"1\" class=\"dataframe\">\n",
              "  <thead>\n",
              "    <tr style=\"text-align: right;\">\n",
              "      <th></th>\n",
              "      <th>PassengerId</th>\n",
              "      <th>Survived</th>\n",
              "      <th>Pclass</th>\n",
              "      <th>Name</th>\n",
              "      <th>Sex</th>\n",
              "      <th>Age</th>\n",
              "      <th>SibSp</th>\n",
              "      <th>Parch</th>\n",
              "      <th>Ticket</th>\n",
              "      <th>Fare</th>\n",
              "      <th>Cabin</th>\n",
              "      <th>Embarked</th>\n",
              "    </tr>\n",
              "  </thead>\n",
              "  <tbody>\n",
              "    <tr>\n",
              "      <th>0</th>\n",
              "      <td>1</td>\n",
              "      <td>0</td>\n",
              "      <td>3</td>\n",
              "      <td>Braund, Mr. Owen Harris</td>\n",
              "      <td>male</td>\n",
              "      <td>22.0</td>\n",
              "      <td>1</td>\n",
              "      <td>0</td>\n",
              "      <td>A/5 21171</td>\n",
              "      <td>7.2500</td>\n",
              "      <td>NaN</td>\n",
              "      <td>S</td>\n",
              "    </tr>\n",
              "    <tr>\n",
              "      <th>1</th>\n",
              "      <td>2</td>\n",
              "      <td>1</td>\n",
              "      <td>1</td>\n",
              "      <td>Cumings, Mrs. John Bradley (Florence Briggs Th...</td>\n",
              "      <td>female</td>\n",
              "      <td>38.0</td>\n",
              "      <td>1</td>\n",
              "      <td>0</td>\n",
              "      <td>PC 17599</td>\n",
              "      <td>71.2833</td>\n",
              "      <td>C85</td>\n",
              "      <td>C</td>\n",
              "    </tr>\n",
              "    <tr>\n",
              "      <th>2</th>\n",
              "      <td>3</td>\n",
              "      <td>1</td>\n",
              "      <td>3</td>\n",
              "      <td>Heikkinen, Miss. Laina</td>\n",
              "      <td>female</td>\n",
              "      <td>26.0</td>\n",
              "      <td>0</td>\n",
              "      <td>0</td>\n",
              "      <td>STON/O2. 3101282</td>\n",
              "      <td>7.9250</td>\n",
              "      <td>NaN</td>\n",
              "      <td>S</td>\n",
              "    </tr>\n",
              "    <tr>\n",
              "      <th>3</th>\n",
              "      <td>4</td>\n",
              "      <td>1</td>\n",
              "      <td>1</td>\n",
              "      <td>Futrelle, Mrs. Jacques Heath (Lily May Peel)</td>\n",
              "      <td>female</td>\n",
              "      <td>35.0</td>\n",
              "      <td>1</td>\n",
              "      <td>0</td>\n",
              "      <td>113803</td>\n",
              "      <td>53.1000</td>\n",
              "      <td>C123</td>\n",
              "      <td>S</td>\n",
              "    </tr>\n",
              "    <tr>\n",
              "      <th>4</th>\n",
              "      <td>5</td>\n",
              "      <td>0</td>\n",
              "      <td>3</td>\n",
              "      <td>Allen, Mr. William Henry</td>\n",
              "      <td>male</td>\n",
              "      <td>35.0</td>\n",
              "      <td>0</td>\n",
              "      <td>0</td>\n",
              "      <td>373450</td>\n",
              "      <td>8.0500</td>\n",
              "      <td>NaN</td>\n",
              "      <td>S</td>\n",
              "    </tr>\n",
              "  </tbody>\n",
              "</table>\n",
              "</div>"
            ],
            "text/plain": [
              "   PassengerId  Survived  Pclass  \\\n",
              "0            1         0       3   \n",
              "1            2         1       1   \n",
              "2            3         1       3   \n",
              "3            4         1       1   \n",
              "4            5         0       3   \n",
              "\n",
              "                                                Name     Sex   Age  SibSp  \\\n",
              "0                            Braund, Mr. Owen Harris    male  22.0      1   \n",
              "1  Cumings, Mrs. John Bradley (Florence Briggs Th...  female  38.0      1   \n",
              "2                             Heikkinen, Miss. Laina  female  26.0      0   \n",
              "3       Futrelle, Mrs. Jacques Heath (Lily May Peel)  female  35.0      1   \n",
              "4                           Allen, Mr. William Henry    male  35.0      0   \n",
              "\n",
              "   Parch            Ticket     Fare Cabin Embarked  \n",
              "0      0         A/5 21171   7.2500   NaN        S  \n",
              "1      0          PC 17599  71.2833   C85        C  \n",
              "2      0  STON/O2. 3101282   7.9250   NaN        S  \n",
              "3      0            113803  53.1000  C123        S  \n",
              "4      0            373450   8.0500   NaN        S  "
            ]
          },
          "execution_count": 3,
          "metadata": {},
          "output_type": "execute_result"
        }
      ],
      "source": [
        "data.head()"
      ]
    },
    {
      "cell_type": "code",
      "execution_count": null,
      "id": "608461d6-0a6b-45bd-81bf-3bea344f1091",
      "metadata": {
        "id": "608461d6-0a6b-45bd-81bf-3bea344f1091",
        "outputId": "82d79333-8975-4f1e-c5b8-6c528b1f7d18"
      },
      "outputs": [
        {
          "data": {
            "text/plain": [
              "Index(['PassengerId', 'Survived', 'Pclass', 'Name', 'Sex', 'Age', 'SibSp',\n",
              "       'Parch', 'Ticket', 'Fare', 'Cabin', 'Embarked'],\n",
              "      dtype='object')"
            ]
          },
          "execution_count": 4,
          "metadata": {},
          "output_type": "execute_result"
        }
      ],
      "source": [
        "data.columns"
      ]
    },
    {
      "cell_type": "code",
      "execution_count": null,
      "id": "1d6ee011-1ba5-4b69-ac91-98a57aee6b98",
      "metadata": {
        "id": "1d6ee011-1ba5-4b69-ac91-98a57aee6b98",
        "outputId": "25c796b1-03a9-4495-9732-1ee54a5dbc7b"
      },
      "outputs": [
        {
          "name": "stdout",
          "output_type": "stream",
          "text": [
            "<class 'pandas.core.frame.DataFrame'>\n",
            "RangeIndex: 891 entries, 0 to 890\n",
            "Data columns (total 12 columns):\n",
            " #   Column       Non-Null Count  Dtype  \n",
            "---  ------       --------------  -----  \n",
            " 0   PassengerId  891 non-null    int64  \n",
            " 1   Survived     891 non-null    int64  \n",
            " 2   Pclass       891 non-null    int64  \n",
            " 3   Name         891 non-null    object \n",
            " 4   Sex          891 non-null    object \n",
            " 5   Age          714 non-null    float64\n",
            " 6   SibSp        891 non-null    int64  \n",
            " 7   Parch        891 non-null    int64  \n",
            " 8   Ticket       891 non-null    object \n",
            " 9   Fare         891 non-null    float64\n",
            " 10  Cabin        204 non-null    object \n",
            " 11  Embarked     889 non-null    object \n",
            "dtypes: float64(2), int64(5), object(5)\n",
            "memory usage: 83.7+ KB\n"
          ]
        }
      ],
      "source": [
        "data.info()"
      ]
    },
    {
      "cell_type": "code",
      "execution_count": null,
      "id": "f60ec791-5baa-4f39-bbee-f6efdc6c2157",
      "metadata": {
        "id": "f60ec791-5baa-4f39-bbee-f6efdc6c2157",
        "outputId": "29260ecd-3c64-43f0-b7d4-1fa4257f6937"
      },
      "outputs": [
        {
          "data": {
            "text/plain": [
              "PassengerId      0\n",
              "Survived         0\n",
              "Pclass           0\n",
              "Name             0\n",
              "Sex              0\n",
              "Age            177\n",
              "SibSp            0\n",
              "Parch            0\n",
              "Ticket           0\n",
              "Fare             0\n",
              "Cabin          687\n",
              "Embarked         2\n",
              "dtype: int64"
            ]
          },
          "execution_count": 6,
          "metadata": {},
          "output_type": "execute_result"
        }
      ],
      "source": [
        "# Age, Cabin, Embarked has null values\n",
        "data.isnull().sum()"
      ]
    },
    {
      "cell_type": "code",
      "execution_count": null,
      "id": "2b69207c-dcf5-4e57-9dba-deb0f3d4d3b7",
      "metadata": {
        "scrolled": true,
        "id": "2b69207c-dcf5-4e57-9dba-deb0f3d4d3b7",
        "outputId": "48848a6e-7c68-4cd8-931d-a239846e4123"
      },
      "outputs": [
        {
          "data": {
            "text/html": [
              "<div>\n",
              "<style scoped>\n",
              "    .dataframe tbody tr th:only-of-type {\n",
              "        vertical-align: middle;\n",
              "    }\n",
              "\n",
              "    .dataframe tbody tr th {\n",
              "        vertical-align: top;\n",
              "    }\n",
              "\n",
              "    .dataframe thead th {\n",
              "        text-align: right;\n",
              "    }\n",
              "</style>\n",
              "<table border=\"1\" class=\"dataframe\">\n",
              "  <thead>\n",
              "    <tr style=\"text-align: right;\">\n",
              "      <th></th>\n",
              "      <th>count</th>\n",
              "      <th>mean</th>\n",
              "      <th>std</th>\n",
              "      <th>min</th>\n",
              "      <th>25%</th>\n",
              "      <th>50%</th>\n",
              "      <th>75%</th>\n",
              "      <th>max</th>\n",
              "    </tr>\n",
              "  </thead>\n",
              "  <tbody>\n",
              "    <tr>\n",
              "      <th>PassengerId</th>\n",
              "      <td>891.0</td>\n",
              "      <td>446.000000</td>\n",
              "      <td>257.353842</td>\n",
              "      <td>1.00</td>\n",
              "      <td>223.5000</td>\n",
              "      <td>446.0000</td>\n",
              "      <td>668.5</td>\n",
              "      <td>891.0000</td>\n",
              "    </tr>\n",
              "    <tr>\n",
              "      <th>Survived</th>\n",
              "      <td>891.0</td>\n",
              "      <td>0.383838</td>\n",
              "      <td>0.486592</td>\n",
              "      <td>0.00</td>\n",
              "      <td>0.0000</td>\n",
              "      <td>0.0000</td>\n",
              "      <td>1.0</td>\n",
              "      <td>1.0000</td>\n",
              "    </tr>\n",
              "    <tr>\n",
              "      <th>Pclass</th>\n",
              "      <td>891.0</td>\n",
              "      <td>2.308642</td>\n",
              "      <td>0.836071</td>\n",
              "      <td>1.00</td>\n",
              "      <td>2.0000</td>\n",
              "      <td>3.0000</td>\n",
              "      <td>3.0</td>\n",
              "      <td>3.0000</td>\n",
              "    </tr>\n",
              "    <tr>\n",
              "      <th>Age</th>\n",
              "      <td>714.0</td>\n",
              "      <td>29.699118</td>\n",
              "      <td>14.526497</td>\n",
              "      <td>0.42</td>\n",
              "      <td>20.1250</td>\n",
              "      <td>28.0000</td>\n",
              "      <td>38.0</td>\n",
              "      <td>80.0000</td>\n",
              "    </tr>\n",
              "    <tr>\n",
              "      <th>SibSp</th>\n",
              "      <td>891.0</td>\n",
              "      <td>0.523008</td>\n",
              "      <td>1.102743</td>\n",
              "      <td>0.00</td>\n",
              "      <td>0.0000</td>\n",
              "      <td>0.0000</td>\n",
              "      <td>1.0</td>\n",
              "      <td>8.0000</td>\n",
              "    </tr>\n",
              "    <tr>\n",
              "      <th>Parch</th>\n",
              "      <td>891.0</td>\n",
              "      <td>0.381594</td>\n",
              "      <td>0.806057</td>\n",
              "      <td>0.00</td>\n",
              "      <td>0.0000</td>\n",
              "      <td>0.0000</td>\n",
              "      <td>0.0</td>\n",
              "      <td>6.0000</td>\n",
              "    </tr>\n",
              "    <tr>\n",
              "      <th>Fare</th>\n",
              "      <td>891.0</td>\n",
              "      <td>32.204208</td>\n",
              "      <td>49.693429</td>\n",
              "      <td>0.00</td>\n",
              "      <td>7.9104</td>\n",
              "      <td>14.4542</td>\n",
              "      <td>31.0</td>\n",
              "      <td>512.3292</td>\n",
              "    </tr>\n",
              "  </tbody>\n",
              "</table>\n",
              "</div>"
            ],
            "text/plain": [
              "             count        mean         std   min       25%       50%    75%  \\\n",
              "PassengerId  891.0  446.000000  257.353842  1.00  223.5000  446.0000  668.5   \n",
              "Survived     891.0    0.383838    0.486592  0.00    0.0000    0.0000    1.0   \n",
              "Pclass       891.0    2.308642    0.836071  1.00    2.0000    3.0000    3.0   \n",
              "Age          714.0   29.699118   14.526497  0.42   20.1250   28.0000   38.0   \n",
              "SibSp        891.0    0.523008    1.102743  0.00    0.0000    0.0000    1.0   \n",
              "Parch        891.0    0.381594    0.806057  0.00    0.0000    0.0000    0.0   \n",
              "Fare         891.0   32.204208   49.693429  0.00    7.9104   14.4542   31.0   \n",
              "\n",
              "                  max  \n",
              "PassengerId  891.0000  \n",
              "Survived       1.0000  \n",
              "Pclass         3.0000  \n",
              "Age           80.0000  \n",
              "SibSp          8.0000  \n",
              "Parch          6.0000  \n",
              "Fare         512.3292  "
            ]
          },
          "execution_count": 7,
          "metadata": {},
          "output_type": "execute_result"
        }
      ],
      "source": [
        "data.describe().T"
      ]
    },
    {
      "cell_type": "code",
      "execution_count": null,
      "id": "f02ac37d-e67c-4135-a2e7-80b14c3e6833",
      "metadata": {
        "id": "f02ac37d-e67c-4135-a2e7-80b14c3e6833"
      },
      "outputs": [],
      "source": [
        "\n",
        "df = pl.from_pandas(data)"
      ]
    },
    {
      "cell_type": "code",
      "execution_count": null,
      "id": "705d58f3-f2eb-4a5a-9768-4bd1f7889fac",
      "metadata": {
        "scrolled": true,
        "id": "705d58f3-f2eb-4a5a-9768-4bd1f7889fac",
        "outputId": "460c6505-ceb4-41f9-c97e-92fb36f49b25"
      },
      "outputs": [
        {
          "data": {
            "text/html": [
              "<style type=\"text/css\">\n",
              "#T_2aa19 thead>tr>th {\n",
              "  text-align: left;\n",
              "}\n",
              "#T_2aa19_row0_col0, #T_2aa19_row1_col0, #T_2aa19_row2_col0, #T_2aa19_row3_col0, #T_2aa19_row4_col0, #T_2aa19_row5_col0, #T_2aa19_row6_col0, #T_2aa19_row7_col0, #T_2aa19_row8_col0, #T_2aa19_row9_col0, #T_2aa19_row10_col0, #T_2aa19_row11_col0 {\n",
              "  text-align: left;\n",
              "  font-size: 12px;\n",
              "  vertical-align: middle;\n",
              "  width: 5%;\n",
              "  max-width: 50px;\n",
              "  min-width: 20px;\n",
              "}\n",
              "#T_2aa19_row0_col1, #T_2aa19_row1_col1, #T_2aa19_row2_col1, #T_2aa19_row3_col1, #T_2aa19_row4_col1, #T_2aa19_row5_col1, #T_2aa19_row6_col1, #T_2aa19_row7_col1, #T_2aa19_row8_col1, #T_2aa19_row9_col1, #T_2aa19_row10_col1, #T_2aa19_row11_col1 {\n",
              "  text-align: left;\n",
              "  font-size: 12px;\n",
              "  vertical-align: middle;\n",
              "  width: 15%;\n",
              "  max-width: 200px;\n",
              "  min-width: 100px;\n",
              "  word-break: break-word;\n",
              "}\n",
              "#T_2aa19_row0_col2, #T_2aa19_row1_col2, #T_2aa19_row2_col2, #T_2aa19_row3_col2, #T_2aa19_row4_col2, #T_2aa19_row5_col2, #T_2aa19_row6_col2, #T_2aa19_row7_col2, #T_2aa19_row8_col2, #T_2aa19_row9_col2, #T_2aa19_row10_col2, #T_2aa19_row11_col2 {\n",
              "  text-align: left;\n",
              "  font-size: 12px;\n",
              "  vertical-align: middle;\n",
              "  width: 30%;\n",
              "  min-width: 100px;\n",
              "}\n",
              "#T_2aa19_row0_col3, #T_2aa19_row1_col3, #T_2aa19_row2_col3, #T_2aa19_row3_col3, #T_2aa19_row4_col3, #T_2aa19_row5_col3, #T_2aa19_row6_col3, #T_2aa19_row7_col3, #T_2aa19_row8_col3, #T_2aa19_row9_col3, #T_2aa19_row10_col3, #T_2aa19_row11_col3 {\n",
              "  text-align: left;\n",
              "  font-size: 12px;\n",
              "  vertical-align: middle;\n",
              "  width: 25%;\n",
              "  min-width: 100px;\n",
              "}\n",
              "#T_2aa19_row0_col4, #T_2aa19_row1_col4, #T_2aa19_row2_col4, #T_2aa19_row3_col4, #T_2aa19_row4_col4, #T_2aa19_row5_col4, #T_2aa19_row6_col4, #T_2aa19_row7_col4, #T_2aa19_row8_col4, #T_2aa19_row9_col4, #T_2aa19_row10_col4, #T_2aa19_row11_col4 {\n",
              "  text-align: left;\n",
              "  font-size: 12px;\n",
              "  vertical-align: middle;\n",
              "  width: 20%;\n",
              "  min-width: 150px;\n",
              "}\n",
              "#T_2aa19_row0_col5, #T_2aa19_row1_col5, #T_2aa19_row2_col5, #T_2aa19_row3_col5, #T_2aa19_row4_col5, #T_2aa19_row5_col5, #T_2aa19_row6_col5, #T_2aa19_row7_col5, #T_2aa19_row8_col5, #T_2aa19_row9_col5, #T_2aa19_row10_col5, #T_2aa19_row11_col5 {\n",
              "  text-align: left;\n",
              "  font-size: 12px;\n",
              "  vertical-align: middle;\n",
              "  width: 10%;\n",
              "}\n",
              "</style>\n",
              "<table id=\"T_2aa19\">\n",
              "  <caption><strong>Data Frame Summary</strong><br>data<br>Dimensions: 891 x 12<br>Duplicates: 0</caption>\n",
              "  <thead>\n",
              "    <tr>\n",
              "      <th id=\"T_2aa19_level0_col0\" class=\"col_heading level0 col0\" >No</th>\n",
              "      <th id=\"T_2aa19_level0_col1\" class=\"col_heading level0 col1\" >Variable</th>\n",
              "      <th id=\"T_2aa19_level0_col2\" class=\"col_heading level0 col2\" >Stats / Values</th>\n",
              "      <th id=\"T_2aa19_level0_col3\" class=\"col_heading level0 col3\" >Freqs / (% of Valid)</th>\n",
              "      <th id=\"T_2aa19_level0_col4\" class=\"col_heading level0 col4\" >Graph</th>\n",
              "      <th id=\"T_2aa19_level0_col5\" class=\"col_heading level0 col5\" >Missing</th>\n",
              "    </tr>\n",
              "  </thead>\n",
              "  <tbody>\n",
              "    <tr>\n",
              "      <td id=\"T_2aa19_row0_col0\" class=\"data row0 col0\" >1</td>\n",
              "      <td id=\"T_2aa19_row0_col1\" class=\"data row0 col1\" ><strong>PassengerId</strong><br>[int64]</td>\n",
              "      <td id=\"T_2aa19_row0_col2\" class=\"data row0 col2\" >Mean (sd) : 446.0 (257.4)<br>min < med < max:<br>1.0 < 446.0 < 891.0<br>IQR (CV) : 445.0 (1.7)</td>\n",
              "      <td id=\"T_2aa19_row0_col3\" class=\"data row0 col3\" >891 distinct values</td>\n",
              "      <td id=\"T_2aa19_row0_col4\" class=\"data row0 col4\" ><img src = \"data:image/png;base64, iVBORw0KGgoAAAANSUhEUgAAAKoAAABGCAYAAABc8A97AAAAOXRFWHRTb2Z0d2FyZQBNYXRwbG90bGliIHZlcnNpb24zLjguMCwgaHR0cHM6Ly9tYXRwbG90bGliLm9yZy81sbWrAAAACXBIWXMAAA9hAAAPYQGoP6dpAAAB8ElEQVR4nO3Xv27aYBhH4ddWikxAtvhTuICO3ZBYuICOvdheBENnhi6d2JCQZYSbqBZ11yxJMVaTnuo8K/x4v+EMSdK2bUj/uvStHyBd4+6tH6D/R5Ikw4gY3Dj/2bbtw3Mf/jHUnsfTiPh147bvnnqb+u5sOp1+KopidMv4dDqVSZJ8eS7WF0NNkmQ4m80+53k+6Xr4crm8q+v6w3g8/p6mafOae+pt6rsjIpqmySLi43q9/jqfz09dtlVVZdvtdnI8HgcR0T3UiBjkeT7ZbDYPRVE8djm+3+8nu93u/Wq1+rZcLssu27576m3qu5/s77MsaxaLxY+u+4gYvvThVX+jFkXx2PV4WZbDiIjRaNR523dPvU1999P93+J//UIwVCEYqhAMVQiGKgRDFYKhCsFQhWCoQjBUIRiqEAxVCIYqBEMVgqEKwVCFYKhCMFQhGKoQDFUIhioEQxWCoQrBUIVgqEIwVCEYqhAMVQiGKgRDFYKhCsFQhWCoQjBUIRiqEAxVCIYqBEMVgqEKwVCFYKhCMFQhGKoQDFUIhioEQxWCoQrBUIVgqEIwVCEYqhAMVQiGKgRDFYKhCsFQhWCoQjBUIRiqEAxVCIYqBEMVwt01X6qqKuv6w+fzOYuIqOs6OxwO96+5p96mvrvv/pq+fgOe9DS+8Np05AAAAABJRU5ErkJggg==\"></img></td>\n",
              "      <td id=\"T_2aa19_row0_col5\" class=\"data row0 col5\" >0<br>(0.0%)</td>\n",
              "    </tr>\n",
              "    <tr>\n",
              "      <td id=\"T_2aa19_row1_col0\" class=\"data row1 col0\" >2</td>\n",
              "      <td id=\"T_2aa19_row1_col1\" class=\"data row1 col1\" ><strong>Survived</strong><br>[int64]</td>\n",
              "      <td id=\"T_2aa19_row1_col2\" class=\"data row1 col2\" >Mean (sd) : 0.4 (0.5)<br>min < med < max:<br>0.0 < 0.0 < 1.0<br>IQR (CV) : 1.0 (0.8)</td>\n",
              "      <td id=\"T_2aa19_row1_col3\" class=\"data row1 col3\" >2 distinct values</td>\n",
              "      <td id=\"T_2aa19_row1_col4\" class=\"data row1 col4\" ><img src = \"data:image/png;base64, iVBORw0KGgoAAAANSUhEUgAAAKoAAABGCAYAAABc8A97AAAAOXRFWHRTb2Z0d2FyZQBNYXRwbG90bGliIHZlcnNpb24zLjguMCwgaHR0cHM6Ly9tYXRwbG90bGliLm9yZy81sbWrAAAACXBIWXMAAA9hAAAPYQGoP6dpAAABgElEQVR4nO3dQWrCQBiG4ZkiopsEETyMh+hhewhvI2VcVClouuumUGNU2g+eZz3zk8VLQhaZ1GEYCvx3L399ATDG7NqCWuuylDKfOP9zGIbjxL3w7ddQa63L9Xr92nXdasrww+HwXmt9Eyv3unZHnXddt9put8e+70+3DG6tLXa73Wq/389LKULlLlcf/aWU0vf9abPZfEyYv5ywB37wMkUEoRJBqEQQKhGESgShEkGoRBAqEYRKBKESQahEECoRhEoEoRJBqEQQKhGESgShEkGoRBAqEYRKhFFfocIYzzysRKg8xLMPKxEqj/LUw0qEykM967ASL1NEECoRhEoEoRJBqEQQKhGESgShEkGoRBAqEYRKBKESQahEECoRhEoEoRJBqEQQKhGESgShEkGoRBAqEYRKBKESQahEECoRhEoEoRJBqEQQKhGESgShEkGoRBAqEYRKBKESQahEECoRRv2+p7W2uHVwa21xPp9npZSu1nrzhRGnu1wus6mtXFvzBf1jTn1geGNvAAAAAElFTkSuQmCC\"></img></td>\n",
              "      <td id=\"T_2aa19_row1_col5\" class=\"data row1 col5\" >0<br>(0.0%)</td>\n",
              "    </tr>\n",
              "    <tr>\n",
              "      <td id=\"T_2aa19_row2_col0\" class=\"data row2 col0\" >3</td>\n",
              "      <td id=\"T_2aa19_row2_col1\" class=\"data row2 col1\" ><strong>Pclass</strong><br>[int64]</td>\n",
              "      <td id=\"T_2aa19_row2_col2\" class=\"data row2 col2\" >Mean (sd) : 2.3 (0.8)<br>min < med < max:<br>1.0 < 3.0 < 3.0<br>IQR (CV) : 1.0 (2.8)</td>\n",
              "      <td id=\"T_2aa19_row2_col3\" class=\"data row2 col3\" >3 distinct values</td>\n",
              "      <td id=\"T_2aa19_row2_col4\" class=\"data row2 col4\" ><img src = \"data:image/png;base64, iVBORw0KGgoAAAANSUhEUgAAAKoAAABGCAYAAABc8A97AAAAOXRFWHRTb2Z0d2FyZQBNYXRwbG90bGliIHZlcnNpb24zLjguMCwgaHR0cHM6Ly9tYXRwbG90bGliLm9yZy81sbWrAAAACXBIWXMAAA9hAAAPYQGoP6dpAAABkklEQVR4nO3dUWoiQRiF0apBRF+6EcHFuIhZ7CzC3chQPkzCgPasILE1XWRucs5rW1I2H1IK+tdpmgr873589gZgjtVnb4Cvo9a6LaWsn1z+d5qml7cuCpVF1Fq3+/3+5zAMu2fWXy6X37XWX2/FKlSWsh6GYXc8Hl/GcXx9ZGFrbXM6nXbn83ldShEq/Y3j+Ho4HP48sXT73kUfpoggVCIIlQhCJYJQiSBUIgiVCEIlglCJIFQiCJUIQiWCUIkgVCIIlQhCJYJQiSBUIgiVCEIlglCJIFQiCJUIQiWCUIkgVCIIlQhCJYJQiSBUIgiVCEIlglCJIFQi3P1r9J6TLmCud0PtPekC5rr3jtp10gXMNWsqSq9JFzCX8T0dONcvT6gLc67vQ6jLc67vQKidONcvyxf+RBAqEYRKBKESQahEECoRhEoEoRJBqEQQKhGESgShEkGoRBAqEYRKBKESQahEECoRhEoEoRJBqESY9SvU1trm0SdurW2u1+uqlDLUWh/eWLDhdrutvuE9+9DrvveYf4LcdwKKR7CqAAAAAElFTkSuQmCC\"></img></td>\n",
              "      <td id=\"T_2aa19_row2_col5\" class=\"data row2 col5\" >0<br>(0.0%)</td>\n",
              "    </tr>\n",
              "    <tr>\n",
              "      <td id=\"T_2aa19_row3_col0\" class=\"data row3 col0\" >4</td>\n",
              "      <td id=\"T_2aa19_row3_col1\" class=\"data row3 col1\" ><strong>Name</strong><br>[object]</td>\n",
              "      <td id=\"T_2aa19_row3_col2\" class=\"data row3 col2\" >1. Braund, Mr. Owen Harris<br>2. Boulos, Mr. Hanna<br>3. Frolicher-Stehli, Mr. Maxmilli<br>4. Gilinski, Mr. Eliezer<br>5. Murdlin, Mr. Joseph<br>6. Rintamaki, Mr. Matti<br>7. Stephenson, Mrs. Walter Bertra<br>8. Elsbury, Mr. William James<br>9. Bourke, Miss. Mary<br>10. Chapman, Mr. John Henry<br>11. other</td>\n",
              "      <td id=\"T_2aa19_row3_col3\" class=\"data row3 col3\" >1 (0.1%)<br>1 (0.1%)<br>1 (0.1%)<br>1 (0.1%)<br>1 (0.1%)<br>1 (0.1%)<br>1 (0.1%)<br>1 (0.1%)<br>1 (0.1%)<br>1 (0.1%)<br>881 (98.9%)</td>\n",
              "      <td id=\"T_2aa19_row3_col4\" class=\"data row3 col4\" ><img src = \"data:image/png;base64, iVBORw0KGgoAAAANSUhEUgAAAJsAAAD+CAYAAAAtWHdlAAAAOXRFWHRTb2Z0d2FyZQBNYXRwbG90bGliIHZlcnNpb24zLjguMCwgaHR0cHM6Ly9tYXRwbG90bGliLm9yZy81sbWrAAAACXBIWXMAAA9hAAAPYQGoP6dpAAADXElEQVR4nO3cwWkbYRRG0TdGOPZGQhhcQtKDi0ixKUJFpAdjPIvY8WaySBYpINwB5ZwK/sWFh2A+Ldu2DRRu9n4A/w+xkREbGbGRERsZsZERGxmxkREbGbGRuVmW5cuyLHd7P4TrdzMzn2fm094P4fo5o2TERkZsZMRGRmxkxEZGbGTERkZsZMRGRmxkxEZGbGTERkZsZMRG5mZmvs/Mz70fwvVb/IsRFWeUjNjIWFeRsa4i44ySERsZsZERGxmxkREbGbGRERsZsZERGxmxkREbGbGRERsZsZExeCFj8ELGGSUjNjIGL2QMXsg4o2TERkZsZMRGRmxkxEZGbGTERkZsZMRGRmxkxEZGbGTERkZsZAxeyBi8kHFGyYiNjNjIWFeRsa4i44ySERsZsZERGxmxkREbGbGRERsZsZERGxmxkREbGbGRERsZsZGxriJjXUXGGSUjNjIGL2QMXsg4o2TERkZsZMRGRmxkxEZGbGTERkZsZMRGRmxkxEZGbGTERkZsZAxeyBi8kHFGyYiNjMELGYMXMs4oGbGRERsZsZERGxmxkREbGbGRERsZsZERGxmxkREbGbGRERsZsZGxriJjXUXGGSUjNjLWVWSsq8g4o2TERkZsZMRGRmxkxEZGbGTERkZsZMRGRmxkxEZGbGTERkZsZAxeyBi8kHFGyYiNjMELGYMXMs4oGbGRERsZsZERGxmxkREbGbGRERsZsZERGxmxkREbGbGRERsZgxcyBi9knFEyYiMjNjLWVWSsq8g4o2TERkZsZMRGRmxkxEZGbGTERkZsZMRGRmxkxEZGbGTERkZsZKyryFhXkXFGyYiNjMELGYMXMs4oGbGRERsZsZERGxmxkREbGbGRERsZsZERGxmxkREbGbGRERsZgxcyBi9knFEyy8zcz8zt3g/hqn1s2/Z2eHh4+Ho8Hs97v4brta7ry7Is3w7H4/H89PT0djqd3vd+FNfn9fX17nK5nJ+fn28PMzOn0+n98fHxx94P42rdz/iBQEhsZMRGRmxkxEZGbGTERkZsZMRGRmxkxEZGbGTERuYw8/szkL0fwnX6u63Duq4vl8vlPH8+A4F/bV3Xl5n58Fk4hY9t296sq8j4gUBGbGTERkZsZMRGRmxkxEZGbGTERuYXwgdpOf758ysAAAAASUVORK5CYII=\"></img></td>\n",
              "      <td id=\"T_2aa19_row3_col5\" class=\"data row3 col5\" >0<br>(0.0%)</td>\n",
              "    </tr>\n",
              "    <tr>\n",
              "      <td id=\"T_2aa19_row4_col0\" class=\"data row4 col0\" >5</td>\n",
              "      <td id=\"T_2aa19_row4_col1\" class=\"data row4 col1\" ><strong>Sex</strong><br>[object]</td>\n",
              "      <td id=\"T_2aa19_row4_col2\" class=\"data row4 col2\" >1. male<br>2. female</td>\n",
              "      <td id=\"T_2aa19_row4_col3\" class=\"data row4 col3\" >577 (64.8%)<br>314 (35.2%)</td>\n",
              "      <td id=\"T_2aa19_row4_col4\" class=\"data row4 col4\" ><img src = \"data:image/png;base64, iVBORw0KGgoAAAANSUhEUgAAAJsAAAAuCAYAAAA/ZmtKAAAAOXRFWHRTb2Z0d2FyZQBNYXRwbG90bGliIHZlcnNpb24zLjguMCwgaHR0cHM6Ly9tYXRwbG90bGliLm9yZy81sbWrAAAACXBIWXMAAA9hAAAPYQGoP6dpAAABOUlEQVR4nO3bwWnDQBRF0TdBmGSjQQhUjIpIsSlC3QihWcTGm8nCkA78xvN9TwXf+GJso5dqrQIckqQvSZfWh+DfvdZ6bX3EMwzzPH+P4zi1PgQPpZQjpfQTMbhhHMdpXddrzvnW+ph3d57n57Zt077vF0nxYpOknPNtWZbf1sdA0uNrTUgfrQ/A+yA22BAbbIgNNsQGG2KDDbHBhthgQ2ywITbYEBtsiA02xAYbYoMNscFmkB4P7bU+BPHfh6GUcmzbNinwQ3s9KaUcku6t73gGBi+vJ+zgJTHlg0v0T7awnxI9Cj3lizyL61HYKV/0WVyPok/5+IX9QvhTFzbEBhtigw2xwYbYYENssCE22BAbbIgNNsQGG2KDDbHBhthgQ2ywITbYhJ3yRXxNvQs95Ys8i+sRgxfY/AEKW2rfw3Mb/AAAAABJRU5ErkJggg==\"></img></td>\n",
              "      <td id=\"T_2aa19_row4_col5\" class=\"data row4 col5\" >0<br>(0.0%)</td>\n",
              "    </tr>\n",
              "    <tr>\n",
              "      <td id=\"T_2aa19_row5_col0\" class=\"data row5 col0\" >6</td>\n",
              "      <td id=\"T_2aa19_row5_col1\" class=\"data row5 col1\" ><strong>Age</strong><br>[float64]</td>\n",
              "      <td id=\"T_2aa19_row5_col2\" class=\"data row5 col2\" >Mean (sd) : 29.7 (14.5)<br>min < med < max:<br>0.4 < 28.0 < 80.0<br>IQR (CV) : 17.9 (2.0)</td>\n",
              "      <td id=\"T_2aa19_row5_col3\" class=\"data row5 col3\" >88 distinct values</td>\n",
              "      <td id=\"T_2aa19_row5_col4\" class=\"data row5 col4\" ><img src = \"data:image/png;base64, iVBORw0KGgoAAAANSUhEUgAAAKoAAABGCAYAAABc8A97AAAAOXRFWHRTb2Z0d2FyZQBNYXRwbG90bGliIHZlcnNpb24zLjguMCwgaHR0cHM6Ly9tYXRwbG90bGliLm9yZy81sbWrAAAACXBIWXMAAA9hAAAPYQGoP6dpAAACg0lEQVR4nO3dQY7aMBSA4edmQAGkRIgKdlygUhcsOUQP2yMUiRNwA3ZIURRESkQI6abTTWcY4iTFz/2/vYUXvyAxtmzquhbAdZ+ePQHgES/PnsA9xpiRiAwth1/quj53OR88j7OhGmNGs9nsWxRFU5vxx+MxNcZ8J1Y/OBuqiAyjKJqu1+tzHMdFk4FZloXb7XaaJMlQRAjVAy6HKiIicRwX8/n8Z9NxVVVFIhIZY2w/mkcHhzgfqo08zwdlWX5dLpdBEASNvo1f8ejgFi9DvVwuL2EYjlerVbFYLNKm43l0cI+Xob6aTCZWjw2/jTqdDFphHRUqECpUIFSoQKhQgVChAqFCBUKFCoQKFQgVKhAqVCBUqECoUIFQoQKhQgVChQqEChW83jjdRlVVA7E/c8V5q44R6hvanrnivFX3CPUNbc5ccd6qH4R6R4szV5y36hgvU1CBUKECoUIFQoUKhAoVCBUqECpUIFSoQKhQgVChAqFCBUKFCoQKFQgVKrDNrwecDugeoXaM0wH9INSOcTqgH4TaE04HdIuXKahAqFDhw59+riKHC+6GylXkcMVH36hcRQ4nPPTW/6SryKPb7TawGahZyz8LRDx93OpteartwndZlmFVVV+KovghIrYX76rC9e3v6y3UtleR7/f76W63G1+v16CP+bmI69vf1/uCv+3Cd5qm/+3CN9e3/411VKhAqFCBUKECoUIFdk95xtdN24TqEZ83bROqR3zetE2oHvJx0zYvU1CBUKECP/34w+WdW4QKEXF/5xahQkS62bm12WzmSZJ8NsYcbaZwL/CHQs2yLGz6qafTKRQRyfM8PBwO4385XutnuzBvW+fzudc13F+aMrK5pmPjbQAAAABJRU5ErkJggg==\"></img></td>\n",
              "      <td id=\"T_2aa19_row5_col5\" class=\"data row5 col5\" >177<br>(19.9%)</td>\n",
              "    </tr>\n",
              "    <tr>\n",
              "      <td id=\"T_2aa19_row6_col0\" class=\"data row6 col0\" >7</td>\n",
              "      <td id=\"T_2aa19_row6_col1\" class=\"data row6 col1\" ><strong>SibSp</strong><br>[int64]</td>\n",
              "      <td id=\"T_2aa19_row6_col2\" class=\"data row6 col2\" >Mean (sd) : 0.5 (1.1)<br>min < med < max:<br>0.0 < 0.0 < 8.0<br>IQR (CV) : 1.0 (0.5)</td>\n",
              "      <td id=\"T_2aa19_row6_col3\" class=\"data row6 col3\" >7 distinct values</td>\n",
              "      <td id=\"T_2aa19_row6_col4\" class=\"data row6 col4\" ><img src = \"data:image/png;base64, iVBORw0KGgoAAAANSUhEUgAAAKoAAABGCAYAAABc8A97AAAAOXRFWHRTb2Z0d2FyZQBNYXRwbG90bGliIHZlcnNpb24zLjguMCwgaHR0cHM6Ly9tYXRwbG90bGliLm9yZy81sbWrAAAACXBIWXMAAA9hAAAPYQGoP6dpAAACV0lEQVR4nO3dP2/aQBjH8ecphNpAbf4ksLGyMTCydOqaF5u1O4yId4GQUABBoVBEl6aqVKngc0n4Rd/P7Ltj+NqWJU7np9PJgFv34a1/AHCJ4rkL3D02s1Lg/PvT6bQNHAv89s9Q3T1uNpuPSZLUQyZfrVbP7v5ErMjr3BO1lCRJfTAYbNM03WWZeLlcRsPhsD6fz0tmRqjI5eyr38wsTdNdq9X6FjB/HDAG+AsfU5BAqJBAqJBAqJBAqJBAqJBAqJBAqJBAqJBAqJBAqJBAqJBAqJBAqJBAqJBAqJBAqJBAqJBAqJBAqJBAqJBAqJBAqJBAqJBAqJBAqJBAqJBAqJBAqJBAqJBAqJBAqJBAqJBAqJBAqJBAqJBAqJBAqJBAqJBAqJBw0YFooY7H452ZJe4eOgVnqcLMrhjqZrO5OxwOvU6nUygUCpmOp3zBWap4cbVQ9/t9MYqicr/f37Xb7ees4zlLFX+66qvfzKxSqYSeo2rGWar4hY8pSCBUSCBUSCBUSCBUSCBUSCBUSCBUSCBUSCBUSCBUSCBUSCBUSCBUSCBUSCBUSLj6H6fzyLnniv1W78jNhpp3z9VisVi7+1czC9qvZTlCd/fYzEqvve57drOh5tlzNZ1OP41Go8+dTuf+tTcWunvcbDYfkySph6z7ljdYXte8QS8KdblcRllXXa/XkZnZZrOJZrNZOXR8iMPhUIyiqNztdr1Wq33POn673X4cj8cP8/n83t1XGYcn1Wr1odfr/YjjONPai8WiOplMct1g/yH0UFGj0fiSpmk1ZPC5B8NPA03CGsgjbMwAAAAASUVORK5CYII=\"></img></td>\n",
              "      <td id=\"T_2aa19_row6_col5\" class=\"data row6 col5\" >0<br>(0.0%)</td>\n",
              "    </tr>\n",
              "    <tr>\n",
              "      <td id=\"T_2aa19_row7_col0\" class=\"data row7 col0\" >8</td>\n",
              "      <td id=\"T_2aa19_row7_col1\" class=\"data row7 col1\" ><strong>Parch</strong><br>[int64]</td>\n",
              "      <td id=\"T_2aa19_row7_col2\" class=\"data row7 col2\" >Mean (sd) : 0.4 (0.8)<br>min < med < max:<br>0.0 < 0.0 < 6.0<br>IQR (CV) : 0.0 (0.5)</td>\n",
              "      <td id=\"T_2aa19_row7_col3\" class=\"data row7 col3\" >7 distinct values</td>\n",
              "      <td id=\"T_2aa19_row7_col4\" class=\"data row7 col4\" ><img src = \"data:image/png;base64, iVBORw0KGgoAAAANSUhEUgAAAKoAAABGCAYAAABc8A97AAAAOXRFWHRTb2Z0d2FyZQBNYXRwbG90bGliIHZlcnNpb24zLjguMCwgaHR0cHM6Ly9tYXRwbG90bGliLm9yZy81sbWrAAAACXBIWXMAAA9hAAAPYQGoP6dpAAACHUlEQVR4nO3aQW7iMBiG4d8DjZIiOYoihR1HmAXLHKKH7SFyGKQIOYJCQcGzm81ohmJA5WPeZ41/vHhF7AgXYzTg0f347g0AXzE99wHnXGFmWeL8Q4xxl7gW+O2foTrnirqu37z3VcrwYRjWzrl3YsW1zv2iZt77qm3bXVmW+0sGhxDyruuqvu8zMyNUXOXso9/MrCzLfdM0Hwnzi4Q1wB+4TEECoUICoUICoUICoUICoUICoUICoUICoUICoUICoUICoUICoUICoUICoUICoUICoUICoUICoUICoUICoUICoUICoUICoUICoUICoUICoUICoUICoUICoUICoUICoUICoUICoUICoUICoUICoUICoUICoUICoUICoUICoUICoUICoUICoUICoUICoUICoUICoUICoUICoULC9J7Dx3F8MTPvnEsdcYgx7m64JYi6W6jb7fbleDz+XCwWk8lksk+ZMQzD2jn3Tqy4W6iHw2Ga5/nrcrncz+fz9aXrQwh513VV3/eZmRHqf+6uj34zs9lstm+a5iNxeXHTzUDW3UP9Ls65wsyyK0ZwPn4gTxmqc66o6/rNe1+lzuB8/FieMlQzy7z3Vdu2u7IsL77IcT5+PM8aqpmZlWXJ+fhJ8MIfEggVEggVEggVEr50mQoh5JcO3mw2uZnZdrvNV6vV66XrQwj5OI5TS/uvgD+dTtOUfd/gu5HmM8b41zc0vwBqi4gOa6JqKQAAAABJRU5ErkJggg==\"></img></td>\n",
              "      <td id=\"T_2aa19_row7_col5\" class=\"data row7 col5\" >0<br>(0.0%)</td>\n",
              "    </tr>\n",
              "    <tr>\n",
              "      <td id=\"T_2aa19_row8_col0\" class=\"data row8 col0\" >9</td>\n",
              "      <td id=\"T_2aa19_row8_col1\" class=\"data row8 col1\" ><strong>Ticket</strong><br>[object]</td>\n",
              "      <td id=\"T_2aa19_row8_col2\" class=\"data row8 col2\" >1. 347082<br>2. CA. 2343<br>3. 1601<br>4. 3101295<br>5. CA 2144<br>6. 347088<br>7. S.O.C. 14879<br>8. 382652<br>9. LINE<br>10. PC 17757<br>11. other</td>\n",
              "      <td id=\"T_2aa19_row8_col3\" class=\"data row8 col3\" >7 (0.8%)<br>7 (0.8%)<br>7 (0.8%)<br>6 (0.7%)<br>6 (0.7%)<br>6 (0.7%)<br>5 (0.6%)<br>5 (0.6%)<br>4 (0.4%)<br>4 (0.4%)<br>834 (93.6%)</td>\n",
              "      <td id=\"T_2aa19_row8_col4\" class=\"data row8 col4\" ><img src = \"data:image/png;base64, iVBORw0KGgoAAAANSUhEUgAAAJsAAAD+CAYAAAAtWHdlAAAAOXRFWHRTb2Z0d2FyZQBNYXRwbG90bGliIHZlcnNpb24zLjguMCwgaHR0cHM6Ly9tYXRwbG90bGliLm9yZy81sbWrAAAACXBIWXMAAA9hAAAPYQGoP6dpAAADfUlEQVR4nO3cPW4TUQBG0efIikgzlmXJi/EislgW4d1YlqcgUZqhIDQUYP6uhTmnoqCY4mo8PL2P1bIsAwoPt34A/h9iIyM2MmIjIzYyYiMjNjJiIyM2MqsxxtMYYyzL8nLjZ+HOrXe73fMYY6xWq4+C4296mKZpO03TdozxeOuH4b75ZiMjNjJiIyM2MmIjIzYyYiMjNjJiIyM2MmIjIzYyYiMjNjJiIyM2Mut5ns/vf3676ZNw92wQyKz8l1lUvNnIWFeRsa4i4+iDjNjIiI2M2MiIjYzYyIiNjNjIiI2M2MiIjYzYyIiNjNjIiI2MwQsZ18LJGLyQ8WYjY/BCxuCFjKMPMmIjIzYyYiMjNjJiIyM2MmIjIzYyYiMjNjJiIyM2MmIjIzYyBi9kXAsnY/BCxjcbGT+jZKyryFhXkfHNRkZsZMRGRmxkxEZGbGTERkZsZMRGRmxkxEZGbGTERkZsZMRGxrqKjGvhZKyryHizkTF4IWPwQsbRBxmxkREbGbGRERsZsZERGxmxkREbGbGRERsZsZERGxmxkREbGYMXMq6FkzF4IePNRsbghYzBCxlHH2TERkZsZMRGRmxkxEZGbGTERkZsZMRGRmxkxEZGbGTERkZsZMRGxrqKjA0CGesqMt5sZKyryFhXkXH0QUZsZMRGRmxkxEZGbGTERkZsZMRGRmxkxEZGbGTERkZsZMRGxuCFjGvhZAxeyHizkTF4IWPwQsbRBxmxkREbGbGRERsZsZERGxmxkREbGbGRERsZsZERGxmxkREbGYMXMq6FkzF4IeObjYyfUTLWVWSsq8j4ZiMjNjJiIyM2MmIjIzYyYiMjNjJiIyM2MmIjIzYyYiMjNjJiI2NdRca1cDLWVWS82cgYvJAxeCHj6IOM2MiIjYzYyIiNjNjIiI2M2MiIjYzYyIiNjNjIiI2M2MiIjYzBCxnXwskYvJD5+mZzJZzf8XbNL+N6t9s9v28Q4JfM83y+ZjC1nqZpezgcXjabzWv1cNyPy+Xy4Xg8bk+n0+MY4/uxjTHGZrN53e/3n5Kn4x49XfOXnLORERsZsZERGxmxkREbGbGRERsZsZERGxmxkREbGbGRWY/x5ZrIrR+Ef9PPtLOe5/l8PB6348prIvCt99HUDwdTroXzJ1x1LdzghYx/IJARGxmxkREbGbGRERsZsZERGxmxkfkMN8cQJ9LzEfAAAAAASUVORK5CYII=\"></img></td>\n",
              "      <td id=\"T_2aa19_row8_col5\" class=\"data row8 col5\" >0<br>(0.0%)</td>\n",
              "    </tr>\n",
              "    <tr>\n",
              "      <td id=\"T_2aa19_row9_col0\" class=\"data row9 col0\" >10</td>\n",
              "      <td id=\"T_2aa19_row9_col1\" class=\"data row9 col1\" ><strong>Fare</strong><br>[float64]</td>\n",
              "      <td id=\"T_2aa19_row9_col2\" class=\"data row9 col2\" >Mean (sd) : 32.2 (49.7)<br>min < med < max:<br>0.0 < 14.5 < 512.3<br>IQR (CV) : 23.1 (0.6)</td>\n",
              "      <td id=\"T_2aa19_row9_col3\" class=\"data row9 col3\" >248 distinct values</td>\n",
              "      <td id=\"T_2aa19_row9_col4\" class=\"data row9 col4\" ><img src = \"data:image/png;base64, iVBORw0KGgoAAAANSUhEUgAAAKoAAABGCAYAAABc8A97AAAAOXRFWHRTb2Z0d2FyZQBNYXRwbG90bGliIHZlcnNpb24zLjguMCwgaHR0cHM6Ly9tYXRwbG90bGliLm9yZy81sbWrAAAACXBIWXMAAA9hAAAPYQGoP6dpAAACKklEQVR4nO3Zu47aUBRG4b25yQzIFiCZjiZ9Ckr6tHnYadP7LfICSBbYwgMBOSdFpDS5MBxA4Z9ZX83eGGkJm4OHEAx4dJ3/fQHAa/TOvcDdh2Y2iNx/DCHsI2eBX/4ZqrsPZ7PZ5zRNJzHL67reuPszseJa575RB2maTlar1T7LssMli6uqSoqimJRlOTAzQsVVzt76zcyyLDvkef4SsX8YMQP8hh9TkECokECokECokECokECokECokECokECokECokECokECokECokECokECokECokECokECokECokECokECokECokECokECokECokECokECokECokECokECokECokECokECokECokECokECokECokECokECokECokECokECokECokECokECokECokECokECokECokECokECokECokECokNC75/K2bftmlrp77IpjCGF/w0uCqLuF2jRN/3Q6fVwsFt1ut3uI2VHX9cbdn4kVdwv1eDz2kiR5Wi6Xh/l8vrl0vqqqpCiKSVmWAzMj1Hfurrd+M7PRaHTI8/wlcnx404uBLH5MQQKhQgKhQsLdn1GvceXxFkdbb8jDhnrt8RZHW2/Lw4Z6zfHWLY623H1oZoOYWfv5SPU9cpY7wR+8KtSqqpJLF+92u8TMrGmaZL1eP8XOx2rbtmfxjw3JdDr9lGXZOOJ9+03TfBiPx187nc7p0vntdrtz9y9mFvUnibBvIYS/fuYfog+acM55WAYAAAAASUVORK5CYII=\"></img></td>\n",
              "      <td id=\"T_2aa19_row9_col5\" class=\"data row9 col5\" >0<br>(0.0%)</td>\n",
              "    </tr>\n",
              "    <tr>\n",
              "      <td id=\"T_2aa19_row10_col0\" class=\"data row10 col0\" >11</td>\n",
              "      <td id=\"T_2aa19_row10_col1\" class=\"data row10 col1\" ><strong>Cabin</strong><br>[object]</td>\n",
              "      <td id=\"T_2aa19_row10_col2\" class=\"data row10 col2\" >1. nan<br>2. C23 C25 C27<br>3. G6<br>4. B96 B98<br>5. C22 C26<br>6. D<br>7. F33<br>8. E101<br>9. F2<br>10. B20<br>11. other</td>\n",
              "      <td id=\"T_2aa19_row10_col3\" class=\"data row10 col3\" >687 (77.1%)<br>4 (0.4%)<br>4 (0.4%)<br>4 (0.4%)<br>3 (0.3%)<br>3 (0.3%)<br>3 (0.3%)<br>3 (0.3%)<br>3 (0.3%)<br>2 (0.2%)<br>175 (19.6%)</td>\n",
              "      <td id=\"T_2aa19_row10_col4\" class=\"data row10 col4\" ><img src = \"data:image/png;base64, iVBORw0KGgoAAAANSUhEUgAAAJsAAAD+CAYAAAAtWHdlAAAAOXRFWHRTb2Z0d2FyZQBNYXRwbG90bGliIHZlcnNpb24zLjguMCwgaHR0cHM6Ly9tYXRwbG90bGliLm9yZy81sbWrAAAACXBIWXMAAA9hAAAPYQGoP6dpAAAD+klEQVR4nO3dwU0jaRhF0c/IYmBjy7JECDM5OAiC7SAcxOSAELVoGDbMoiEDuGXBOQn4l/qqXJTqtTdvb28Dhau1D8DPITYyYiMjNjJiIyM2MmIjIzYyYiOzmZnbmble+yB8mde3t7fntQ8xM7M9Ho/3u93usPZB+BrLsjxuNptflxDcdrfbHU6n0/N+v39Z+zB8rqenp5vz+Xx4eHi4npn1Y5uZ2e/3L3d3d7/XPgxf4nbtA3zwBwIZsZERGxmxkREbGbGRERsZsZERGxmxkREbGbGRERsZsZHZzvx572ntg/D5Lu3fdbssy+P5fD7MBb33xOdZluVxZl7XPseMDcJPcDEbhI3/MovKx5VtLqV+vq/t8Xi8n5m5lAUO39fVbrc7vE/53LfxpTxnIyM2MmIjIzYyYiMjNjJiIyM2MmIjIzYyYiMjNjJiIyM2MmIjs30fRMxcyCiC78tr4WQMXsi4spExeCFj8ELGow8yYiMjNjJiIyM2MmIjIzYyYiMjNjJiIyM2MmIjIzYyYiMjNjIGL2S8Fk7G4IWMezYyvkbJWFeRsa4i456NjNjIiI2M2MiIjYzYyIiNjNjIiI2M2MiIjYzYyIiNjNjIiI2MdRUZr4WTsa4i48pGxuCFjMELGY8+yIiNjNjIiI2M2MiIjYzYyIiNjNjIiI2M2MiIjYzYyIiNjNjIGLyQ8Vo4GYMXMq5sZAxeyBi8kPHog4zYyIiNjNjIiI2M2MiIjYzYyIiNjNjIiI2M2MiIjYzYyIiNjNjIWFeRsUEgY11FxpWNjHUVGesqMh59kBEbGbGRERsZsZERGxmxkREbGbGRERsZsZERGxmxkREbGbGRMXgh47VwMgYvZFzZyBi8kDF4IePRBxmxkREbGbGRERsZsZERGxmxkREbGbGRERsZsZERGxmxkREbGYMXMl4LJ2PwQsY9Gxlfo2Ssq8hYV5Fxz0ZGbGTERkZsZMRGRmxkxEZGbGTERkZsZMRGRmxkxEZGbGTERsa6iozXwslYV5Fxz0bmarPZ/LPZbG7WPgjf39XM/D0zf619EL4/X6NkxEZGbGTERkZsZMRGRmxkxEZGbGTERkZsZMRGRmxkxEZGbGSuZubfmflv7YPw/dkgkPE1SuZjyrfGbyC8mg/+LNvj8Xj//qMbqWVZHv2qzM+y3e12h9Pp9Lzf71+qD316ero5n8+Hh4eH65kR2w+xnZnZ7/cvd3d3v+PPvo0/j5X5A4GM2MiIjYzYyIiNjNjIiI2M2MiIjYzYyIiNjNjIiI3MdubPKz/lh9afx2XYLsvyeD6fDxO/8vP+yzJ+VeYH8Vo4GesqMv5AICM2MmIjIzYyYiMjNjJiIyM2MmIj8z92GB/TLz5SvAAAAABJRU5ErkJggg==\"></img></td>\n",
              "      <td id=\"T_2aa19_row10_col5\" class=\"data row10 col5\" >687<br>(77.1%)</td>\n",
              "    </tr>\n",
              "    <tr>\n",
              "      <td id=\"T_2aa19_row11_col0\" class=\"data row11 col0\" >12</td>\n",
              "      <td id=\"T_2aa19_row11_col1\" class=\"data row11 col1\" ><strong>Embarked</strong><br>[object]</td>\n",
              "      <td id=\"T_2aa19_row11_col2\" class=\"data row11 col2\" >1. S<br>2. C<br>3. Q<br>4. nan</td>\n",
              "      <td id=\"T_2aa19_row11_col3\" class=\"data row11 col3\" >644 (72.3%)<br>168 (18.9%)<br>77 (8.6%)<br>2 (0.2%)</td>\n",
              "      <td id=\"T_2aa19_row11_col4\" class=\"data row11 col4\" ><img src = \"data:image/png;base64, iVBORw0KGgoAAAANSUhEUgAAAJsAAABcCAYAAAB5jMeAAAAAOXRFWHRTb2Z0d2FyZQBNYXRwbG90bGliIHZlcnNpb24zLjguMCwgaHR0cHM6Ly9tYXRwbG90bGliLm9yZy81sbWrAAAACXBIWXMAAA9hAAAPYQGoP6dpAAAB+ElEQVR4nO3bsW3bYBSF0UdBcOKGhCBAIyQ7aIgMmyE4RHYQBLGIHTdMkSKtSCj3D+1zJniAP0imwNvN81yQsGt9AB+H2Ijpquq5qp5aH8Jqb/M8v7Q+4h774/H4re/7Q+tDWGeapmvXdd+3ENy+7/vD+Xx+GYbhtfUxLHO73T6P43i4XC5PVfX/x1ZVNQzD6+l0+tn6GFZ5bn3AvTwgECM2YsRGjNiIERsxYiNGbMSIjRixESM2YsRGjNiIERsx+6o/r6q0PoTltvZ320/TdB3H8VAbelWFv6ZpulbVW+s77uG18O3bzGvhnSkfKR4QiGn1NbqZj34ep8m6akuLIB4nvq7a2iKIx2m1rvIzywfkAYEYsREjNmLERozYiBEbMWIjRmzEiI0YsREjNmLERozYiBEbMfEp39bmZzxOkynfluZnPI4NAjGmfMSs/WTzycRiq9ZV1lGssXhdZR3FWmvXVdZRLOZHXWLERozYiBEbMWIjRmzEiI0YsREjNmLERozYiBEbMWIjRmzELF5XWUex1qp1lXUUa9ggEGNdRYwHBGJ2Xdd97brOP/38c7uq+lJVn1ofwvvna5QYsREjNmLERozYiBEbMWIjRmzEiI0YsREjNmLERozYiBEbMWIjRmzE7KrqR1X9an0I75/BCzG+RokRGzG/AT4QqKndx64EAAAAAElFTkSuQmCC\"></img></td>\n",
              "      <td id=\"T_2aa19_row11_col5\" class=\"data row11 col5\" >2<br>(0.2%)</td>\n",
              "    </tr>\n",
              "  </tbody>\n",
              "</table>\n"
            ],
            "text/plain": [
              "<pandas.io.formats.style.Styler at 0x17f04b96e10>"
            ]
          },
          "execution_count": 12,
          "metadata": {},
          "output_type": "execute_result"
        }
      ],
      "source": [
        "dfSummary(data)"
      ]
    },
    {
      "cell_type": "code",
      "execution_count": null,
      "id": "429fdc7e-daf3-4fa0-abda-6c1e7b573ba2",
      "metadata": {
        "id": "429fdc7e-daf3-4fa0-abda-6c1e7b573ba2",
        "outputId": "f3dc264d-6cf2-4daf-fcb9-89cbcedf4a19"
      },
      "outputs": [
        {
          "data": {
            "text/html": [
              "<pre style=\"white-space:pre;overflow-x:auto;line-height:normal;font-family:Menlo,'DejaVu Sans Mono',consolas,'Courier New',monospace\">╭──────────────────────────────────────────────── skimpy summary ─────────────────────────────────────────────────╮\n",
              "│ <span style=\"font-style: italic\">         Data Summary         </span> <span style=\"font-style: italic\">      Data Types       </span>                                                          │\n",
              "│ ┏━━━━━━━━━━━━━━━━━━━┳━━━━━━━━┓ ┏━━━━━━━━━━━━━┳━━━━━━━┓                                                          │\n",
              "│ ┃<span style=\"color: #008080; text-decoration-color: #008080; font-weight: bold\"> dataframe         </span>┃<span style=\"color: #008080; text-decoration-color: #008080; font-weight: bold\"> Values </span>┃ ┃<span style=\"color: #008080; text-decoration-color: #008080; font-weight: bold\"> Column Type </span>┃<span style=\"color: #008080; text-decoration-color: #008080; font-weight: bold\"> Count </span>┃                                                          │\n",
              "│ ┡━━━━━━━━━━━━━━━━━━━╇━━━━━━━━┩ ┡━━━━━━━━━━━━━╇━━━━━━━┩                                                          │\n",
              "│ │ Number of rows    │ 891    │ │ int32       │ 5     │                                                          │\n",
              "│ │ Number of columns │ 12     │ │ string      │ 5     │                                                          │\n",
              "│ └───────────────────┴────────┘ │ float64     │ 2     │                                                          │\n",
              "│                                └─────────────┴───────┘                                                          │\n",
              "│ <span style=\"font-style: italic\">                                                    number                                                    </span>  │\n",
              "│ ┏━━━━━━━━━━━━━━━━┳━━━━━━┳━━━━━━━━━┳━━━━━━━━━━┳━━━━━━━━━━┳━━━━━━━┳━━━━━━━━┳━━━━━━━━┳━━━━━━━━┳━━━━━━━━┳━━━━━━━━┓  │\n",
              "│ ┃<span style=\"font-weight: bold\"> column_name    </span>┃<span style=\"font-weight: bold\"> NA   </span>┃<span style=\"font-weight: bold\"> NA %    </span>┃<span style=\"font-weight: bold\"> mean     </span>┃<span style=\"font-weight: bold\"> sd       </span>┃<span style=\"font-weight: bold\"> p0    </span>┃<span style=\"font-weight: bold\"> p25    </span>┃<span style=\"font-weight: bold\"> p50    </span>┃<span style=\"font-weight: bold\"> p75    </span>┃<span style=\"font-weight: bold\"> p100   </span>┃<span style=\"font-weight: bold\"> hist   </span>┃  │\n",
              "│ ┡━━━━━━━━━━━━━━━━╇━━━━━━╇━━━━━━━━━╇━━━━━━━━━━╇━━━━━━━━━━╇━━━━━━━╇━━━━━━━━╇━━━━━━━━╇━━━━━━━━╇━━━━━━━━╇━━━━━━━━┩  │\n",
              "│ │ <span style=\"color: #af87ff; text-decoration-color: #af87ff\">PassengerId   </span> │ <span style=\"color: #008080; text-decoration-color: #008080\">   0</span> │ <span style=\"color: #008080; text-decoration-color: #008080\">      0</span> │ <span style=\"color: #008080; text-decoration-color: #008080\">     446</span> │ <span style=\"color: #008080; text-decoration-color: #008080\">   257.4</span> │ <span style=\"color: #008080; text-decoration-color: #008080\">    1</span> │ <span style=\"color: #008080; text-decoration-color: #008080\"> 223.5</span> │ <span style=\"color: #008080; text-decoration-color: #008080\">   446</span> │ <span style=\"color: #008080; text-decoration-color: #008080\"> 668.5</span> │ <span style=\"color: #008080; text-decoration-color: #008080\">   891</span> │ <span style=\"color: #008000; text-decoration-color: #008000\">▇▇▇▇▇▇</span> │  │\n",
              "│ │ <span style=\"color: #af87ff; text-decoration-color: #af87ff\">Survived      </span> │ <span style=\"color: #008080; text-decoration-color: #008080\">   0</span> │ <span style=\"color: #008080; text-decoration-color: #008080\">      0</span> │ <span style=\"color: #008080; text-decoration-color: #008080\">  0.3838</span> │ <span style=\"color: #008080; text-decoration-color: #008080\">  0.4866</span> │ <span style=\"color: #008080; text-decoration-color: #008080\">    0</span> │ <span style=\"color: #008080; text-decoration-color: #008080\">     0</span> │ <span style=\"color: #008080; text-decoration-color: #008080\">     0</span> │ <span style=\"color: #008080; text-decoration-color: #008080\">     1</span> │ <span style=\"color: #008080; text-decoration-color: #008080\">     1</span> │ <span style=\"color: #008000; text-decoration-color: #008000\">▇    ▅</span> │  │\n",
              "│ │ <span style=\"color: #af87ff; text-decoration-color: #af87ff\">Pclass        </span> │ <span style=\"color: #008080; text-decoration-color: #008080\">   0</span> │ <span style=\"color: #008080; text-decoration-color: #008080\">      0</span> │ <span style=\"color: #008080; text-decoration-color: #008080\">   2.309</span> │ <span style=\"color: #008080; text-decoration-color: #008080\">  0.8361</span> │ <span style=\"color: #008080; text-decoration-color: #008080\">    1</span> │ <span style=\"color: #008080; text-decoration-color: #008080\">     2</span> │ <span style=\"color: #008080; text-decoration-color: #008080\">     3</span> │ <span style=\"color: #008080; text-decoration-color: #008080\">     3</span> │ <span style=\"color: #008080; text-decoration-color: #008080\">     3</span> │ <span style=\"color: #008000; text-decoration-color: #008000\">▃  ▃ ▇</span> │  │\n",
              "│ │ <span style=\"color: #af87ff; text-decoration-color: #af87ff\">Age           </span> │ <span style=\"color: #008080; text-decoration-color: #008080\"> 177</span> │ <span style=\"color: #008080; text-decoration-color: #008080\">  19.87</span> │ <span style=\"color: #008080; text-decoration-color: #008080\">    29.7</span> │ <span style=\"color: #008080; text-decoration-color: #008080\">   14.53</span> │ <span style=\"color: #008080; text-decoration-color: #008080\"> 0.42</span> │ <span style=\"color: #008080; text-decoration-color: #008080\"> 20.12</span> │ <span style=\"color: #008080; text-decoration-color: #008080\">    28</span> │ <span style=\"color: #008080; text-decoration-color: #008080\">    38</span> │ <span style=\"color: #008080; text-decoration-color: #008080\">    80</span> │ <span style=\"color: #008000; text-decoration-color: #008000\">▂▇▇▃▁ </span> │  │\n",
              "│ │ <span style=\"color: #af87ff; text-decoration-color: #af87ff\">SibSp         </span> │ <span style=\"color: #008080; text-decoration-color: #008080\">   0</span> │ <span style=\"color: #008080; text-decoration-color: #008080\">      0</span> │ <span style=\"color: #008080; text-decoration-color: #008080\">   0.523</span> │ <span style=\"color: #008080; text-decoration-color: #008080\">   1.103</span> │ <span style=\"color: #008080; text-decoration-color: #008080\">    0</span> │ <span style=\"color: #008080; text-decoration-color: #008080\">     0</span> │ <span style=\"color: #008080; text-decoration-color: #008080\">     0</span> │ <span style=\"color: #008080; text-decoration-color: #008080\">     1</span> │ <span style=\"color: #008080; text-decoration-color: #008080\">     8</span> │ <span style=\"color: #008000; text-decoration-color: #008000\">  ▇   </span> │  │\n",
              "│ │ <span style=\"color: #af87ff; text-decoration-color: #af87ff\">Parch         </span> │ <span style=\"color: #008080; text-decoration-color: #008080\">   0</span> │ <span style=\"color: #008080; text-decoration-color: #008080\">      0</span> │ <span style=\"color: #008080; text-decoration-color: #008080\">  0.3816</span> │ <span style=\"color: #008080; text-decoration-color: #008080\">  0.8061</span> │ <span style=\"color: #008080; text-decoration-color: #008080\">    0</span> │ <span style=\"color: #008080; text-decoration-color: #008080\">     0</span> │ <span style=\"color: #008080; text-decoration-color: #008080\">     0</span> │ <span style=\"color: #008080; text-decoration-color: #008080\">     0</span> │ <span style=\"color: #008080; text-decoration-color: #008080\">     6</span> │ <span style=\"color: #008000; text-decoration-color: #008000\"> ▇▁▁  </span> │  │\n",
              "│ │ <span style=\"color: #af87ff; text-decoration-color: #af87ff\">Fare          </span> │ <span style=\"color: #008080; text-decoration-color: #008080\">   0</span> │ <span style=\"color: #008080; text-decoration-color: #008080\">      0</span> │ <span style=\"color: #008080; text-decoration-color: #008080\">    32.2</span> │ <span style=\"color: #008080; text-decoration-color: #008080\">   49.69</span> │ <span style=\"color: #008080; text-decoration-color: #008080\">    0</span> │ <span style=\"color: #008080; text-decoration-color: #008080\">  7.91</span> │ <span style=\"color: #008080; text-decoration-color: #008080\"> 14.45</span> │ <span style=\"color: #008080; text-decoration-color: #008080\">    31</span> │ <span style=\"color: #008080; text-decoration-color: #008080\"> 512.3</span> │ <span style=\"color: #008000; text-decoration-color: #008000\">  ▇   </span> │  │\n",
              "│ └────────────────┴──────┴─────────┴──────────┴──────────┴───────┴────────┴────────┴────────┴────────┴────────┘  │\n",
              "│ <span style=\"font-style: italic\">                                                    string                                                    </span>  │\n",
              "│ ┏━━━━━━━━━━━━━━━━━━━━━━━━━━┳━━━━━━━━━━┳━━━━━━━━━━━━┳━━━━━━━━━━━━━━━━━━━━━━━━━━━━━━┳━━━━━━━━━━━━━━━━━━━━━━━━━━┓  │\n",
              "│ ┃<span style=\"font-weight: bold\"> column_name              </span>┃<span style=\"font-weight: bold\"> NA       </span>┃<span style=\"font-weight: bold\"> NA %       </span>┃<span style=\"font-weight: bold\"> words per row                </span>┃<span style=\"font-weight: bold\"> total words              </span>┃  │\n",
              "│ ┡━━━━━━━━━━━━━━━━━━━━━━━━━━╇━━━━━━━━━━╇━━━━━━━━━━━━╇━━━━━━━━━━━━━━━━━━━━━━━━━━━━━━╇━━━━━━━━━━━━━━━━━━━━━━━━━━┩  │\n",
              "│ │ <span style=\"color: #af87ff; text-decoration-color: #af87ff\">Name                    </span> │ <span style=\"color: #008080; text-decoration-color: #008080\">       0</span> │ <span style=\"color: #008080; text-decoration-color: #008080\">         0</span> │ <span style=\"color: #008080; text-decoration-color: #008080\">                         4.1</span> │ <span style=\"color: #008080; text-decoration-color: #008080\">                    3626</span> │  │\n",
              "│ │ <span style=\"color: #af87ff; text-decoration-color: #af87ff\">Sex                     </span> │ <span style=\"color: #008080; text-decoration-color: #008080\">       0</span> │ <span style=\"color: #008080; text-decoration-color: #008080\">         0</span> │ <span style=\"color: #008080; text-decoration-color: #008080\">                           1</span> │ <span style=\"color: #008080; text-decoration-color: #008080\">                     891</span> │  │\n",
              "│ │ <span style=\"color: #af87ff; text-decoration-color: #af87ff\">Ticket                  </span> │ <span style=\"color: #008080; text-decoration-color: #008080\">       0</span> │ <span style=\"color: #008080; text-decoration-color: #008080\">         0</span> │ <span style=\"color: #008080; text-decoration-color: #008080\">                         1.3</span> │ <span style=\"color: #008080; text-decoration-color: #008080\">                    1130</span> │  │\n",
              "│ │ <span style=\"color: #af87ff; text-decoration-color: #af87ff\">Cabin                   </span> │ <span style=\"color: #008080; text-decoration-color: #008080\">     687</span> │ <span style=\"color: #008080; text-decoration-color: #008080\">      77.1</span> │ <span style=\"color: #008080; text-decoration-color: #008080\">                        0.27</span> │ <span style=\"color: #008080; text-decoration-color: #008080\">                     238</span> │  │\n",
              "│ │ <span style=\"color: #af87ff; text-decoration-color: #af87ff\">Embarked                </span> │ <span style=\"color: #008080; text-decoration-color: #008080\">       2</span> │ <span style=\"color: #008080; text-decoration-color: #008080\">      0.22</span> │ <span style=\"color: #008080; text-decoration-color: #008080\">                           1</span> │ <span style=\"color: #008080; text-decoration-color: #008080\">                     889</span> │  │\n",
              "│ └──────────────────────────┴──────────┴────────────┴──────────────────────────────┴──────────────────────────┘  │\n",
              "╰────────────────────────────────────────────────────── End ──────────────────────────────────────────────────────╯\n",
              "</pre>\n"
            ],
            "text/plain": [
              "╭──────────────────────────────────────────────── skimpy summary ─────────────────────────────────────────────────╮\n",
              "│ \u001b[3m         Data Summary         \u001b[0m \u001b[3m      Data Types       \u001b[0m                                                          │\n",
              "│ ┏━━━━━━━━━━━━━━━━━━━┳━━━━━━━━┓ ┏━━━━━━━━━━━━━┳━━━━━━━┓                                                          │\n",
              "│ ┃\u001b[1;36m \u001b[0m\u001b[1;36mdataframe        \u001b[0m\u001b[1;36m \u001b[0m┃\u001b[1;36m \u001b[0m\u001b[1;36mValues\u001b[0m\u001b[1;36m \u001b[0m┃ ┃\u001b[1;36m \u001b[0m\u001b[1;36mColumn Type\u001b[0m\u001b[1;36m \u001b[0m┃\u001b[1;36m \u001b[0m\u001b[1;36mCount\u001b[0m\u001b[1;36m \u001b[0m┃                                                          │\n",
              "│ ┡━━━━━━━━━━━━━━━━━━━╇━━━━━━━━┩ ┡━━━━━━━━━━━━━╇━━━━━━━┩                                                          │\n",
              "│ │ Number of rows    │ 891    │ │ int32       │ 5     │                                                          │\n",
              "│ │ Number of columns │ 12     │ │ string      │ 5     │                                                          │\n",
              "│ └───────────────────┴────────┘ │ float64     │ 2     │                                                          │\n",
              "│                                └─────────────┴───────┘                                                          │\n",
              "│ \u001b[3m                                                    number                                                    \u001b[0m  │\n",
              "│ ┏━━━━━━━━━━━━━━━━┳━━━━━━┳━━━━━━━━━┳━━━━━━━━━━┳━━━━━━━━━━┳━━━━━━━┳━━━━━━━━┳━━━━━━━━┳━━━━━━━━┳━━━━━━━━┳━━━━━━━━┓  │\n",
              "│ ┃\u001b[1m \u001b[0m\u001b[1mcolumn_name   \u001b[0m\u001b[1m \u001b[0m┃\u001b[1m \u001b[0m\u001b[1mNA  \u001b[0m\u001b[1m \u001b[0m┃\u001b[1m \u001b[0m\u001b[1mNA %   \u001b[0m\u001b[1m \u001b[0m┃\u001b[1m \u001b[0m\u001b[1mmean    \u001b[0m\u001b[1m \u001b[0m┃\u001b[1m \u001b[0m\u001b[1msd      \u001b[0m\u001b[1m \u001b[0m┃\u001b[1m \u001b[0m\u001b[1mp0   \u001b[0m\u001b[1m \u001b[0m┃\u001b[1m \u001b[0m\u001b[1mp25   \u001b[0m\u001b[1m \u001b[0m┃\u001b[1m \u001b[0m\u001b[1mp50   \u001b[0m\u001b[1m \u001b[0m┃\u001b[1m \u001b[0m\u001b[1mp75   \u001b[0m\u001b[1m \u001b[0m┃\u001b[1m \u001b[0m\u001b[1mp100  \u001b[0m\u001b[1m \u001b[0m┃\u001b[1m \u001b[0m\u001b[1mhist  \u001b[0m\u001b[1m \u001b[0m┃  │\n",
              "│ ┡━━━━━━━━━━━━━━━━╇━━━━━━╇━━━━━━━━━╇━━━━━━━━━━╇━━━━━━━━━━╇━━━━━━━╇━━━━━━━━╇━━━━━━━━╇━━━━━━━━╇━━━━━━━━╇━━━━━━━━┩  │\n",
              "│ │ \u001b[38;5;141mPassengerId   \u001b[0m │ \u001b[36m   0\u001b[0m │ \u001b[36m      0\u001b[0m │ \u001b[36m     446\u001b[0m │ \u001b[36m   257.4\u001b[0m │ \u001b[36m    1\u001b[0m │ \u001b[36m 223.5\u001b[0m │ \u001b[36m   446\u001b[0m │ \u001b[36m 668.5\u001b[0m │ \u001b[36m   891\u001b[0m │ \u001b[32m▇▇▇▇▇▇\u001b[0m │  │\n",
              "│ │ \u001b[38;5;141mSurvived      \u001b[0m │ \u001b[36m   0\u001b[0m │ \u001b[36m      0\u001b[0m │ \u001b[36m  0.3838\u001b[0m │ \u001b[36m  0.4866\u001b[0m │ \u001b[36m    0\u001b[0m │ \u001b[36m     0\u001b[0m │ \u001b[36m     0\u001b[0m │ \u001b[36m     1\u001b[0m │ \u001b[36m     1\u001b[0m │ \u001b[32m▇    ▅\u001b[0m │  │\n",
              "│ │ \u001b[38;5;141mPclass        \u001b[0m │ \u001b[36m   0\u001b[0m │ \u001b[36m      0\u001b[0m │ \u001b[36m   2.309\u001b[0m │ \u001b[36m  0.8361\u001b[0m │ \u001b[36m    1\u001b[0m │ \u001b[36m     2\u001b[0m │ \u001b[36m     3\u001b[0m │ \u001b[36m     3\u001b[0m │ \u001b[36m     3\u001b[0m │ \u001b[32m▃  ▃ ▇\u001b[0m │  │\n",
              "│ │ \u001b[38;5;141mAge           \u001b[0m │ \u001b[36m 177\u001b[0m │ \u001b[36m  19.87\u001b[0m │ \u001b[36m    29.7\u001b[0m │ \u001b[36m   14.53\u001b[0m │ \u001b[36m 0.42\u001b[0m │ \u001b[36m 20.12\u001b[0m │ \u001b[36m    28\u001b[0m │ \u001b[36m    38\u001b[0m │ \u001b[36m    80\u001b[0m │ \u001b[32m▂▇▇▃▁ \u001b[0m │  │\n",
              "│ │ \u001b[38;5;141mSibSp         \u001b[0m │ \u001b[36m   0\u001b[0m │ \u001b[36m      0\u001b[0m │ \u001b[36m   0.523\u001b[0m │ \u001b[36m   1.103\u001b[0m │ \u001b[36m    0\u001b[0m │ \u001b[36m     0\u001b[0m │ \u001b[36m     0\u001b[0m │ \u001b[36m     1\u001b[0m │ \u001b[36m     8\u001b[0m │ \u001b[32m  ▇   \u001b[0m │  │\n",
              "│ │ \u001b[38;5;141mParch         \u001b[0m │ \u001b[36m   0\u001b[0m │ \u001b[36m      0\u001b[0m │ \u001b[36m  0.3816\u001b[0m │ \u001b[36m  0.8061\u001b[0m │ \u001b[36m    0\u001b[0m │ \u001b[36m     0\u001b[0m │ \u001b[36m     0\u001b[0m │ \u001b[36m     0\u001b[0m │ \u001b[36m     6\u001b[0m │ \u001b[32m ▇▁▁  \u001b[0m │  │\n",
              "│ │ \u001b[38;5;141mFare          \u001b[0m │ \u001b[36m   0\u001b[0m │ \u001b[36m      0\u001b[0m │ \u001b[36m    32.2\u001b[0m │ \u001b[36m   49.69\u001b[0m │ \u001b[36m    0\u001b[0m │ \u001b[36m  7.91\u001b[0m │ \u001b[36m 14.45\u001b[0m │ \u001b[36m    31\u001b[0m │ \u001b[36m 512.3\u001b[0m │ \u001b[32m  ▇   \u001b[0m │  │\n",
              "│ └────────────────┴──────┴─────────┴──────────┴──────────┴───────┴────────┴────────┴────────┴────────┴────────┘  │\n",
              "│ \u001b[3m                                                    string                                                    \u001b[0m  │\n",
              "│ ┏━━━━━━━━━━━━━━━━━━━━━━━━━━┳━━━━━━━━━━┳━━━━━━━━━━━━┳━━━━━━━━━━━━━━━━━━━━━━━━━━━━━━┳━━━━━━━━━━━━━━━━━━━━━━━━━━┓  │\n",
              "│ ┃\u001b[1m \u001b[0m\u001b[1mcolumn_name             \u001b[0m\u001b[1m \u001b[0m┃\u001b[1m \u001b[0m\u001b[1mNA      \u001b[0m\u001b[1m \u001b[0m┃\u001b[1m \u001b[0m\u001b[1mNA %      \u001b[0m\u001b[1m \u001b[0m┃\u001b[1m \u001b[0m\u001b[1mwords per row               \u001b[0m\u001b[1m \u001b[0m┃\u001b[1m \u001b[0m\u001b[1mtotal words             \u001b[0m\u001b[1m \u001b[0m┃  │\n",
              "│ ┡━━━━━━━━━━━━━━━━━━━━━━━━━━╇━━━━━━━━━━╇━━━━━━━━━━━━╇━━━━━━━━━━━━━━━━━━━━━━━━━━━━━━╇━━━━━━━━━━━━━━━━━━━━━━━━━━┩  │\n",
              "│ │ \u001b[38;5;141mName                    \u001b[0m │ \u001b[36m       0\u001b[0m │ \u001b[36m         0\u001b[0m │ \u001b[36m                         4.1\u001b[0m │ \u001b[36m                    3626\u001b[0m │  │\n",
              "│ │ \u001b[38;5;141mSex                     \u001b[0m │ \u001b[36m       0\u001b[0m │ \u001b[36m         0\u001b[0m │ \u001b[36m                           1\u001b[0m │ \u001b[36m                     891\u001b[0m │  │\n",
              "│ │ \u001b[38;5;141mTicket                  \u001b[0m │ \u001b[36m       0\u001b[0m │ \u001b[36m         0\u001b[0m │ \u001b[36m                         1.3\u001b[0m │ \u001b[36m                    1130\u001b[0m │  │\n",
              "│ │ \u001b[38;5;141mCabin                   \u001b[0m │ \u001b[36m     687\u001b[0m │ \u001b[36m      77.1\u001b[0m │ \u001b[36m                        0.27\u001b[0m │ \u001b[36m                     238\u001b[0m │  │\n",
              "│ │ \u001b[38;5;141mEmbarked                \u001b[0m │ \u001b[36m       2\u001b[0m │ \u001b[36m      0.22\u001b[0m │ \u001b[36m                           1\u001b[0m │ \u001b[36m                     889\u001b[0m │  │\n",
              "│ └──────────────────────────┴──────────┴────────────┴──────────────────────────────┴──────────────────────────┘  │\n",
              "╰────────────────────────────────────────────────────── End ──────────────────────────────────────────────────────╯\n"
            ]
          },
          "metadata": {},
          "output_type": "display_data"
        }
      ],
      "source": [
        "skim(data)"
      ]
    },
    {
      "cell_type": "code",
      "execution_count": null,
      "id": "b5d82fac-f00d-44bd-879a-a8ab770c6391",
      "metadata": {
        "id": "b5d82fac-f00d-44bd-879a-a8ab770c6391",
        "outputId": "6bd78fe5-7b75-4e0d-88ea-aa73e6cef1d4"
      },
      "outputs": [
        {
          "data": {
            "text/html": [
              "<div>\n",
              "<style scoped>\n",
              "    .dataframe tbody tr th:only-of-type {\n",
              "        vertical-align: middle;\n",
              "    }\n",
              "\n",
              "    .dataframe tbody tr th {\n",
              "        vertical-align: top;\n",
              "    }\n",
              "\n",
              "    .dataframe thead th {\n",
              "        text-align: right;\n",
              "    }\n",
              "</style>\n",
              "<table border=\"1\" class=\"dataframe\">\n",
              "  <thead>\n",
              "    <tr style=\"text-align: right;\">\n",
              "      <th></th>\n",
              "      <th>count</th>\n",
              "      <th>unique</th>\n",
              "      <th>top</th>\n",
              "      <th>freq</th>\n",
              "    </tr>\n",
              "  </thead>\n",
              "  <tbody>\n",
              "    <tr>\n",
              "      <th>Name</th>\n",
              "      <td>891</td>\n",
              "      <td>891</td>\n",
              "      <td>Braund, Mr. Owen Harris</td>\n",
              "      <td>1</td>\n",
              "    </tr>\n",
              "    <tr>\n",
              "      <th>Sex</th>\n",
              "      <td>891</td>\n",
              "      <td>2</td>\n",
              "      <td>male</td>\n",
              "      <td>577</td>\n",
              "    </tr>\n",
              "    <tr>\n",
              "      <th>Ticket</th>\n",
              "      <td>891</td>\n",
              "      <td>681</td>\n",
              "      <td>347082</td>\n",
              "      <td>7</td>\n",
              "    </tr>\n",
              "    <tr>\n",
              "      <th>Cabin</th>\n",
              "      <td>204</td>\n",
              "      <td>147</td>\n",
              "      <td>B96 B98</td>\n",
              "      <td>4</td>\n",
              "    </tr>\n",
              "    <tr>\n",
              "      <th>Embarked</th>\n",
              "      <td>889</td>\n",
              "      <td>3</td>\n",
              "      <td>S</td>\n",
              "      <td>644</td>\n",
              "    </tr>\n",
              "  </tbody>\n",
              "</table>\n",
              "</div>"
            ],
            "text/plain": [
              "         count unique                      top freq\n",
              "Name       891    891  Braund, Mr. Owen Harris    1\n",
              "Sex        891      2                     male  577\n",
              "Ticket     891    681                   347082    7\n",
              "Cabin      204    147                  B96 B98    4\n",
              "Embarked   889      3                        S  644"
            ]
          },
          "execution_count": 10,
          "metadata": {},
          "output_type": "execute_result"
        }
      ],
      "source": [
        "data.describe(include=\"object\").T"
      ]
    },
    {
      "cell_type": "code",
      "execution_count": null,
      "id": "cb2cfc1f-1471-4635-8bed-0298beac3cbc",
      "metadata": {
        "id": "cb2cfc1f-1471-4635-8bed-0298beac3cbc",
        "outputId": "977ae81d-aaf2-4b17-f91e-7b168f19cc18"
      },
      "outputs": [
        {
          "data": {
            "text/plain": [
              "Index(['Name', 'Sex', 'Ticket', 'Cabin', 'Embarked'], dtype='object')"
            ]
          },
          "execution_count": 11,
          "metadata": {},
          "output_type": "execute_result"
        }
      ],
      "source": [
        "cat_col = data.select_dtypes(include=['object'])\n",
        "cat_col.columns"
      ]
    },
    {
      "cell_type": "code",
      "execution_count": null,
      "id": "ed5f67fa-bfce-4ff3-84c5-51cd71d1e736",
      "metadata": {
        "id": "ed5f67fa-bfce-4ff3-84c5-51cd71d1e736",
        "outputId": "6915a524-ad97-4dba-d4ff-8cfe4692a9a5"
      },
      "outputs": [
        {
          "name": "stdout",
          "output_type": "stream",
          "text": [
            "Sex ['male' 'female']\n",
            "Sex\n",
            "male      577\n",
            "female    314\n",
            "Name: count, dtype: int64\n",
            "-----------------------------\n",
            "Embarked ['S' 'C' 'Q' nan]\n",
            "Embarked\n",
            "S    644\n",
            "C    168\n",
            "Q     77\n",
            "Name: count, dtype: int64\n",
            "-----------------------------\n"
          ]
        }
      ],
      "source": [
        "for i in cat_col.drop(columns=['Name',\"Ticket\",\"Cabin\"]):\n",
        "    print(i,data[i].unique())\n",
        "    print(data[i].value_counts())\n",
        "    print('-----------------------------')"
      ]
    },
    {
      "cell_type": "code",
      "execution_count": null,
      "id": "428105fa-fe96-4ceb-a860-9123c635b0f1",
      "metadata": {
        "id": "428105fa-fe96-4ceb-a860-9123c635b0f1",
        "outputId": "2b3cb6c2-64f1-4588-a6e7-6078a2d724bb"
      },
      "outputs": [
        {
          "data": {
            "text/plain": [
              "Index(['PassengerId', 'Survived', 'Pclass', 'Name', 'Sex', 'Age', 'SibSp',\n",
              "       'Parch', 'Ticket', 'Fare', 'Cabin', 'Embarked'],\n",
              "      dtype='object')"
            ]
          },
          "execution_count": 13,
          "metadata": {},
          "output_type": "execute_result"
        }
      ],
      "source": [
        "data.columns"
      ]
    },
    {
      "cell_type": "code",
      "execution_count": null,
      "id": "7be51dca-839b-41b7-af8e-22a091132826",
      "metadata": {
        "scrolled": true,
        "id": "7be51dca-839b-41b7-af8e-22a091132826",
        "outputId": "de423627-d740-4648-f978-cb845f018cf6"
      },
      "outputs": [
        {
          "data": {
            "text/plain": [
              "PassengerId      int64\n",
              "Survived         int64\n",
              "Pclass           int64\n",
              "Name            object\n",
              "Sex             object\n",
              "Age            float64\n",
              "SibSp            int64\n",
              "Parch            int64\n",
              "Ticket          object\n",
              "Fare           float64\n",
              "Cabin           object\n",
              "Embarked        object\n",
              "dtype: object"
            ]
          },
          "execution_count": 14,
          "metadata": {},
          "output_type": "execute_result"
        }
      ],
      "source": [
        "data.dtypes"
      ]
    },
    {
      "cell_type": "markdown",
      "id": "5b61fe68-e093-4b06-a11e-e956958571a1",
      "metadata": {
        "id": "5b61fe68-e093-4b06-a11e-e956958571a1"
      },
      "source": [
        "### Encoding"
      ]
    },
    {
      "cell_type": "code",
      "execution_count": null,
      "id": "a3cc3498-75a6-405c-bcb3-e5e6d0123aee",
      "metadata": {
        "id": "a3cc3498-75a6-405c-bcb3-e5e6d0123aee"
      },
      "outputs": [],
      "source": [
        "# Lable Encoding For sex\n",
        "# One Hot Encoding for Embarked"
      ]
    },
    {
      "cell_type": "code",
      "execution_count": null,
      "id": "2c139903-1700-4311-98b5-219b6a40c2a9",
      "metadata": {
        "id": "2c139903-1700-4311-98b5-219b6a40c2a9",
        "outputId": "8b2d5ec2-b71e-49b9-fdd1-ea01730ee45d"
      },
      "outputs": [
        {
          "data": {
            "text/html": [
              "<div>\n",
              "<style scoped>\n",
              "    .dataframe tbody tr th:only-of-type {\n",
              "        vertical-align: middle;\n",
              "    }\n",
              "\n",
              "    .dataframe tbody tr th {\n",
              "        vertical-align: top;\n",
              "    }\n",
              "\n",
              "    .dataframe thead th {\n",
              "        text-align: right;\n",
              "    }\n",
              "</style>\n",
              "<table border=\"1\" class=\"dataframe\">\n",
              "  <thead>\n",
              "    <tr style=\"text-align: right;\">\n",
              "      <th></th>\n",
              "      <th>PassengerId</th>\n",
              "      <th>Survived</th>\n",
              "      <th>Pclass</th>\n",
              "      <th>Name</th>\n",
              "      <th>Sex</th>\n",
              "      <th>Age</th>\n",
              "      <th>SibSp</th>\n",
              "      <th>Parch</th>\n",
              "      <th>Ticket</th>\n",
              "      <th>Fare</th>\n",
              "      <th>Cabin</th>\n",
              "      <th>Embarked</th>\n",
              "    </tr>\n",
              "  </thead>\n",
              "  <tbody>\n",
              "    <tr>\n",
              "      <th>0</th>\n",
              "      <td>1</td>\n",
              "      <td>0</td>\n",
              "      <td>3</td>\n",
              "      <td>Braund, Mr. Owen Harris</td>\n",
              "      <td>1</td>\n",
              "      <td>22.0</td>\n",
              "      <td>1</td>\n",
              "      <td>0</td>\n",
              "      <td>A/5 21171</td>\n",
              "      <td>7.2500</td>\n",
              "      <td>NaN</td>\n",
              "      <td>S</td>\n",
              "    </tr>\n",
              "    <tr>\n",
              "      <th>1</th>\n",
              "      <td>2</td>\n",
              "      <td>1</td>\n",
              "      <td>1</td>\n",
              "      <td>Cumings, Mrs. John Bradley (Florence Briggs Th...</td>\n",
              "      <td>0</td>\n",
              "      <td>38.0</td>\n",
              "      <td>1</td>\n",
              "      <td>0</td>\n",
              "      <td>PC 17599</td>\n",
              "      <td>71.2833</td>\n",
              "      <td>C85</td>\n",
              "      <td>C</td>\n",
              "    </tr>\n",
              "    <tr>\n",
              "      <th>2</th>\n",
              "      <td>3</td>\n",
              "      <td>1</td>\n",
              "      <td>3</td>\n",
              "      <td>Heikkinen, Miss. Laina</td>\n",
              "      <td>0</td>\n",
              "      <td>26.0</td>\n",
              "      <td>0</td>\n",
              "      <td>0</td>\n",
              "      <td>STON/O2. 3101282</td>\n",
              "      <td>7.9250</td>\n",
              "      <td>NaN</td>\n",
              "      <td>S</td>\n",
              "    </tr>\n",
              "    <tr>\n",
              "      <th>3</th>\n",
              "      <td>4</td>\n",
              "      <td>1</td>\n",
              "      <td>1</td>\n",
              "      <td>Futrelle, Mrs. Jacques Heath (Lily May Peel)</td>\n",
              "      <td>0</td>\n",
              "      <td>35.0</td>\n",
              "      <td>1</td>\n",
              "      <td>0</td>\n",
              "      <td>113803</td>\n",
              "      <td>53.1000</td>\n",
              "      <td>C123</td>\n",
              "      <td>S</td>\n",
              "    </tr>\n",
              "    <tr>\n",
              "      <th>4</th>\n",
              "      <td>5</td>\n",
              "      <td>0</td>\n",
              "      <td>3</td>\n",
              "      <td>Allen, Mr. William Henry</td>\n",
              "      <td>1</td>\n",
              "      <td>35.0</td>\n",
              "      <td>0</td>\n",
              "      <td>0</td>\n",
              "      <td>373450</td>\n",
              "      <td>8.0500</td>\n",
              "      <td>NaN</td>\n",
              "      <td>S</td>\n",
              "    </tr>\n",
              "  </tbody>\n",
              "</table>\n",
              "</div>"
            ],
            "text/plain": [
              "   PassengerId  Survived  Pclass  \\\n",
              "0            1         0       3   \n",
              "1            2         1       1   \n",
              "2            3         1       3   \n",
              "3            4         1       1   \n",
              "4            5         0       3   \n",
              "\n",
              "                                                Name  Sex   Age  SibSp  Parch  \\\n",
              "0                            Braund, Mr. Owen Harris    1  22.0      1      0   \n",
              "1  Cumings, Mrs. John Bradley (Florence Briggs Th...    0  38.0      1      0   \n",
              "2                             Heikkinen, Miss. Laina    0  26.0      0      0   \n",
              "3       Futrelle, Mrs. Jacques Heath (Lily May Peel)    0  35.0      1      0   \n",
              "4                           Allen, Mr. William Henry    1  35.0      0      0   \n",
              "\n",
              "             Ticket     Fare Cabin Embarked  \n",
              "0         A/5 21171   7.2500   NaN        S  \n",
              "1          PC 17599  71.2833   C85        C  \n",
              "2  STON/O2. 3101282   7.9250   NaN        S  \n",
              "3            113803  53.1000  C123        S  \n",
              "4            373450   8.0500   NaN        S  "
            ]
          },
          "execution_count": 16,
          "metadata": {},
          "output_type": "execute_result"
        }
      ],
      "source": [
        "# Lable Encoding\n",
        "from sklearn.preprocessing import LabelEncoder\n",
        "le = LabelEncoder()\n",
        "data['Sex'] = le.fit_transform(data['Sex'])\n",
        "data.head()"
      ]
    },
    {
      "cell_type": "code",
      "execution_count": null,
      "id": "8ad9bc23-c41e-4755-bc11-4ca2b7183143",
      "metadata": {
        "id": "8ad9bc23-c41e-4755-bc11-4ca2b7183143"
      },
      "outputs": [],
      "source": [
        "data2= data.copy()"
      ]
    },
    {
      "cell_type": "code",
      "execution_count": null,
      "id": "25b7fc38-ef56-4aa3-a605-92e2deade1f9",
      "metadata": {
        "scrolled": true,
        "id": "25b7fc38-ef56-4aa3-a605-92e2deade1f9"
      },
      "outputs": [],
      "source": [
        "# One Hot Encoding\n",
        "df1 = pd.get_dummies(data2['Embarked'],dtype='int',prefix ='Embarked', drop_first=True)\n",
        "data2 = pd.concat([data2,df1],axis=1).drop('Embarked',axis=1)"
      ]
    },
    {
      "cell_type": "code",
      "execution_count": null,
      "id": "4ef7670c-936f-4e7c-88d7-a261e9b7675b",
      "metadata": {
        "id": "4ef7670c-936f-4e7c-88d7-a261e9b7675b",
        "outputId": "0d249f57-8e5e-4edf-caef-f49554809eb2"
      },
      "outputs": [
        {
          "data": {
            "text/plain": [
              "array([1, 0])"
            ]
          },
          "execution_count": 19,
          "metadata": {},
          "output_type": "execute_result"
        }
      ],
      "source": [
        "data2.Embarked_S.unique()"
      ]
    },
    {
      "cell_type": "code",
      "execution_count": null,
      "id": "530c5939-8361-4a73-a680-9f2b70daef92",
      "metadata": {
        "scrolled": true,
        "id": "530c5939-8361-4a73-a680-9f2b70daef92",
        "outputId": "0b4c59a6-3cb9-46ff-9a71-3685b8344ced"
      },
      "outputs": [
        {
          "data": {
            "text/html": [
              "<div>\n",
              "<style scoped>\n",
              "    .dataframe tbody tr th:only-of-type {\n",
              "        vertical-align: middle;\n",
              "    }\n",
              "\n",
              "    .dataframe tbody tr th {\n",
              "        vertical-align: top;\n",
              "    }\n",
              "\n",
              "    .dataframe thead th {\n",
              "        text-align: right;\n",
              "    }\n",
              "</style>\n",
              "<table border=\"1\" class=\"dataframe\">\n",
              "  <thead>\n",
              "    <tr style=\"text-align: right;\">\n",
              "      <th></th>\n",
              "      <th>PassengerId</th>\n",
              "      <th>Survived</th>\n",
              "      <th>Pclass</th>\n",
              "      <th>Name</th>\n",
              "      <th>Sex</th>\n",
              "      <th>Age</th>\n",
              "      <th>SibSp</th>\n",
              "      <th>Parch</th>\n",
              "      <th>Ticket</th>\n",
              "      <th>Fare</th>\n",
              "      <th>Cabin</th>\n",
              "      <th>Embarked_Q</th>\n",
              "      <th>Embarked_S</th>\n",
              "    </tr>\n",
              "  </thead>\n",
              "  <tbody>\n",
              "    <tr>\n",
              "      <th>0</th>\n",
              "      <td>1</td>\n",
              "      <td>0</td>\n",
              "      <td>3</td>\n",
              "      <td>Braund, Mr. Owen Harris</td>\n",
              "      <td>1</td>\n",
              "      <td>22.0</td>\n",
              "      <td>1</td>\n",
              "      <td>0</td>\n",
              "      <td>A/5 21171</td>\n",
              "      <td>7.2500</td>\n",
              "      <td>NaN</td>\n",
              "      <td>0</td>\n",
              "      <td>1</td>\n",
              "    </tr>\n",
              "    <tr>\n",
              "      <th>1</th>\n",
              "      <td>2</td>\n",
              "      <td>1</td>\n",
              "      <td>1</td>\n",
              "      <td>Cumings, Mrs. John Bradley (Florence Briggs Th...</td>\n",
              "      <td>0</td>\n",
              "      <td>38.0</td>\n",
              "      <td>1</td>\n",
              "      <td>0</td>\n",
              "      <td>PC 17599</td>\n",
              "      <td>71.2833</td>\n",
              "      <td>C85</td>\n",
              "      <td>0</td>\n",
              "      <td>0</td>\n",
              "    </tr>\n",
              "    <tr>\n",
              "      <th>2</th>\n",
              "      <td>3</td>\n",
              "      <td>1</td>\n",
              "      <td>3</td>\n",
              "      <td>Heikkinen, Miss. Laina</td>\n",
              "      <td>0</td>\n",
              "      <td>26.0</td>\n",
              "      <td>0</td>\n",
              "      <td>0</td>\n",
              "      <td>STON/O2. 3101282</td>\n",
              "      <td>7.9250</td>\n",
              "      <td>NaN</td>\n",
              "      <td>0</td>\n",
              "      <td>1</td>\n",
              "    </tr>\n",
              "    <tr>\n",
              "      <th>3</th>\n",
              "      <td>4</td>\n",
              "      <td>1</td>\n",
              "      <td>1</td>\n",
              "      <td>Futrelle, Mrs. Jacques Heath (Lily May Peel)</td>\n",
              "      <td>0</td>\n",
              "      <td>35.0</td>\n",
              "      <td>1</td>\n",
              "      <td>0</td>\n",
              "      <td>113803</td>\n",
              "      <td>53.1000</td>\n",
              "      <td>C123</td>\n",
              "      <td>0</td>\n",
              "      <td>1</td>\n",
              "    </tr>\n",
              "    <tr>\n",
              "      <th>4</th>\n",
              "      <td>5</td>\n",
              "      <td>0</td>\n",
              "      <td>3</td>\n",
              "      <td>Allen, Mr. William Henry</td>\n",
              "      <td>1</td>\n",
              "      <td>35.0</td>\n",
              "      <td>0</td>\n",
              "      <td>0</td>\n",
              "      <td>373450</td>\n",
              "      <td>8.0500</td>\n",
              "      <td>NaN</td>\n",
              "      <td>0</td>\n",
              "      <td>1</td>\n",
              "    </tr>\n",
              "  </tbody>\n",
              "</table>\n",
              "</div>"
            ],
            "text/plain": [
              "   PassengerId  Survived  Pclass  \\\n",
              "0            1         0       3   \n",
              "1            2         1       1   \n",
              "2            3         1       3   \n",
              "3            4         1       1   \n",
              "4            5         0       3   \n",
              "\n",
              "                                                Name  Sex   Age  SibSp  Parch  \\\n",
              "0                            Braund, Mr. Owen Harris    1  22.0      1      0   \n",
              "1  Cumings, Mrs. John Bradley (Florence Briggs Th...    0  38.0      1      0   \n",
              "2                             Heikkinen, Miss. Laina    0  26.0      0      0   \n",
              "3       Futrelle, Mrs. Jacques Heath (Lily May Peel)    0  35.0      1      0   \n",
              "4                           Allen, Mr. William Henry    1  35.0      0      0   \n",
              "\n",
              "             Ticket     Fare Cabin  Embarked_Q  Embarked_S  \n",
              "0         A/5 21171   7.2500   NaN           0           1  \n",
              "1          PC 17599  71.2833   C85           0           0  \n",
              "2  STON/O2. 3101282   7.9250   NaN           0           1  \n",
              "3            113803  53.1000  C123           0           1  \n",
              "4            373450   8.0500   NaN           0           1  "
            ]
          },
          "execution_count": 20,
          "metadata": {},
          "output_type": "execute_result"
        }
      ],
      "source": [
        "data2.head()"
      ]
    },
    {
      "cell_type": "code",
      "execution_count": null,
      "id": "e8248bd4-60c0-4472-98c2-0a982ab8225d",
      "metadata": {
        "id": "e8248bd4-60c0-4472-98c2-0a982ab8225d"
      },
      "outputs": [],
      "source": [
        "# Removing unique values from dataset (No relation with target)\n",
        "data= data2.drop([\"Name\",\"PassengerId\",\"Ticket\",\"Cabin\"],axis=1)"
      ]
    },
    {
      "cell_type": "code",
      "execution_count": null,
      "id": "7f0e6efc-1bb4-47bc-a1ae-b651dc7ba7bc",
      "metadata": {
        "id": "7f0e6efc-1bb4-47bc-a1ae-b651dc7ba7bc",
        "outputId": "1f970f71-ad71-46b4-b1f6-b30f8a861abc"
      },
      "outputs": [
        {
          "data": {
            "text/plain": [
              "Survived        0\n",
              "Pclass          0\n",
              "Sex             0\n",
              "Age           177\n",
              "SibSp           0\n",
              "Parch           0\n",
              "Fare            0\n",
              "Embarked_Q      0\n",
              "Embarked_S      0\n",
              "dtype: int64"
            ]
          },
          "execution_count": 23,
          "metadata": {},
          "output_type": "execute_result"
        }
      ],
      "source": [
        "#Handle Null Values\n",
        "data.isnull().sum()"
      ]
    },
    {
      "cell_type": "code",
      "execution_count": null,
      "id": "fbcd089f-8d5c-4e80-928b-f909fe0b2fcc",
      "metadata": {
        "scrolled": true,
        "id": "fbcd089f-8d5c-4e80-928b-f909fe0b2fcc",
        "outputId": "5576c9d8-7619-4be1-d240-b1d6631050bf"
      },
      "outputs": [
        {
          "data": {
            "text/plain": [
              "<seaborn.axisgrid.FacetGrid at 0x1d7c6fa8e10>"
            ]
          },
          "execution_count": 24,
          "metadata": {},
          "output_type": "execute_result"
        },
        {
          "data": {
            "image/png": "[encoded data removed]",
            "text/plain": [
              "<Figure size 500x500 with 1 Axes>"
            ]
          },
          "metadata": {},
          "output_type": "display_data"
        }
      ],
      "source": [
        "sns.displot(x= data[\"Age\"])\n"
      ]
    },
    {
      "cell_type": "code",
      "execution_count": null,
      "id": "0df11ec0-9342-4bdf-9668-5027245fa331",
      "metadata": {
        "scrolled": true,
        "id": "0df11ec0-9342-4bdf-9668-5027245fa331",
        "outputId": "063fca94-0eaa-4e1c-b932-52c440d94e9d"
      },
      "outputs": [
        {
          "data": {
            "text/plain": [
              "19.865319865319865"
            ]
          },
          "execution_count": 25,
          "metadata": {},
          "output_type": "execute_result"
        }
      ],
      "source": [
        "# Distribution of the Age is skewed so we use median for null values\n",
        "(data.Age.isnull().sum()/len(data))*100"
      ]
    },
    {
      "cell_type": "code",
      "execution_count": null,
      "id": "9e106a1c-0f9d-4b4b-a8cc-4e14556659a1",
      "metadata": {
        "id": "9e106a1c-0f9d-4b4b-a8cc-4e14556659a1",
        "outputId": "ba9fd0bf-63fc-4b29-aac3-6100bff4f2d5"
      },
      "outputs": [
        {
          "data": {
            "text/plain": [
              "28.0"
            ]
          },
          "execution_count": 26,
          "metadata": {},
          "output_type": "execute_result"
        }
      ],
      "source": [
        "data.Age.median()"
      ]
    },
    {
      "cell_type": "code",
      "execution_count": null,
      "id": "44dcfc05-fe77-4a2d-af78-28a71371384e",
      "metadata": {
        "id": "44dcfc05-fe77-4a2d-af78-28a71371384e"
      },
      "outputs": [],
      "source": [
        "data.loc[data[\"Age\"].isnull()==True,\"Age\"]=28.0"
      ]
    },
    {
      "cell_type": "code",
      "execution_count": null,
      "id": "08d1a734-bd75-4fea-9e64-4510ff8fd577",
      "metadata": {
        "id": "08d1a734-bd75-4fea-9e64-4510ff8fd577",
        "outputId": "8513285c-db89-4163-9703-bbffb0028472"
      },
      "outputs": [
        {
          "data": {
            "text/plain": [
              "Survived      0\n",
              "Pclass        0\n",
              "Sex           0\n",
              "Age           0\n",
              "SibSp         0\n",
              "Parch         0\n",
              "Fare          0\n",
              "Embarked_Q    0\n",
              "Embarked_S    0\n",
              "dtype: int64"
            ]
          },
          "execution_count": 28,
          "metadata": {},
          "output_type": "execute_result"
        }
      ],
      "source": [
        "data.isnull().sum()"
      ]
    },
    {
      "cell_type": "code",
      "execution_count": null,
      "id": "dbb8d8d0-80a3-411e-8fad-3aa0765acdaa",
      "metadata": {
        "id": "dbb8d8d0-80a3-411e-8fad-3aa0765acdaa"
      },
      "outputs": [],
      "source": [
        "# Duplicate CHecks"
      ]
    },
    {
      "cell_type": "code",
      "execution_count": null,
      "id": "82d42fe8-84d2-4da3-b34c-8e96ae4eeac1",
      "metadata": {
        "id": "82d42fe8-84d2-4da3-b34c-8e96ae4eeac1",
        "outputId": "4039512c-b72a-4360-fa9b-3e8534eb55eb"
      },
      "outputs": [
        {
          "data": {
            "text/plain": [
              "116"
            ]
          },
          "execution_count": 30,
          "metadata": {},
          "output_type": "execute_result"
        }
      ],
      "source": [
        "data.duplicated().sum()"
      ]
    },
    {
      "cell_type": "code",
      "execution_count": null,
      "id": "f71007da-9eb7-49b4-92a4-fd5bd1dd88df",
      "metadata": {
        "id": "f71007da-9eb7-49b4-92a4-fd5bd1dd88df",
        "outputId": "20d1ac3e-98be-48a8-de8f-2a71ee13e4ea"
      },
      "outputs": [
        {
          "data": {
            "text/html": [
              "<div>\n",
              "<style scoped>\n",
              "    .dataframe tbody tr th:only-of-type {\n",
              "        vertical-align: middle;\n",
              "    }\n",
              "\n",
              "    .dataframe tbody tr th {\n",
              "        vertical-align: top;\n",
              "    }\n",
              "\n",
              "    .dataframe thead th {\n",
              "        text-align: right;\n",
              "    }\n",
              "</style>\n",
              "<table border=\"1\" class=\"dataframe\">\n",
              "  <thead>\n",
              "    <tr style=\"text-align: right;\">\n",
              "      <th></th>\n",
              "      <th>Survived</th>\n",
              "      <th>Pclass</th>\n",
              "      <th>Sex</th>\n",
              "      <th>Age</th>\n",
              "      <th>SibSp</th>\n",
              "      <th>Parch</th>\n",
              "      <th>Fare</th>\n",
              "      <th>Embarked_Q</th>\n",
              "      <th>Embarked_S</th>\n",
              "    </tr>\n",
              "  </thead>\n",
              "  <tbody>\n",
              "    <tr>\n",
              "      <th>0</th>\n",
              "      <td>0</td>\n",
              "      <td>3</td>\n",
              "      <td>1</td>\n",
              "      <td>22.0</td>\n",
              "      <td>1</td>\n",
              "      <td>0</td>\n",
              "      <td>7.2500</td>\n",
              "      <td>0</td>\n",
              "      <td>1</td>\n",
              "    </tr>\n",
              "    <tr>\n",
              "      <th>1</th>\n",
              "      <td>1</td>\n",
              "      <td>1</td>\n",
              "      <td>0</td>\n",
              "      <td>38.0</td>\n",
              "      <td>1</td>\n",
              "      <td>0</td>\n",
              "      <td>71.2833</td>\n",
              "      <td>0</td>\n",
              "      <td>0</td>\n",
              "    </tr>\n",
              "    <tr>\n",
              "      <th>2</th>\n",
              "      <td>1</td>\n",
              "      <td>3</td>\n",
              "      <td>0</td>\n",
              "      <td>26.0</td>\n",
              "      <td>0</td>\n",
              "      <td>0</td>\n",
              "      <td>7.9250</td>\n",
              "      <td>0</td>\n",
              "      <td>1</td>\n",
              "    </tr>\n",
              "    <tr>\n",
              "      <th>3</th>\n",
              "      <td>1</td>\n",
              "      <td>1</td>\n",
              "      <td>0</td>\n",
              "      <td>35.0</td>\n",
              "      <td>1</td>\n",
              "      <td>0</td>\n",
              "      <td>53.1000</td>\n",
              "      <td>0</td>\n",
              "      <td>1</td>\n",
              "    </tr>\n",
              "    <tr>\n",
              "      <th>4</th>\n",
              "      <td>0</td>\n",
              "      <td>3</td>\n",
              "      <td>1</td>\n",
              "      <td>35.0</td>\n",
              "      <td>0</td>\n",
              "      <td>0</td>\n",
              "      <td>8.0500</td>\n",
              "      <td>0</td>\n",
              "      <td>1</td>\n",
              "    </tr>\n",
              "    <tr>\n",
              "      <th>...</th>\n",
              "      <td>...</td>\n",
              "      <td>...</td>\n",
              "      <td>...</td>\n",
              "      <td>...</td>\n",
              "      <td>...</td>\n",
              "      <td>...</td>\n",
              "      <td>...</td>\n",
              "      <td>...</td>\n",
              "      <td>...</td>\n",
              "    </tr>\n",
              "    <tr>\n",
              "      <th>885</th>\n",
              "      <td>0</td>\n",
              "      <td>3</td>\n",
              "      <td>0</td>\n",
              "      <td>39.0</td>\n",
              "      <td>0</td>\n",
              "      <td>5</td>\n",
              "      <td>29.1250</td>\n",
              "      <td>1</td>\n",
              "      <td>0</td>\n",
              "    </tr>\n",
              "    <tr>\n",
              "      <th>887</th>\n",
              "      <td>1</td>\n",
              "      <td>1</td>\n",
              "      <td>0</td>\n",
              "      <td>19.0</td>\n",
              "      <td>0</td>\n",
              "      <td>0</td>\n",
              "      <td>30.0000</td>\n",
              "      <td>0</td>\n",
              "      <td>1</td>\n",
              "    </tr>\n",
              "    <tr>\n",
              "      <th>888</th>\n",
              "      <td>0</td>\n",
              "      <td>3</td>\n",
              "      <td>0</td>\n",
              "      <td>28.0</td>\n",
              "      <td>1</td>\n",
              "      <td>2</td>\n",
              "      <td>23.4500</td>\n",
              "      <td>0</td>\n",
              "      <td>1</td>\n",
              "    </tr>\n",
              "    <tr>\n",
              "      <th>889</th>\n",
              "      <td>1</td>\n",
              "      <td>1</td>\n",
              "      <td>1</td>\n",
              "      <td>26.0</td>\n",
              "      <td>0</td>\n",
              "      <td>0</td>\n",
              "      <td>30.0000</td>\n",
              "      <td>0</td>\n",
              "      <td>0</td>\n",
              "    </tr>\n",
              "    <tr>\n",
              "      <th>890</th>\n",
              "      <td>0</td>\n",
              "      <td>3</td>\n",
              "      <td>1</td>\n",
              "      <td>32.0</td>\n",
              "      <td>0</td>\n",
              "      <td>0</td>\n",
              "      <td>7.7500</td>\n",
              "      <td>1</td>\n",
              "      <td>0</td>\n",
              "    </tr>\n",
              "  </tbody>\n",
              "</table>\n",
              "<p>775 rows × 9 columns</p>\n",
              "</div>"
            ],
            "text/plain": [
              "     Survived  Pclass  Sex   Age  SibSp  Parch     Fare  Embarked_Q  \\\n",
              "0           0       3    1  22.0      1      0   7.2500           0   \n",
              "1           1       1    0  38.0      1      0  71.2833           0   \n",
              "2           1       3    0  26.0      0      0   7.9250           0   \n",
              "3           1       1    0  35.0      1      0  53.1000           0   \n",
              "4           0       3    1  35.0      0      0   8.0500           0   \n",
              "..        ...     ...  ...   ...    ...    ...      ...         ...   \n",
              "885         0       3    0  39.0      0      5  29.1250           1   \n",
              "887         1       1    0  19.0      0      0  30.0000           0   \n",
              "888         0       3    0  28.0      1      2  23.4500           0   \n",
              "889         1       1    1  26.0      0      0  30.0000           0   \n",
              "890         0       3    1  32.0      0      0   7.7500           1   \n",
              "\n",
              "     Embarked_S  \n",
              "0             1  \n",
              "1             0  \n",
              "2             1  \n",
              "3             1  \n",
              "4             1  \n",
              "..          ...  \n",
              "885           0  \n",
              "887           1  \n",
              "888           1  \n",
              "889           0  \n",
              "890           0  \n",
              "\n",
              "[775 rows x 9 columns]"
            ]
          },
          "execution_count": 31,
          "metadata": {},
          "output_type": "execute_result"
        }
      ],
      "source": [
        "data.drop_duplicates()"
      ]
    },
    {
      "cell_type": "markdown",
      "id": "6170d705-0af0-49ea-b9d9-74061984df88",
      "metadata": {
        "id": "6170d705-0af0-49ea-b9d9-74061984df88"
      },
      "source": [
        "# Step5:- Exploratory Data Analysis"
      ]
    },
    {
      "cell_type": "code",
      "execution_count": null,
      "id": "3629438d-5a2e-4ab2-86a2-22bfddc62d07",
      "metadata": {
        "id": "3629438d-5a2e-4ab2-86a2-22bfddc62d07",
        "outputId": "49e2c9bf-707d-40eb-e4c9-802a1416530a",
        "colab": {
          "referenced_widgets": [
            "288aff53953f4edabc037ba33893f95d"
          ]
        }
      },
      "outputs": [
        {
          "data": {
            "application/vnd.jupyter.widget-view+json": {
              "model_id": "288aff53953f4edabc037ba33893f95d",
              "version_major": 2,
              "version_minor": 0
            },
            "text/plain": [
              "                                             |          | [  0%]   00:00 -> (? left)"
            ]
          },
          "metadata": {},
          "output_type": "display_data"
        },
        {
          "name": "stdout",
          "output_type": "stream",
          "text": [
            "Report Titanic.html was generated! NOTEBOOK/COLAB USERS: the web browser MAY not pop up, regardless, the report IS saved in your notebook/colab files.\n"
          ]
        }
      ],
      "source": [
        "\n",
        "import sweetviz as sv #importing the sweetviz library\n",
        "\n",
        "report = sv.analyze(data) # here we are initializing the graph flow\n",
        "\n",
        "report.show_html('Titanic.html')"
      ]
    },
    {
      "cell_type": "code",
      "execution_count": null,
      "id": "69a96474-cf4a-4057-b8c9-ce56f0792016",
      "metadata": {
        "id": "69a96474-cf4a-4057-b8c9-ce56f0792016",
        "outputId": "b2490fd2-bdd5-4aac-8be6-52914434b3ac"
      },
      "outputs": [
        {
          "data": {
            "image/png": "[encoded data removed]",
            "text/plain": [
              "<Figure size 1000x1000 with 8 Axes>"
            ]
          },
          "metadata": {},
          "output_type": "display_data"
        }
      ],
      "source": [
        "import warnings\n",
        "warnings.filterwarnings(\"ignore\")\n",
        "plt.figure(figsize=(10,10))\n",
        "i=1\n",
        "for col in data:\n",
        "    if i <9:\n",
        "        ax= plt.subplot(3,3,i)\n",
        "        sns.histplot(x=data[col],hue=data['Survived'])\n",
        "        plt.xlabel(col)\n",
        "        plt.ylabel('Survived')\n",
        "    i=i+1\n",
        "plt.tight_layout()"
      ]
    },
    {
      "cell_type": "code",
      "execution_count": null,
      "id": "ee217d4f-4523-44b6-b454-3e9d9ead968c",
      "metadata": {
        "scrolled": true,
        "id": "ee217d4f-4523-44b6-b454-3e9d9ead968c",
        "outputId": "e1f7d8c2-8a03-4c58-9527-85feec8ef1e6"
      },
      "outputs": [
        {
          "data": {
            "image/png": "[encoded data removed]",
            "text/plain": [
              "<Figure size 2000x2500 with 9 Axes>"
            ]
          },
          "metadata": {},
          "output_type": "display_data"
        }
      ],
      "source": [
        "import warnings\n",
        "warnings.filterwarnings(\"ignore\")\n",
        "\n",
        "#Checking the outliers\n",
        "plt.figure(figsize=(20,25),facecolor='white')\n",
        "plotnumber=1\n",
        "\n",
        "for column in data:\n",
        "    if plotnumber<=9:\n",
        "        ax=plt.subplot(3,3,plotnumber)\n",
        "        sns.boxplot(data[column])\n",
        "        plt.xlabel(column,fontsize=20)\n",
        "        plt.ylabel('Count',fontsize=20)\n",
        "    plotnumber+=1\n",
        "plt.tight_layout()"
      ]
    },
    {
      "cell_type": "code",
      "execution_count": null,
      "id": "d3928998-85d8-428d-9260-d122b002fee5",
      "metadata": {
        "id": "d3928998-85d8-428d-9260-d122b002fee5"
      },
      "outputs": [],
      "source": [
        "# Age, Sibsp, Parch, Fare have outliers, need to handle all outliers\n",
        "data2= data[[\"Age\",\"SibSp\",\"Parch\",\"Fare\"]]"
      ]
    },
    {
      "cell_type": "code",
      "execution_count": null,
      "id": "9d116d5e-7bce-416a-92b4-3760981f5600",
      "metadata": {
        "id": "9d116d5e-7bce-416a-92b4-3760981f5600"
      },
      "outputs": [],
      "source": [
        "q3= data.quantile(.75)\n",
        "q1= data.quantile(.25)\n",
        "iqr= q3-q1\n",
        "\n",
        "lower= q1-1.5*iqr\n",
        "upper= q3 + 1.5*iqr"
      ]
    },
    {
      "cell_type": "code",
      "execution_count": null,
      "id": "4fe706d3-c6f4-4a7f-ba10-0795409b5df0",
      "metadata": {
        "id": "4fe706d3-c6f4-4a7f-ba10-0795409b5df0"
      },
      "outputs": [],
      "source": [
        "for i in data2:\n",
        "  data.loc[data[i]<lower[i],i]=data[i].median()"
      ]
    },
    {
      "cell_type": "code",
      "execution_count": null,
      "id": "68652324-b7fb-480e-9ba3-a48c748218cc",
      "metadata": {
        "id": "68652324-b7fb-480e-9ba3-a48c748218cc"
      },
      "outputs": [],
      "source": [
        "for i in data2:\n",
        "  data.loc[data[i]>upper[i],i]=data[i].median()"
      ]
    },
    {
      "cell_type": "code",
      "execution_count": null,
      "id": "9364b34e-3ecd-475e-9a7a-902740432bd7",
      "metadata": {
        "id": "9364b34e-3ecd-475e-9a7a-902740432bd7",
        "outputId": "f39dc935-61c3-46ed-96e4-a1d726de0f85"
      },
      "outputs": [
        {
          "data": {
            "text/plain": [
              "Index(['Survived', 'Pclass', 'Sex', 'Age', 'SibSp', 'Parch', 'Fare',\n",
              "       'Embarked_Q', 'Embarked_S'],\n",
              "      dtype='object')"
            ]
          },
          "execution_count": 39,
          "metadata": {},
          "output_type": "execute_result"
        }
      ],
      "source": [
        "data.columns"
      ]
    },
    {
      "cell_type": "code",
      "execution_count": null,
      "id": "0712f45f-9ecb-4f0f-9868-296506a43b50",
      "metadata": {
        "id": "0712f45f-9ecb-4f0f-9868-296506a43b50"
      },
      "outputs": [],
      "source": [
        "#Scaling the data\n",
        "from sklearn.preprocessing import MinMaxScaler\n",
        "sc=MinMaxScaler()\n",
        "d1= [\"Survived\"]\n",
        "data1=sc.fit_transform(data.drop(d1,axis=1))\n",
        "data1=pd.DataFrame(data1,columns= ['Pclass', 'Sex', 'Age', 'SibSp', 'Parch', 'Fare','Embarked_Q', 'Embarked_S'])"
      ]
    },
    {
      "cell_type": "code",
      "execution_count": null,
      "id": "c070b9ee-0f67-4c7e-acc0-5e73a38b6e11",
      "metadata": {
        "id": "c070b9ee-0f67-4c7e-acc0-5e73a38b6e11",
        "outputId": "d11254f1-a8d2-43a4-f80f-d4c47f65d912"
      },
      "outputs": [
        {
          "data": {
            "text/html": [
              "<div>\n",
              "<style scoped>\n",
              "    .dataframe tbody tr th:only-of-type {\n",
              "        vertical-align: middle;\n",
              "    }\n",
              "\n",
              "    .dataframe tbody tr th {\n",
              "        vertical-align: top;\n",
              "    }\n",
              "\n",
              "    .dataframe thead th {\n",
              "        text-align: right;\n",
              "    }\n",
              "</style>\n",
              "<table border=\"1\" class=\"dataframe\">\n",
              "  <thead>\n",
              "    <tr style=\"text-align: right;\">\n",
              "      <th></th>\n",
              "      <th>Pclass</th>\n",
              "      <th>Sex</th>\n",
              "      <th>Age</th>\n",
              "      <th>SibSp</th>\n",
              "      <th>Parch</th>\n",
              "      <th>Fare</th>\n",
              "      <th>Embarked_Q</th>\n",
              "      <th>Embarked_S</th>\n",
              "    </tr>\n",
              "  </thead>\n",
              "  <tbody>\n",
              "    <tr>\n",
              "      <th>0</th>\n",
              "      <td>1.0</td>\n",
              "      <td>1.0</td>\n",
              "      <td>0.372549</td>\n",
              "      <td>0.5</td>\n",
              "      <td>0.0</td>\n",
              "      <td>0.111538</td>\n",
              "      <td>0.0</td>\n",
              "      <td>1.0</td>\n",
              "    </tr>\n",
              "    <tr>\n",
              "      <th>1</th>\n",
              "      <td>0.0</td>\n",
              "      <td>0.0</td>\n",
              "      <td>0.686275</td>\n",
              "      <td>0.5</td>\n",
              "      <td>0.0</td>\n",
              "      <td>0.222372</td>\n",
              "      <td>0.0</td>\n",
              "      <td>0.0</td>\n",
              "    </tr>\n",
              "    <tr>\n",
              "      <th>2</th>\n",
              "      <td>1.0</td>\n",
              "      <td>0.0</td>\n",
              "      <td>0.450980</td>\n",
              "      <td>0.0</td>\n",
              "      <td>0.0</td>\n",
              "      <td>0.121923</td>\n",
              "      <td>0.0</td>\n",
              "      <td>1.0</td>\n",
              "    </tr>\n",
              "    <tr>\n",
              "      <th>3</th>\n",
              "      <td>0.0</td>\n",
              "      <td>0.0</td>\n",
              "      <td>0.627451</td>\n",
              "      <td>0.5</td>\n",
              "      <td>0.0</td>\n",
              "      <td>0.816923</td>\n",
              "      <td>0.0</td>\n",
              "      <td>1.0</td>\n",
              "    </tr>\n",
              "    <tr>\n",
              "      <th>4</th>\n",
              "      <td>1.0</td>\n",
              "      <td>1.0</td>\n",
              "      <td>0.627451</td>\n",
              "      <td>0.0</td>\n",
              "      <td>0.0</td>\n",
              "      <td>0.123846</td>\n",
              "      <td>0.0</td>\n",
              "      <td>1.0</td>\n",
              "    </tr>\n",
              "    <tr>\n",
              "      <th>...</th>\n",
              "      <td>...</td>\n",
              "      <td>...</td>\n",
              "      <td>...</td>\n",
              "      <td>...</td>\n",
              "      <td>...</td>\n",
              "      <td>...</td>\n",
              "      <td>...</td>\n",
              "      <td>...</td>\n",
              "    </tr>\n",
              "    <tr>\n",
              "      <th>886</th>\n",
              "      <td>0.5</td>\n",
              "      <td>1.0</td>\n",
              "      <td>0.470588</td>\n",
              "      <td>0.0</td>\n",
              "      <td>0.0</td>\n",
              "      <td>0.200000</td>\n",
              "      <td>0.0</td>\n",
              "      <td>1.0</td>\n",
              "    </tr>\n",
              "    <tr>\n",
              "      <th>887</th>\n",
              "      <td>0.0</td>\n",
              "      <td>0.0</td>\n",
              "      <td>0.313725</td>\n",
              "      <td>0.0</td>\n",
              "      <td>0.0</td>\n",
              "      <td>0.461538</td>\n",
              "      <td>0.0</td>\n",
              "      <td>1.0</td>\n",
              "    </tr>\n",
              "    <tr>\n",
              "      <th>888</th>\n",
              "      <td>1.0</td>\n",
              "      <td>0.0</td>\n",
              "      <td>0.490196</td>\n",
              "      <td>0.5</td>\n",
              "      <td>0.0</td>\n",
              "      <td>0.360769</td>\n",
              "      <td>0.0</td>\n",
              "      <td>1.0</td>\n",
              "    </tr>\n",
              "    <tr>\n",
              "      <th>889</th>\n",
              "      <td>0.0</td>\n",
              "      <td>1.0</td>\n",
              "      <td>0.450980</td>\n",
              "      <td>0.0</td>\n",
              "      <td>0.0</td>\n",
              "      <td>0.461538</td>\n",
              "      <td>0.0</td>\n",
              "      <td>0.0</td>\n",
              "    </tr>\n",
              "    <tr>\n",
              "      <th>890</th>\n",
              "      <td>1.0</td>\n",
              "      <td>1.0</td>\n",
              "      <td>0.568627</td>\n",
              "      <td>0.0</td>\n",
              "      <td>0.0</td>\n",
              "      <td>0.119231</td>\n",
              "      <td>1.0</td>\n",
              "      <td>0.0</td>\n",
              "    </tr>\n",
              "  </tbody>\n",
              "</table>\n",
              "<p>891 rows × 8 columns</p>\n",
              "</div>"
            ],
            "text/plain": [
              "     Pclass  Sex       Age  SibSp  Parch      Fare  Embarked_Q  Embarked_S\n",
              "0       1.0  1.0  0.372549    0.5    0.0  0.111538         0.0         1.0\n",
              "1       0.0  0.0  0.686275    0.5    0.0  0.222372         0.0         0.0\n",
              "2       1.0  0.0  0.450980    0.0    0.0  0.121923         0.0         1.0\n",
              "3       0.0  0.0  0.627451    0.5    0.0  0.816923         0.0         1.0\n",
              "4       1.0  1.0  0.627451    0.0    0.0  0.123846         0.0         1.0\n",
              "..      ...  ...       ...    ...    ...       ...         ...         ...\n",
              "886     0.5  1.0  0.470588    0.0    0.0  0.200000         0.0         1.0\n",
              "887     0.0  0.0  0.313725    0.0    0.0  0.461538         0.0         1.0\n",
              "888     1.0  0.0  0.490196    0.5    0.0  0.360769         0.0         1.0\n",
              "889     0.0  1.0  0.450980    0.0    0.0  0.461538         0.0         0.0\n",
              "890     1.0  1.0  0.568627    0.0    0.0  0.119231         1.0         0.0\n",
              "\n",
              "[891 rows x 8 columns]"
            ]
          },
          "execution_count": 41,
          "metadata": {},
          "output_type": "execute_result"
        }
      ],
      "source": [
        "data1"
      ]
    },
    {
      "cell_type": "code",
      "execution_count": null,
      "id": "78058c65-9947-412c-93bc-b92a6eb82136",
      "metadata": {
        "id": "78058c65-9947-412c-93bc-b92a6eb82136"
      },
      "outputs": [],
      "source": [
        "con_data= data[\"Survived\"]"
      ]
    },
    {
      "cell_type": "code",
      "execution_count": null,
      "id": "e1fdf58e-fcef-4af1-8476-26dbb7f6772d",
      "metadata": {
        "id": "e1fdf58e-fcef-4af1-8476-26dbb7f6772d"
      },
      "outputs": [],
      "source": [
        "final_df=pd.concat([data1,con_data],axis=1)"
      ]
    },
    {
      "cell_type": "code",
      "execution_count": null,
      "id": "c817022d-7b67-4c43-b2ce-dd32f89db355",
      "metadata": {
        "id": "c817022d-7b67-4c43-b2ce-dd32f89db355",
        "outputId": "9d7571a4-9276-4e87-a59d-a466764227d8"
      },
      "outputs": [
        {
          "data": {
            "text/html": [
              "<div>\n",
              "<style scoped>\n",
              "    .dataframe tbody tr th:only-of-type {\n",
              "        vertical-align: middle;\n",
              "    }\n",
              "\n",
              "    .dataframe tbody tr th {\n",
              "        vertical-align: top;\n",
              "    }\n",
              "\n",
              "    .dataframe thead th {\n",
              "        text-align: right;\n",
              "    }\n",
              "</style>\n",
              "<table border=\"1\" class=\"dataframe\">\n",
              "  <thead>\n",
              "    <tr style=\"text-align: right;\">\n",
              "      <th></th>\n",
              "      <th>Pclass</th>\n",
              "      <th>Sex</th>\n",
              "      <th>Age</th>\n",
              "      <th>SibSp</th>\n",
              "      <th>Parch</th>\n",
              "      <th>Fare</th>\n",
              "      <th>Embarked_Q</th>\n",
              "      <th>Embarked_S</th>\n",
              "      <th>Survived</th>\n",
              "    </tr>\n",
              "  </thead>\n",
              "  <tbody>\n",
              "    <tr>\n",
              "      <th>0</th>\n",
              "      <td>1.0</td>\n",
              "      <td>1.0</td>\n",
              "      <td>0.372549</td>\n",
              "      <td>0.5</td>\n",
              "      <td>0.0</td>\n",
              "      <td>0.111538</td>\n",
              "      <td>0.0</td>\n",
              "      <td>1.0</td>\n",
              "      <td>0</td>\n",
              "    </tr>\n",
              "    <tr>\n",
              "      <th>1</th>\n",
              "      <td>0.0</td>\n",
              "      <td>0.0</td>\n",
              "      <td>0.686275</td>\n",
              "      <td>0.5</td>\n",
              "      <td>0.0</td>\n",
              "      <td>0.222372</td>\n",
              "      <td>0.0</td>\n",
              "      <td>0.0</td>\n",
              "      <td>1</td>\n",
              "    </tr>\n",
              "    <tr>\n",
              "      <th>2</th>\n",
              "      <td>1.0</td>\n",
              "      <td>0.0</td>\n",
              "      <td>0.450980</td>\n",
              "      <td>0.0</td>\n",
              "      <td>0.0</td>\n",
              "      <td>0.121923</td>\n",
              "      <td>0.0</td>\n",
              "      <td>1.0</td>\n",
              "      <td>1</td>\n",
              "    </tr>\n",
              "    <tr>\n",
              "      <th>3</th>\n",
              "      <td>0.0</td>\n",
              "      <td>0.0</td>\n",
              "      <td>0.627451</td>\n",
              "      <td>0.5</td>\n",
              "      <td>0.0</td>\n",
              "      <td>0.816923</td>\n",
              "      <td>0.0</td>\n",
              "      <td>1.0</td>\n",
              "      <td>1</td>\n",
              "    </tr>\n",
              "    <tr>\n",
              "      <th>4</th>\n",
              "      <td>1.0</td>\n",
              "      <td>1.0</td>\n",
              "      <td>0.627451</td>\n",
              "      <td>0.0</td>\n",
              "      <td>0.0</td>\n",
              "      <td>0.123846</td>\n",
              "      <td>0.0</td>\n",
              "      <td>1.0</td>\n",
              "      <td>0</td>\n",
              "    </tr>\n",
              "    <tr>\n",
              "      <th>...</th>\n",
              "      <td>...</td>\n",
              "      <td>...</td>\n",
              "      <td>...</td>\n",
              "      <td>...</td>\n",
              "      <td>...</td>\n",
              "      <td>...</td>\n",
              "      <td>...</td>\n",
              "      <td>...</td>\n",
              "      <td>...</td>\n",
              "    </tr>\n",
              "    <tr>\n",
              "      <th>886</th>\n",
              "      <td>0.5</td>\n",
              "      <td>1.0</td>\n",
              "      <td>0.470588</td>\n",
              "      <td>0.0</td>\n",
              "      <td>0.0</td>\n",
              "      <td>0.200000</td>\n",
              "      <td>0.0</td>\n",
              "      <td>1.0</td>\n",
              "      <td>0</td>\n",
              "    </tr>\n",
              "    <tr>\n",
              "      <th>887</th>\n",
              "      <td>0.0</td>\n",
              "      <td>0.0</td>\n",
              "      <td>0.313725</td>\n",
              "      <td>0.0</td>\n",
              "      <td>0.0</td>\n",
              "      <td>0.461538</td>\n",
              "      <td>0.0</td>\n",
              "      <td>1.0</td>\n",
              "      <td>1</td>\n",
              "    </tr>\n",
              "    <tr>\n",
              "      <th>888</th>\n",
              "      <td>1.0</td>\n",
              "      <td>0.0</td>\n",
              "      <td>0.490196</td>\n",
              "      <td>0.5</td>\n",
              "      <td>0.0</td>\n",
              "      <td>0.360769</td>\n",
              "      <td>0.0</td>\n",
              "      <td>1.0</td>\n",
              "      <td>0</td>\n",
              "    </tr>\n",
              "    <tr>\n",
              "      <th>889</th>\n",
              "      <td>0.0</td>\n",
              "      <td>1.0</td>\n",
              "      <td>0.450980</td>\n",
              "      <td>0.0</td>\n",
              "      <td>0.0</td>\n",
              "      <td>0.461538</td>\n",
              "      <td>0.0</td>\n",
              "      <td>0.0</td>\n",
              "      <td>1</td>\n",
              "    </tr>\n",
              "    <tr>\n",
              "      <th>890</th>\n",
              "      <td>1.0</td>\n",
              "      <td>1.0</td>\n",
              "      <td>0.568627</td>\n",
              "      <td>0.0</td>\n",
              "      <td>0.0</td>\n",
              "      <td>0.119231</td>\n",
              "      <td>1.0</td>\n",
              "      <td>0.0</td>\n",
              "      <td>0</td>\n",
              "    </tr>\n",
              "  </tbody>\n",
              "</table>\n",
              "<p>891 rows × 9 columns</p>\n",
              "</div>"
            ],
            "text/plain": [
              "     Pclass  Sex       Age  SibSp  Parch      Fare  Embarked_Q  Embarked_S  \\\n",
              "0       1.0  1.0  0.372549    0.5    0.0  0.111538         0.0         1.0   \n",
              "1       0.0  0.0  0.686275    0.5    0.0  0.222372         0.0         0.0   \n",
              "2       1.0  0.0  0.450980    0.0    0.0  0.121923         0.0         1.0   \n",
              "3       0.0  0.0  0.627451    0.5    0.0  0.816923         0.0         1.0   \n",
              "4       1.0  1.0  0.627451    0.0    0.0  0.123846         0.0         1.0   \n",
              "..      ...  ...       ...    ...    ...       ...         ...         ...   \n",
              "886     0.5  1.0  0.470588    0.0    0.0  0.200000         0.0         1.0   \n",
              "887     0.0  0.0  0.313725    0.0    0.0  0.461538         0.0         1.0   \n",
              "888     1.0  0.0  0.490196    0.5    0.0  0.360769         0.0         1.0   \n",
              "889     0.0  1.0  0.450980    0.0    0.0  0.461538         0.0         0.0   \n",
              "890     1.0  1.0  0.568627    0.0    0.0  0.119231         1.0         0.0   \n",
              "\n",
              "     Survived  \n",
              "0           0  \n",
              "1           1  \n",
              "2           1  \n",
              "3           1  \n",
              "4           0  \n",
              "..        ...  \n",
              "886         0  \n",
              "887         1  \n",
              "888         0  \n",
              "889         1  \n",
              "890         0  \n",
              "\n",
              "[891 rows x 9 columns]"
            ]
          },
          "execution_count": 44,
          "metadata": {},
          "output_type": "execute_result"
        }
      ],
      "source": [
        "final_df"
      ]
    },
    {
      "cell_type": "code",
      "execution_count": null,
      "id": "7cce02ab-af1e-4e74-b865-352e335ee190",
      "metadata": {
        "id": "7cce02ab-af1e-4e74-b865-352e335ee190"
      },
      "outputs": [],
      "source": [
        "# Feature Selection"
      ]
    },
    {
      "cell_type": "code",
      "execution_count": null,
      "id": "5654cf47-42e3-4197-806b-b9e438e76189",
      "metadata": {
        "id": "5654cf47-42e3-4197-806b-b9e438e76189",
        "outputId": "5a23bd28-6500-47e1-8b6f-6cdb2dc87c8d"
      },
      "outputs": [
        {
          "data": {
            "text/plain": [
              "<Axes: >"
            ]
          },
          "execution_count": 46,
          "metadata": {},
          "output_type": "execute_result"
        },
        {
          "data": {
            "image/png": "[encoded data removed]",
            "text/plain": [
              "<Figure size 640x480 with 2 Axes>"
            ]
          },
          "metadata": {},
          "output_type": "display_data"
        }
      ],
      "source": [
        "sns.heatmap(data1.corr(),annot= True)"
      ]
    },
    {
      "cell_type": "markdown",
      "id": "92d62f0d-af47-4553-9d56-89838f98fa5d",
      "metadata": {
        "id": "92d62f0d-af47-4553-9d56-89838f98fa5d"
      },
      "source": [
        "# Step 6:- Model Creation\n"
      ]
    },
    {
      "cell_type": "code",
      "execution_count": null,
      "id": "852a3c85-39fd-4b4a-819a-77cdf57c7694",
      "metadata": {
        "id": "852a3c85-39fd-4b4a-819a-77cdf57c7694"
      },
      "outputs": [],
      "source": [
        "x= final_df.iloc[:,:-1]\n",
        "y= final_df[\"Survived\"]"
      ]
    },
    {
      "cell_type": "code",
      "execution_count": null,
      "id": "3a1a2b5b-175c-4912-96b3-62268a08357f",
      "metadata": {
        "id": "3a1a2b5b-175c-4912-96b3-62268a08357f"
      },
      "outputs": [],
      "source": [
        "from sklearn.model_selection import train_test_split\n",
        "x_train,x_test,y_train,y_test= train_test_split(x,y,test_size=0.2,random_state=42)"
      ]
    },
    {
      "cell_type": "code",
      "execution_count": null,
      "id": "37167687-d2a3-40aa-87c8-1fd8310bc8f4",
      "metadata": {
        "id": "37167687-d2a3-40aa-87c8-1fd8310bc8f4",
        "outputId": "612eae88-81ec-4696-e95e-4711e09b9023"
      },
      "outputs": [
        {
          "data": {
            "text/plain": [
              "(179, 8)"
            ]
          },
          "execution_count": 49,
          "metadata": {},
          "output_type": "execute_result"
        }
      ],
      "source": [
        "x_test.shape"
      ]
    },
    {
      "cell_type": "code",
      "execution_count": null,
      "id": "4d63d979-ccec-4a2e-9ae5-8dda03dc761e",
      "metadata": {
        "scrolled": true,
        "id": "4d63d979-ccec-4a2e-9ae5-8dda03dc761e",
        "outputId": "458ced0f-0b7b-4533-884b-f120a384b9a2"
      },
      "outputs": [
        {
          "data": {
            "text/plain": [
              "(712, 8)"
            ]
          },
          "execution_count": 50,
          "metadata": {},
          "output_type": "execute_result"
        }
      ],
      "source": [
        "x_train.shape"
      ]
    },
    {
      "cell_type": "markdown",
      "id": "c704130c-ce63-4239-b87e-b866346b4b7c",
      "metadata": {
        "id": "c704130c-ce63-4239-b87e-b866346b4b7c"
      },
      "source": [
        "# Step 7:- Model Evaluation (Logistic Regression)"
      ]
    },
    {
      "cell_type": "code",
      "execution_count": null,
      "id": "2ebe3363-530f-489a-af2a-86e205fd11d4",
      "metadata": {
        "id": "2ebe3363-530f-489a-af2a-86e205fd11d4"
      },
      "outputs": [],
      "source": [
        "from sklearn.linear_model import LogisticRegression\n"
      ]
    },
    {
      "cell_type": "code",
      "execution_count": null,
      "id": "b1c90e42-0bbf-44ab-a420-69754272fd3b",
      "metadata": {
        "id": "b1c90e42-0bbf-44ab-a420-69754272fd3b",
        "outputId": "7039f7c7-ad1b-44b5-f180-09c8bcb0290a"
      },
      "outputs": [
        {
          "data": {
            "text/html": [
              "<style>#sk-container-id-1 {color: black;background-color: white;}#sk-container-id-1 pre{padding: 0;}#sk-container-id-1 div.sk-toggleable {background-color: white;}#sk-container-id-1 label.sk-toggleable__label {cursor: pointer;display: block;width: 100%;margin-bottom: 0;padding: 0.3em;box-sizing: border-box;text-align: center;}#sk-container-id-1 label.sk-toggleable__label-arrow:before {content: \"▸\";float: left;margin-right: 0.25em;color: #696969;}#sk-container-id-1 label.sk-toggleable__label-arrow:hover:before {color: black;}#sk-container-id-1 div.sk-estimator:hover label.sk-toggleable__label-arrow:before {color: black;}#sk-container-id-1 div.sk-toggleable__content {max-height: 0;max-width: 0;overflow: hidden;text-align: left;background-color: #f0f8ff;}#sk-container-id-1 div.sk-toggleable__content pre {margin: 0.2em;color: black;border-radius: 0.25em;background-color: #f0f8ff;}#sk-container-id-1 input.sk-toggleable__control:checked~div.sk-toggleable__content {max-height: 200px;max-width: 100%;overflow: auto;}#sk-container-id-1 input.sk-toggleable__control:checked~label.sk-toggleable__label-arrow:before {content: \"▾\";}#sk-container-id-1 div.sk-estimator input.sk-toggleable__control:checked~label.sk-toggleable__label {background-color: #d4ebff;}#sk-container-id-1 div.sk-label input.sk-toggleable__control:checked~label.sk-toggleable__label {background-color: #d4ebff;}#sk-container-id-1 input.sk-hidden--visually {border: 0;clip: rect(1px 1px 1px 1px);clip: rect(1px, 1px, 1px, 1px);height: 1px;margin: -1px;overflow: hidden;padding: 0;position: absolute;width: 1px;}#sk-container-id-1 div.sk-estimator {font-family: monospace;background-color: #f0f8ff;border: 1px dotted black;border-radius: 0.25em;box-sizing: border-box;margin-bottom: 0.5em;}#sk-container-id-1 div.sk-estimator:hover {background-color: #d4ebff;}#sk-container-id-1 div.sk-parallel-item::after {content: \"\";width: 100%;border-bottom: 1px solid gray;flex-grow: 1;}#sk-container-id-1 div.sk-label:hover label.sk-toggleable__label {background-color: #d4ebff;}#sk-container-id-1 div.sk-serial::before {content: \"\";position: absolute;border-left: 1px solid gray;box-sizing: border-box;top: 0;bottom: 0;left: 50%;z-index: 0;}#sk-container-id-1 div.sk-serial {display: flex;flex-direction: column;align-items: center;background-color: white;padding-right: 0.2em;padding-left: 0.2em;position: relative;}#sk-container-id-1 div.sk-item {position: relative;z-index: 1;}#sk-container-id-1 div.sk-parallel {display: flex;align-items: stretch;justify-content: center;background-color: white;position: relative;}#sk-container-id-1 div.sk-item::before, #sk-container-id-1 div.sk-parallel-item::before {content: \"\";position: absolute;border-left: 1px solid gray;box-sizing: border-box;top: 0;bottom: 0;left: 50%;z-index: -1;}#sk-container-id-1 div.sk-parallel-item {display: flex;flex-direction: column;z-index: 1;position: relative;background-color: white;}#sk-container-id-1 div.sk-parallel-item:first-child::after {align-self: flex-end;width: 50%;}#sk-container-id-1 div.sk-parallel-item:last-child::after {align-self: flex-start;width: 50%;}#sk-container-id-1 div.sk-parallel-item:only-child::after {width: 0;}#sk-container-id-1 div.sk-dashed-wrapped {border: 1px dashed gray;margin: 0 0.4em 0.5em 0.4em;box-sizing: border-box;padding-bottom: 0.4em;background-color: white;}#sk-container-id-1 div.sk-label label {font-family: monospace;font-weight: bold;display: inline-block;line-height: 1.2em;}#sk-container-id-1 div.sk-label-container {text-align: center;}#sk-container-id-1 div.sk-container {/* jupyter's `normalize.less` sets `[hidden] { display: none; }` but bootstrap.min.css set `[hidden] { display: none !important; }` so we also need the `!important` here to be able to override the default hidden behavior on the sphinx rendered scikit-learn.org. See: https://github.com/scikit-learn/scikit-learn/issues/21755 */display: inline-block !important;position: relative;}#sk-container-id-1 div.sk-text-repr-fallback {display: none;}</style><div id=\"sk-container-id-1\" class=\"sk-top-container\"><div class=\"sk-text-repr-fallback\"><pre>LogisticRegression()</pre><b>In a Jupyter environment, please rerun this cell to show the HTML representation or trust the notebook. <br />On GitHub, the HTML representation is unable to render, please try loading this page with nbviewer.org.</b></div><div class=\"sk-container\" hidden><div class=\"sk-item\"><div class=\"sk-estimator sk-toggleable\"><input class=\"sk-toggleable__control sk-hidden--visually\" id=\"sk-estimator-id-1\" type=\"checkbox\" checked><label for=\"sk-estimator-id-1\" class=\"sk-toggleable__label sk-toggleable__label-arrow\">LogisticRegression</label><div class=\"sk-toggleable__content\"><pre>LogisticRegression()</pre></div></div></div></div></div>"
            ],
            "text/plain": [
              "LogisticRegression()"
            ]
          },
          "execution_count": 52,
          "metadata": {},
          "output_type": "execute_result"
        }
      ],
      "source": [
        "clf=LogisticRegression()\n",
        "\n",
        "clf.fit(x_train,y_train)"
      ]
    },
    {
      "cell_type": "code",
      "execution_count": null,
      "id": "abfbbe42-477f-4d71-9bb1-b95cabcbef1c",
      "metadata": {
        "id": "abfbbe42-477f-4d71-9bb1-b95cabcbef1c"
      },
      "outputs": [],
      "source": [
        "y_pred=clf.predict(x_test)"
      ]
    },
    {
      "cell_type": "code",
      "execution_count": null,
      "id": "48a7edd4-bacf-4912-a921-26a9452631e2",
      "metadata": {
        "id": "48a7edd4-bacf-4912-a921-26a9452631e2",
        "outputId": "f5f3ec67-709d-41da-9188-e4e141c7dd20"
      },
      "outputs": [
        {
          "data": {
            "text/plain": [
              "array([0, 0, 0, 1, 1, 1, 1, 0, 1, 1, 0, 0, 1, 0, 0, 1, 0, 1, 0, 0, 0, 0,\n",
              "       1, 0, 0, 0, 0, 0, 0, 1, 0, 1, 1, 1, 0, 0, 0, 1, 1, 0, 0, 0, 0, 0,\n",
              "       1, 0, 0, 0, 0, 1, 1, 1, 0, 0, 0, 1, 0, 1, 1, 1, 0, 1, 1, 0, 0, 1,\n",
              "       0, 0, 0, 1, 1, 1, 1, 1, 0, 0, 1, 1, 1, 0, 0, 1, 1, 0, 1, 1, 1, 1,\n",
              "       0, 0, 0, 1, 0, 0, 0, 0, 0, 0, 1, 0, 0, 0, 1, 0, 0, 0, 1, 0, 0, 0,\n",
              "       1, 0, 1, 0, 0, 0, 1, 0, 1, 1, 0, 1, 1, 0, 0, 0, 1, 1, 1, 0, 1, 0,\n",
              "       0, 1, 0, 1, 1, 0, 0, 1, 0, 1, 0, 0, 1, 1, 0, 0, 1, 0, 0, 0, 0, 1,\n",
              "       0, 0, 0, 1, 1, 1, 0, 0, 0, 1, 0, 1, 0, 1, 0, 0, 1, 1, 0, 1, 0, 0,\n",
              "       1, 1, 1], dtype=int64)"
            ]
          },
          "execution_count": 54,
          "metadata": {},
          "output_type": "execute_result"
        }
      ],
      "source": [
        "y_pred"
      ]
    },
    {
      "cell_type": "code",
      "execution_count": null,
      "id": "2f7bb373-5bda-4121-867d-c456137de050",
      "metadata": {
        "id": "2f7bb373-5bda-4121-867d-c456137de050"
      },
      "outputs": [],
      "source": [
        "from sklearn.metrics import confusion_matrix,accuracy_score,recall_score, precision_score,classification_report,f1_score"
      ]
    },
    {
      "cell_type": "code",
      "execution_count": null,
      "id": "e470d275-8cbb-451f-b63d-e2f4b6214a49",
      "metadata": {
        "id": "e470d275-8cbb-451f-b63d-e2f4b6214a49",
        "outputId": "2b68fa2d-e5cf-421a-eef3-c30b63e683ab"
      },
      "outputs": [
        {
          "name": "stdout",
          "output_type": "stream",
          "text": [
            "[[82 23]\n",
            " [20 54]]\n"
          ]
        }
      ],
      "source": [
        "cm=confusion_matrix(y_test,y_pred)\n",
        "print(cm)\n",
        "# Count of Actual output PREDICTED OUPUT"
      ]
    },
    {
      "cell_type": "code",
      "execution_count": null,
      "id": "24013101-fd48-498b-b4f1-5c9797001834",
      "metadata": {
        "id": "24013101-fd48-498b-b4f1-5c9797001834",
        "outputId": "437ac858-f251-4d88-8587-744c738e1a2d"
      },
      "outputs": [
        {
          "data": {
            "text/html": [
              "<div>\n",
              "<style scoped>\n",
              "    .dataframe tbody tr th:only-of-type {\n",
              "        vertical-align: middle;\n",
              "    }\n",
              "\n",
              "    .dataframe tbody tr th {\n",
              "        vertical-align: top;\n",
              "    }\n",
              "\n",
              "    .dataframe thead th {\n",
              "        text-align: right;\n",
              "    }\n",
              "</style>\n",
              "<table border=\"1\" class=\"dataframe\">\n",
              "  <thead>\n",
              "    <tr style=\"text-align: right;\">\n",
              "      <th>col_0</th>\n",
              "      <th>0</th>\n",
              "      <th>1</th>\n",
              "    </tr>\n",
              "    <tr>\n",
              "      <th>Survived</th>\n",
              "      <th></th>\n",
              "      <th></th>\n",
              "    </tr>\n",
              "  </thead>\n",
              "  <tbody>\n",
              "    <tr>\n",
              "      <th>0</th>\n",
              "      <td>82</td>\n",
              "      <td>23</td>\n",
              "    </tr>\n",
              "    <tr>\n",
              "      <th>1</th>\n",
              "      <td>20</td>\n",
              "      <td>54</td>\n",
              "    </tr>\n",
              "  </tbody>\n",
              "</table>\n",
              "</div>"
            ],
            "text/plain": [
              "col_0      0   1\n",
              "Survived        \n",
              "0         82  23\n",
              "1         20  54"
            ]
          },
          "execution_count": 57,
          "metadata": {},
          "output_type": "execute_result"
        }
      ],
      "source": [
        "pd.crosstab(y_test,y_pred)"
      ]
    },
    {
      "cell_type": "code",
      "execution_count": null,
      "id": "d9855462-96eb-4368-85bf-54265fcc9e42",
      "metadata": {
        "id": "d9855462-96eb-4368-85bf-54265fcc9e42",
        "outputId": "92081bfd-5d75-4ee0-a885-7bb4dc824c4e"
      },
      "outputs": [
        {
          "data": {
            "text/plain": [
              "0.7597765363128491"
            ]
          },
          "execution_count": 58,
          "metadata": {},
          "output_type": "execute_result"
        }
      ],
      "source": [
        "Acc = accuracy_score(y_test,y_pred)\n",
        "Acc"
      ]
    },
    {
      "cell_type": "code",
      "execution_count": null,
      "id": "f8506b94-cc25-4e21-8512-159654deddbd",
      "metadata": {
        "id": "f8506b94-cc25-4e21-8512-159654deddbd",
        "outputId": "330c1dbe-b49b-43c3-f936-7c64e31d46fb"
      },
      "outputs": [
        {
          "data": {
            "text/plain": [
              "0.7297297297297297"
            ]
          },
          "execution_count": 59,
          "metadata": {},
          "output_type": "execute_result"
        }
      ],
      "source": [
        "recall=recall_score(y_test,y_pred)\n",
        "recall"
      ]
    },
    {
      "cell_type": "code",
      "execution_count": null,
      "id": "715b0020-7237-4aa8-9021-29eac6593805",
      "metadata": {
        "id": "715b0020-7237-4aa8-9021-29eac6593805",
        "outputId": "f9df71e6-4a89-42c9-99a2-6b51a822776e"
      },
      "outputs": [
        {
          "data": {
            "text/plain": [
              "0.7012987012987013"
            ]
          },
          "execution_count": 60,
          "metadata": {},
          "output_type": "execute_result"
        }
      ],
      "source": [
        "precision=precision_score(y_test,y_pred)\n",
        "precision"
      ]
    },
    {
      "cell_type": "code",
      "execution_count": null,
      "id": "d7dbba8f-84e2-4b48-83ee-28821978729c",
      "metadata": {
        "id": "d7dbba8f-84e2-4b48-83ee-28821978729c",
        "outputId": "dc516849-fbb0-41ec-ffbf-7435ac7d77bb"
      },
      "outputs": [
        {
          "data": {
            "text/plain": [
              "0.7152317880794701"
            ]
          },
          "execution_count": 61,
          "metadata": {},
          "output_type": "execute_result"
        }
      ],
      "source": [
        "f1score=f1_score(y_test,y_pred)\n",
        "f1score"
      ]
    },
    {
      "cell_type": "code",
      "execution_count": null,
      "id": "094577ca-058a-44fe-9402-0f249349fd81",
      "metadata": {
        "id": "094577ca-058a-44fe-9402-0f249349fd81",
        "outputId": "b6f3a8d4-0b1a-4cc3-eda6-e14d1f858bf2"
      },
      "outputs": [
        {
          "name": "stdout",
          "output_type": "stream",
          "text": [
            "              precision    recall  f1-score   support\n",
            "\n",
            "           0       0.80      0.78      0.79       105\n",
            "           1       0.70      0.73      0.72        74\n",
            "\n",
            "    accuracy                           0.76       179\n",
            "   macro avg       0.75      0.76      0.75       179\n",
            "weighted avg       0.76      0.76      0.76       179\n",
            "\n"
          ]
        }
      ],
      "source": [
        "cr=classification_report(y_test,y_pred)\n",
        "print(cr)"
      ]
    },
    {
      "cell_type": "markdown",
      "id": "5b13da2b-fe22-455d-9152-92be2225a752",
      "metadata": {
        "id": "5b13da2b-fe22-455d-9152-92be2225a752"
      },
      "source": [
        "# SVC"
      ]
    },
    {
      "cell_type": "code",
      "execution_count": null,
      "id": "4b322f78-a694-4807-8a68-03b752303b03",
      "metadata": {
        "id": "4b322f78-a694-4807-8a68-03b752303b03"
      },
      "outputs": [],
      "source": [
        "from sklearn.model_selection import train_test_split\n",
        "x_train,x_test,y_train,y_test = train_test_split(x,y,test_size=0.2, random_state=42)"
      ]
    },
    {
      "cell_type": "code",
      "execution_count": null,
      "id": "832302eb-fe64-4e05-9786-b907b1ec777c",
      "metadata": {
        "id": "832302eb-fe64-4e05-9786-b907b1ec777c",
        "outputId": "d4972b7a-ad03-4a6f-ca8f-591e1e8545da"
      },
      "outputs": [
        {
          "data": {
            "text/plain": [
              "Survived\n",
              "0    549\n",
              "1    342\n",
              "Name: count, dtype: int64"
            ]
          },
          "execution_count": 64,
          "metadata": {},
          "output_type": "execute_result"
        }
      ],
      "source": [
        "final_df['Survived'].value_counts()"
      ]
    },
    {
      "cell_type": "code",
      "execution_count": null,
      "id": "dee457a8-3b58-4d03-a3bc-2a9ad9af44c2",
      "metadata": {
        "id": "dee457a8-3b58-4d03-a3bc-2a9ad9af44c2"
      },
      "outputs": [],
      "source": [
        "from imblearn.over_sampling import SMOTE\n",
        "smote = SMOTE()\n",
        "x_smote , y_smote = smote.fit_resample(x_train,y_train)"
      ]
    },
    {
      "cell_type": "code",
      "execution_count": null,
      "id": "ebe6295b-341e-4cdd-bc61-c10606222257",
      "metadata": {
        "id": "ebe6295b-341e-4cdd-bc61-c10606222257",
        "outputId": "0adcf512-494d-4324-a1db-7cf74df14d06"
      },
      "outputs": [
        {
          "data": {
            "text/plain": [
              "Counter({0: 444, 1: 268})"
            ]
          },
          "execution_count": 66,
          "metadata": {},
          "output_type": "execute_result"
        }
      ],
      "source": [
        "from collections import Counter\n",
        "Counter(y_train)"
      ]
    },
    {
      "cell_type": "code",
      "execution_count": null,
      "id": "08f32842-f897-471c-9a90-fb7034599a92",
      "metadata": {
        "id": "08f32842-f897-471c-9a90-fb7034599a92",
        "outputId": "6cdf0fca-04a2-4ea8-e6db-7fc0cf88b0ba"
      },
      "outputs": [
        {
          "data": {
            "text/plain": [
              "Counter({0: 444, 1: 444})"
            ]
          },
          "execution_count": 67,
          "metadata": {},
          "output_type": "execute_result"
        }
      ],
      "source": [
        "Counter(y_smote)"
      ]
    },
    {
      "cell_type": "code",
      "execution_count": null,
      "id": "34ef8ee6-7876-47ef-943b-7cdb2b3f95e6",
      "metadata": {
        "id": "34ef8ee6-7876-47ef-943b-7cdb2b3f95e6",
        "outputId": "239ace34-9521-46b1-b55f-292faf6355c3"
      },
      "outputs": [
        {
          "data": {
            "text/html": [
              "<style>#sk-container-id-2 {color: black;background-color: white;}#sk-container-id-2 pre{padding: 0;}#sk-container-id-2 div.sk-toggleable {background-color: white;}#sk-container-id-2 label.sk-toggleable__label {cursor: pointer;display: block;width: 100%;margin-bottom: 0;padding: 0.3em;box-sizing: border-box;text-align: center;}#sk-container-id-2 label.sk-toggleable__label-arrow:before {content: \"▸\";float: left;margin-right: 0.25em;color: #696969;}#sk-container-id-2 label.sk-toggleable__label-arrow:hover:before {color: black;}#sk-container-id-2 div.sk-estimator:hover label.sk-toggleable__label-arrow:before {color: black;}#sk-container-id-2 div.sk-toggleable__content {max-height: 0;max-width: 0;overflow: hidden;text-align: left;background-color: #f0f8ff;}#sk-container-id-2 div.sk-toggleable__content pre {margin: 0.2em;color: black;border-radius: 0.25em;background-color: #f0f8ff;}#sk-container-id-2 input.sk-toggleable__control:checked~div.sk-toggleable__content {max-height: 200px;max-width: 100%;overflow: auto;}#sk-container-id-2 input.sk-toggleable__control:checked~label.sk-toggleable__label-arrow:before {content: \"▾\";}#sk-container-id-2 div.sk-estimator input.sk-toggleable__control:checked~label.sk-toggleable__label {background-color: #d4ebff;}#sk-container-id-2 div.sk-label input.sk-toggleable__control:checked~label.sk-toggleable__label {background-color: #d4ebff;}#sk-container-id-2 input.sk-hidden--visually {border: 0;clip: rect(1px 1px 1px 1px);clip: rect(1px, 1px, 1px, 1px);height: 1px;margin: -1px;overflow: hidden;padding: 0;position: absolute;width: 1px;}#sk-container-id-2 div.sk-estimator {font-family: monospace;background-color: #f0f8ff;border: 1px dotted black;border-radius: 0.25em;box-sizing: border-box;margin-bottom: 0.5em;}#sk-container-id-2 div.sk-estimator:hover {background-color: #d4ebff;}#sk-container-id-2 div.sk-parallel-item::after {content: \"\";width: 100%;border-bottom: 1px solid gray;flex-grow: 1;}#sk-container-id-2 div.sk-label:hover label.sk-toggleable__label {background-color: #d4ebff;}#sk-container-id-2 div.sk-serial::before {content: \"\";position: absolute;border-left: 1px solid gray;box-sizing: border-box;top: 0;bottom: 0;left: 50%;z-index: 0;}#sk-container-id-2 div.sk-serial {display: flex;flex-direction: column;align-items: center;background-color: white;padding-right: 0.2em;padding-left: 0.2em;position: relative;}#sk-container-id-2 div.sk-item {position: relative;z-index: 1;}#sk-container-id-2 div.sk-parallel {display: flex;align-items: stretch;justify-content: center;background-color: white;position: relative;}#sk-container-id-2 div.sk-item::before, #sk-container-id-2 div.sk-parallel-item::before {content: \"\";position: absolute;border-left: 1px solid gray;box-sizing: border-box;top: 0;bottom: 0;left: 50%;z-index: -1;}#sk-container-id-2 div.sk-parallel-item {display: flex;flex-direction: column;z-index: 1;position: relative;background-color: white;}#sk-container-id-2 div.sk-parallel-item:first-child::after {align-self: flex-end;width: 50%;}#sk-container-id-2 div.sk-parallel-item:last-child::after {align-self: flex-start;width: 50%;}#sk-container-id-2 div.sk-parallel-item:only-child::after {width: 0;}#sk-container-id-2 div.sk-dashed-wrapped {border: 1px dashed gray;margin: 0 0.4em 0.5em 0.4em;box-sizing: border-box;padding-bottom: 0.4em;background-color: white;}#sk-container-id-2 div.sk-label label {font-family: monospace;font-weight: bold;display: inline-block;line-height: 1.2em;}#sk-container-id-2 div.sk-label-container {text-align: center;}#sk-container-id-2 div.sk-container {/* jupyter's `normalize.less` sets `[hidden] { display: none; }` but bootstrap.min.css set `[hidden] { display: none !important; }` so we also need the `!important` here to be able to override the default hidden behavior on the sphinx rendered scikit-learn.org. See: https://github.com/scikit-learn/scikit-learn/issues/21755 */display: inline-block !important;position: relative;}#sk-container-id-2 div.sk-text-repr-fallback {display: none;}</style><div id=\"sk-container-id-2\" class=\"sk-top-container\"><div class=\"sk-text-repr-fallback\"><pre>SVC()</pre><b>In a Jupyter environment, please rerun this cell to show the HTML representation or trust the notebook. <br />On GitHub, the HTML representation is unable to render, please try loading this page with nbviewer.org.</b></div><div class=\"sk-container\" hidden><div class=\"sk-item\"><div class=\"sk-estimator sk-toggleable\"><input class=\"sk-toggleable__control sk-hidden--visually\" id=\"sk-estimator-id-2\" type=\"checkbox\" checked><label for=\"sk-estimator-id-2\" class=\"sk-toggleable__label sk-toggleable__label-arrow\">SVC</label><div class=\"sk-toggleable__content\"><pre>SVC()</pre></div></div></div></div></div>"
            ],
            "text/plain": [
              "SVC()"
            ]
          },
          "execution_count": 68,
          "metadata": {},
          "output_type": "execute_result"
        }
      ],
      "source": [
        "# Algorithm\n",
        "from sklearn.svm import SVC\n",
        "\n",
        "model = SVC()\n",
        "\n",
        "model.fit(x_smote, y_smote)"
      ]
    },
    {
      "cell_type": "code",
      "execution_count": null,
      "id": "457f38bb-d917-459b-ade8-c6e9f42489c2",
      "metadata": {
        "scrolled": true,
        "id": "457f38bb-d917-459b-ade8-c6e9f42489c2",
        "outputId": "563e22f6-23b1-4a3c-cd67-90468b6f539c"
      },
      "outputs": [
        {
          "data": {
            "text/plain": [
              "array([0, 0, 0, 1, 1, 1, 1, 0, 1, 1, 0, 0, 1, 0, 0, 1, 0, 1, 0, 0, 0, 0,\n",
              "       1, 0, 0, 0, 0, 0, 0, 1, 0, 1, 0, 1, 0, 0, 0, 1, 1, 0, 0, 0, 0, 0,\n",
              "       1, 0, 0, 0, 0, 0, 1, 1, 0, 0, 0, 1, 0, 1, 1, 1, 0, 1, 1, 0, 0, 1,\n",
              "       0, 0, 0, 1, 1, 1, 0, 1, 0, 0, 1, 1, 1, 1, 0, 1, 1, 0, 0, 0, 1, 1,\n",
              "       0, 0, 0, 1, 0, 0, 0, 0, 0, 0, 1, 0, 0, 0, 1, 0, 0, 0, 1, 0, 0, 0,\n",
              "       1, 0, 1, 0, 0, 0, 0, 0, 1, 0, 0, 1, 1, 0, 0, 0, 1, 0, 1, 0, 1, 0,\n",
              "       0, 1, 0, 1, 1, 0, 0, 1, 0, 1, 0, 0, 1, 1, 0, 0, 1, 0, 0, 0, 0, 1,\n",
              "       0, 0, 0, 1, 1, 1, 0, 0, 0, 1, 0, 0, 0, 1, 0, 0, 0, 1, 0, 1, 0, 0,\n",
              "       0, 1, 1], dtype=int64)"
            ]
          },
          "execution_count": 69,
          "metadata": {},
          "output_type": "execute_result"
        }
      ],
      "source": [
        "y_pred = model.predict(x_test)\n",
        "y_pred"
      ]
    },
    {
      "cell_type": "code",
      "execution_count": null,
      "id": "823804c2-3ea6-4306-8d42-822f11c05f4e",
      "metadata": {
        "id": "823804c2-3ea6-4306-8d42-822f11c05f4e",
        "outputId": "65fac64d-2fb7-4b2e-cb31-5bbd624e95c3"
      },
      "outputs": [
        {
          "data": {
            "text/plain": [
              "0.7821229050279329"
            ]
          },
          "execution_count": 70,
          "metadata": {},
          "output_type": "execute_result"
        }
      ],
      "source": [
        "from sklearn.metrics import accuracy_score\n",
        "accuracy_score(y_test,y_pred)"
      ]
    },
    {
      "cell_type": "markdown",
      "id": "31f8b1de-9a0f-4f50-938f-c0c2415e33ef",
      "metadata": {
        "id": "31f8b1de-9a0f-4f50-938f-c0c2415e33ef"
      },
      "source": [
        "# Cross Validation"
      ]
    },
    {
      "cell_type": "code",
      "execution_count": null,
      "id": "732cc871-9cda-43cd-b660-f293bf704f23",
      "metadata": {
        "id": "732cc871-9cda-43cd-b660-f293bf704f23"
      },
      "outputs": [],
      "source": [
        "from sklearn.model_selection import cross_val_score\n",
        "\n",
        "cross_val = cross_val_score(model,x,y,cv=10,scoring = 'accuracy')"
      ]
    },
    {
      "cell_type": "code",
      "execution_count": null,
      "id": "9bc0007b-92ed-45c9-92a3-75ae83e6a9df",
      "metadata": {
        "id": "9bc0007b-92ed-45c9-92a3-75ae83e6a9df",
        "outputId": "f6f8d2c1-14a5-4a2a-b9fa-717f4d35242a"
      },
      "outputs": [
        {
          "data": {
            "text/plain": [
              "array([0.82222222, 0.78651685, 0.78651685, 0.85393258, 0.86516854,\n",
              "       0.79775281, 0.80898876, 0.76404494, 0.83146067, 0.79775281])"
            ]
          },
          "execution_count": 77,
          "metadata": {},
          "output_type": "execute_result"
        }
      ],
      "source": [
        "cross_val"
      ]
    },
    {
      "cell_type": "code",
      "execution_count": null,
      "id": "7eecc5ba-03ac-4116-8e53-b565d396ce6e",
      "metadata": {
        "id": "7eecc5ba-03ac-4116-8e53-b565d396ce6e",
        "outputId": "14f4ce1f-fdad-4e7f-aca4-f18ead48acca"
      },
      "outputs": [
        {
          "name": "stdout",
          "output_type": "stream",
          "text": [
            "Cross validation score 0.030130987213614034\n"
          ]
        }
      ],
      "source": [
        "print('Cross validation score',cross_val.std())"
      ]
    },
    {
      "cell_type": "code",
      "execution_count": null,
      "id": "496de7a4-c467-4e60-b82f-a212fc2287bf",
      "metadata": {
        "id": "496de7a4-c467-4e60-b82f-a212fc2287bf"
      },
      "outputs": [],
      "source": [
        "#std() is less than 0.05, we say the model is working good"
      ]
    },
    {
      "cell_type": "code",
      "execution_count": null,
      "id": "054ab6cf-11f4-420f-b6cc-a3dff422a28a",
      "metadata": {
        "id": "054ab6cf-11f4-420f-b6cc-a3dff422a28a"
      },
      "outputs": [],
      "source": [
        "# Traning accuacy\n",
        "y_pred_train = model.predict(x_train)"
      ]
    },
    {
      "cell_type": "code",
      "execution_count": null,
      "id": "cfc0ad7e-2d86-4e43-8c5b-8cad565b35d2",
      "metadata": {
        "scrolled": true,
        "id": "cfc0ad7e-2d86-4e43-8c5b-8cad565b35d2",
        "outputId": "65ca6510-d6d2-4812-de91-5bd05b9672a9"
      },
      "outputs": [
        {
          "data": {
            "text/plain": [
              "0.8061797752808989"
            ]
          },
          "execution_count": 81,
          "metadata": {},
          "output_type": "execute_result"
        }
      ],
      "source": [
        "accuracy_score(y_pred_train,y_train)"
      ]
    },
    {
      "cell_type": "markdown",
      "id": "17fa512f-415c-40bd-a645-6a45d134872e",
      "metadata": {
        "id": "17fa512f-415c-40bd-a645-6a45d134872e"
      },
      "source": [
        "# Hyperparameter Tuning"
      ]
    },
    {
      "cell_type": "code",
      "execution_count": null,
      "id": "f5ad9f17-2069-4786-913d-c5dba5ca0f8f",
      "metadata": {
        "id": "f5ad9f17-2069-4786-913d-c5dba5ca0f8f"
      },
      "outputs": [],
      "source": [
        "\n",
        "param_grid = {'C':[1,5,10,50,60,70],\n",
        "              'gamma':[0.1,0.01,0.001,0.02,0.032,0.001],\n",
        "              'random_state':list(range(1,20))}"
      ]
    },
    {
      "cell_type": "code",
      "execution_count": null,
      "id": "189c1c31-d979-4e79-ad66-4e364f477cd0",
      "metadata": {
        "id": "189c1c31-d979-4e79-ad66-4e364f477cd0",
        "outputId": "3b6c00e5-a57f-4dbb-80b4-ddbc0dba8e49"
      },
      "outputs": [
        {
          "data": {
            "text/html": [
              "<style>#sk-container-id-3 {color: black;background-color: white;}#sk-container-id-3 pre{padding: 0;}#sk-container-id-3 div.sk-toggleable {background-color: white;}#sk-container-id-3 label.sk-toggleable__label {cursor: pointer;display: block;width: 100%;margin-bottom: 0;padding: 0.3em;box-sizing: border-box;text-align: center;}#sk-container-id-3 label.sk-toggleable__label-arrow:before {content: \"▸\";float: left;margin-right: 0.25em;color: #696969;}#sk-container-id-3 label.sk-toggleable__label-arrow:hover:before {color: black;}#sk-container-id-3 div.sk-estimator:hover label.sk-toggleable__label-arrow:before {color: black;}#sk-container-id-3 div.sk-toggleable__content {max-height: 0;max-width: 0;overflow: hidden;text-align: left;background-color: #f0f8ff;}#sk-container-id-3 div.sk-toggleable__content pre {margin: 0.2em;color: black;border-radius: 0.25em;background-color: #f0f8ff;}#sk-container-id-3 input.sk-toggleable__control:checked~div.sk-toggleable__content {max-height: 200px;max-width: 100%;overflow: auto;}#sk-container-id-3 input.sk-toggleable__control:checked~label.sk-toggleable__label-arrow:before {content: \"▾\";}#sk-container-id-3 div.sk-estimator input.sk-toggleable__control:checked~label.sk-toggleable__label {background-color: #d4ebff;}#sk-container-id-3 div.sk-label input.sk-toggleable__control:checked~label.sk-toggleable__label {background-color: #d4ebff;}#sk-container-id-3 input.sk-hidden--visually {border: 0;clip: rect(1px 1px 1px 1px);clip: rect(1px, 1px, 1px, 1px);height: 1px;margin: -1px;overflow: hidden;padding: 0;position: absolute;width: 1px;}#sk-container-id-3 div.sk-estimator {font-family: monospace;background-color: #f0f8ff;border: 1px dotted black;border-radius: 0.25em;box-sizing: border-box;margin-bottom: 0.5em;}#sk-container-id-3 div.sk-estimator:hover {background-color: #d4ebff;}#sk-container-id-3 div.sk-parallel-item::after {content: \"\";width: 100%;border-bottom: 1px solid gray;flex-grow: 1;}#sk-container-id-3 div.sk-label:hover label.sk-toggleable__label {background-color: #d4ebff;}#sk-container-id-3 div.sk-serial::before {content: \"\";position: absolute;border-left: 1px solid gray;box-sizing: border-box;top: 0;bottom: 0;left: 50%;z-index: 0;}#sk-container-id-3 div.sk-serial {display: flex;flex-direction: column;align-items: center;background-color: white;padding-right: 0.2em;padding-left: 0.2em;position: relative;}#sk-container-id-3 div.sk-item {position: relative;z-index: 1;}#sk-container-id-3 div.sk-parallel {display: flex;align-items: stretch;justify-content: center;background-color: white;position: relative;}#sk-container-id-3 div.sk-item::before, #sk-container-id-3 div.sk-parallel-item::before {content: \"\";position: absolute;border-left: 1px solid gray;box-sizing: border-box;top: 0;bottom: 0;left: 50%;z-index: -1;}#sk-container-id-3 div.sk-parallel-item {display: flex;flex-direction: column;z-index: 1;position: relative;background-color: white;}#sk-container-id-3 div.sk-parallel-item:first-child::after {align-self: flex-end;width: 50%;}#sk-container-id-3 div.sk-parallel-item:last-child::after {align-self: flex-start;width: 50%;}#sk-container-id-3 div.sk-parallel-item:only-child::after {width: 0;}#sk-container-id-3 div.sk-dashed-wrapped {border: 1px dashed gray;margin: 0 0.4em 0.5em 0.4em;box-sizing: border-box;padding-bottom: 0.4em;background-color: white;}#sk-container-id-3 div.sk-label label {font-family: monospace;font-weight: bold;display: inline-block;line-height: 1.2em;}#sk-container-id-3 div.sk-label-container {text-align: center;}#sk-container-id-3 div.sk-container {/* jupyter's `normalize.less` sets `[hidden] { display: none; }` but bootstrap.min.css set `[hidden] { display: none !important; }` so we also need the `!important` here to be able to override the default hidden behavior on the sphinx rendered scikit-learn.org. See: https://github.com/scikit-learn/scikit-learn/issues/21755 */display: inline-block !important;position: relative;}#sk-container-id-3 div.sk-text-repr-fallback {display: none;}</style><div id=\"sk-container-id-3\" class=\"sk-top-container\"><div class=\"sk-text-repr-fallback\"><pre>GridSearchCV(cv=5, estimator=SVC(),\n",
              "             param_grid={&#x27;C&#x27;: [1, 5, 10, 50, 60, 70],\n",
              "                         &#x27;gamma&#x27;: [0.1, 0.01, 0.001, 0.02, 0.032, 0.001],\n",
              "                         &#x27;random_state&#x27;: [1, 2, 3, 4, 5, 6, 7, 8, 9, 10, 11, 12,\n",
              "                                          13, 14, 15, 16, 17, 18, 19]},\n",
              "             scoring=&#x27;accuracy&#x27;)</pre><b>In a Jupyter environment, please rerun this cell to show the HTML representation or trust the notebook. <br />On GitHub, the HTML representation is unable to render, please try loading this page with nbviewer.org.</b></div><div class=\"sk-container\" hidden><div class=\"sk-item sk-dashed-wrapped\"><div class=\"sk-label-container\"><div class=\"sk-label sk-toggleable\"><input class=\"sk-toggleable__control sk-hidden--visually\" id=\"sk-estimator-id-3\" type=\"checkbox\" ><label for=\"sk-estimator-id-3\" class=\"sk-toggleable__label sk-toggleable__label-arrow\">GridSearchCV</label><div class=\"sk-toggleable__content\"><pre>GridSearchCV(cv=5, estimator=SVC(),\n",
              "             param_grid={&#x27;C&#x27;: [1, 5, 10, 50, 60, 70],\n",
              "                         &#x27;gamma&#x27;: [0.1, 0.01, 0.001, 0.02, 0.032, 0.001],\n",
              "                         &#x27;random_state&#x27;: [1, 2, 3, 4, 5, 6, 7, 8, 9, 10, 11, 12,\n",
              "                                          13, 14, 15, 16, 17, 18, 19]},\n",
              "             scoring=&#x27;accuracy&#x27;)</pre></div></div></div><div class=\"sk-parallel\"><div class=\"sk-parallel-item\"><div class=\"sk-item\"><div class=\"sk-label-container\"><div class=\"sk-label sk-toggleable\"><input class=\"sk-toggleable__control sk-hidden--visually\" id=\"sk-estimator-id-4\" type=\"checkbox\" ><label for=\"sk-estimator-id-4\" class=\"sk-toggleable__label sk-toggleable__label-arrow\">estimator: SVC</label><div class=\"sk-toggleable__content\"><pre>SVC()</pre></div></div></div><div class=\"sk-serial\"><div class=\"sk-item\"><div class=\"sk-estimator sk-toggleable\"><input class=\"sk-toggleable__control sk-hidden--visually\" id=\"sk-estimator-id-5\" type=\"checkbox\" ><label for=\"sk-estimator-id-5\" class=\"sk-toggleable__label sk-toggleable__label-arrow\">SVC</label><div class=\"sk-toggleable__content\"><pre>SVC()</pre></div></div></div></div></div></div></div></div></div></div>"
            ],
            "text/plain": [
              "GridSearchCV(cv=5, estimator=SVC(),\n",
              "             param_grid={'C': [1, 5, 10, 50, 60, 70],\n",
              "                         'gamma': [0.1, 0.01, 0.001, 0.02, 0.032, 0.001],\n",
              "                         'random_state': [1, 2, 3, 4, 5, 6, 7, 8, 9, 10, 11, 12,\n",
              "                                          13, 14, 15, 16, 17, 18, 19]},\n",
              "             scoring='accuracy')"
            ]
          },
          "execution_count": 83,
          "metadata": {},
          "output_type": "execute_result"
        }
      ],
      "source": [
        "from sklearn.model_selection import GridSearchCV\n",
        "\n",
        "svc = SVC()\n",
        "\n",
        "grid = GridSearchCV(svc,param_grid,cv=5,scoring='accuracy')\n",
        "\n",
        "grid.fit(x,y)"
      ]
    },
    {
      "cell_type": "code",
      "execution_count": null,
      "id": "0f74cc94-1ffb-4ee5-b70e-530695fbf51e",
      "metadata": {
        "id": "0f74cc94-1ffb-4ee5-b70e-530695fbf51e",
        "outputId": "af36e7bb-acae-4fd0-d9fb-46b79bfdeeca"
      },
      "outputs": [
        {
          "data": {
            "text/html": [
              "<style>#sk-container-id-4 {color: black;background-color: white;}#sk-container-id-4 pre{padding: 0;}#sk-container-id-4 div.sk-toggleable {background-color: white;}#sk-container-id-4 label.sk-toggleable__label {cursor: pointer;display: block;width: 100%;margin-bottom: 0;padding: 0.3em;box-sizing: border-box;text-align: center;}#sk-container-id-4 label.sk-toggleable__label-arrow:before {content: \"▸\";float: left;margin-right: 0.25em;color: #696969;}#sk-container-id-4 label.sk-toggleable__label-arrow:hover:before {color: black;}#sk-container-id-4 div.sk-estimator:hover label.sk-toggleable__label-arrow:before {color: black;}#sk-container-id-4 div.sk-toggleable__content {max-height: 0;max-width: 0;overflow: hidden;text-align: left;background-color: #f0f8ff;}#sk-container-id-4 div.sk-toggleable__content pre {margin: 0.2em;color: black;border-radius: 0.25em;background-color: #f0f8ff;}#sk-container-id-4 input.sk-toggleable__control:checked~div.sk-toggleable__content {max-height: 200px;max-width: 100%;overflow: auto;}#sk-container-id-4 input.sk-toggleable__control:checked~label.sk-toggleable__label-arrow:before {content: \"▾\";}#sk-container-id-4 div.sk-estimator input.sk-toggleable__control:checked~label.sk-toggleable__label {background-color: #d4ebff;}#sk-container-id-4 div.sk-label input.sk-toggleable__control:checked~label.sk-toggleable__label {background-color: #d4ebff;}#sk-container-id-4 input.sk-hidden--visually {border: 0;clip: rect(1px 1px 1px 1px);clip: rect(1px, 1px, 1px, 1px);height: 1px;margin: -1px;overflow: hidden;padding: 0;position: absolute;width: 1px;}#sk-container-id-4 div.sk-estimator {font-family: monospace;background-color: #f0f8ff;border: 1px dotted black;border-radius: 0.25em;box-sizing: border-box;margin-bottom: 0.5em;}#sk-container-id-4 div.sk-estimator:hover {background-color: #d4ebff;}#sk-container-id-4 div.sk-parallel-item::after {content: \"\";width: 100%;border-bottom: 1px solid gray;flex-grow: 1;}#sk-container-id-4 div.sk-label:hover label.sk-toggleable__label {background-color: #d4ebff;}#sk-container-id-4 div.sk-serial::before {content: \"\";position: absolute;border-left: 1px solid gray;box-sizing: border-box;top: 0;bottom: 0;left: 50%;z-index: 0;}#sk-container-id-4 div.sk-serial {display: flex;flex-direction: column;align-items: center;background-color: white;padding-right: 0.2em;padding-left: 0.2em;position: relative;}#sk-container-id-4 div.sk-item {position: relative;z-index: 1;}#sk-container-id-4 div.sk-parallel {display: flex;align-items: stretch;justify-content: center;background-color: white;position: relative;}#sk-container-id-4 div.sk-item::before, #sk-container-id-4 div.sk-parallel-item::before {content: \"\";position: absolute;border-left: 1px solid gray;box-sizing: border-box;top: 0;bottom: 0;left: 50%;z-index: -1;}#sk-container-id-4 div.sk-parallel-item {display: flex;flex-direction: column;z-index: 1;position: relative;background-color: white;}#sk-container-id-4 div.sk-parallel-item:first-child::after {align-self: flex-end;width: 50%;}#sk-container-id-4 div.sk-parallel-item:last-child::after {align-self: flex-start;width: 50%;}#sk-container-id-4 div.sk-parallel-item:only-child::after {width: 0;}#sk-container-id-4 div.sk-dashed-wrapped {border: 1px dashed gray;margin: 0 0.4em 0.5em 0.4em;box-sizing: border-box;padding-bottom: 0.4em;background-color: white;}#sk-container-id-4 div.sk-label label {font-family: monospace;font-weight: bold;display: inline-block;line-height: 1.2em;}#sk-container-id-4 div.sk-label-container {text-align: center;}#sk-container-id-4 div.sk-container {/* jupyter's `normalize.less` sets `[hidden] { display: none; }` but bootstrap.min.css set `[hidden] { display: none !important; }` so we also need the `!important` here to be able to override the default hidden behavior on the sphinx rendered scikit-learn.org. See: https://github.com/scikit-learn/scikit-learn/issues/21755 */display: inline-block !important;position: relative;}#sk-container-id-4 div.sk-text-repr-fallback {display: none;}</style><div id=\"sk-container-id-4\" class=\"sk-top-container\"><div class=\"sk-text-repr-fallback\"><pre>SVC(C=10000, gamma=0.001, random_state=40)</pre><b>In a Jupyter environment, please rerun this cell to show the HTML representation or trust the notebook. <br />On GitHub, the HTML representation is unable to render, please try loading this page with nbviewer.org.</b></div><div class=\"sk-container\" hidden><div class=\"sk-item\"><div class=\"sk-estimator sk-toggleable\"><input class=\"sk-toggleable__control sk-hidden--visually\" id=\"sk-estimator-id-6\" type=\"checkbox\" checked><label for=\"sk-estimator-id-6\" class=\"sk-toggleable__label sk-toggleable__label-arrow\">SVC</label><div class=\"sk-toggleable__content\"><pre>SVC(C=10000, gamma=0.001, random_state=40)</pre></div></div></div></div></div>"
            ],
            "text/plain": [
              "SVC(C=10000, gamma=0.001, random_state=40)"
            ]
          },
          "execution_count": 84,
          "metadata": {},
          "output_type": "execute_result"
        }
      ],
      "source": [
        "model1 = SVC(C=10000,gamma=0.001,random_state=40)\n",
        "model1.fit(x_smote,y_smote)"
      ]
    },
    {
      "cell_type": "code",
      "execution_count": null,
      "id": "5055acf7-1b7d-4ba9-b4f4-055bbc077345",
      "metadata": {
        "id": "5055acf7-1b7d-4ba9-b4f4-055bbc077345"
      },
      "outputs": [],
      "source": [
        "y_pred1 = model1.predict(x_test)"
      ]
    },
    {
      "cell_type": "code",
      "execution_count": null,
      "id": "2c91e214-884e-4707-8422-8243e37c602c",
      "metadata": {
        "id": "2c91e214-884e-4707-8422-8243e37c602c",
        "outputId": "160248a1-06f1-42bb-8344-e11c73fbc473"
      },
      "outputs": [
        {
          "data": {
            "text/plain": [
              "array([0, 0, 0, 1, 1, 1, 1, 0, 1, 1, 0, 0, 1, 0, 0, 1, 0, 1, 0, 0, 0, 0,\n",
              "       1, 0, 0, 0, 0, 0, 0, 1, 0, 1, 0, 1, 0, 0, 0, 1, 1, 0, 0, 0, 0, 0,\n",
              "       1, 0, 0, 0, 0, 0, 1, 1, 0, 0, 0, 1, 0, 1, 1, 1, 0, 1, 1, 0, 0, 1,\n",
              "       0, 0, 0, 1, 1, 1, 0, 1, 0, 0, 1, 1, 1, 1, 0, 1, 1, 0, 0, 0, 1, 1,\n",
              "       0, 0, 0, 1, 0, 0, 0, 0, 0, 0, 1, 0, 0, 0, 1, 0, 0, 0, 1, 0, 0, 0,\n",
              "       1, 0, 1, 0, 0, 0, 0, 0, 1, 1, 0, 1, 1, 0, 0, 0, 1, 0, 1, 0, 1, 0,\n",
              "       0, 1, 0, 1, 1, 0, 0, 1, 0, 1, 0, 0, 1, 1, 0, 0, 1, 0, 0, 0, 0, 1,\n",
              "       0, 0, 0, 1, 1, 1, 0, 0, 0, 1, 0, 0, 0, 1, 0, 0, 0, 1, 0, 1, 0, 0,\n",
              "       1, 1, 1], dtype=int64)"
            ]
          },
          "execution_count": 88,
          "metadata": {},
          "output_type": "execute_result"
        }
      ],
      "source": [
        "y_pred1"
      ]
    },
    {
      "cell_type": "code",
      "execution_count": null,
      "id": "d251cf06-8dbb-4091-b23a-2aa14dbc0518",
      "metadata": {
        "id": "d251cf06-8dbb-4091-b23a-2aa14dbc0518",
        "outputId": "5b7b2474-12b8-42b3-a807-443271906ebb"
      },
      "outputs": [
        {
          "data": {
            "text/plain": [
              "0.7821229050279329"
            ]
          },
          "execution_count": 89,
          "metadata": {},
          "output_type": "execute_result"
        }
      ],
      "source": [
        "accuracy_score(y_test,y_pred1)"
      ]
    },
    {
      "cell_type": "markdown",
      "id": "75a124fa-5012-4d16-a001-e0606ba79d7d",
      "metadata": {
        "id": "75a124fa-5012-4d16-a001-e0606ba79d7d"
      },
      "source": [
        "# Decision Tree"
      ]
    },
    {
      "cell_type": "code",
      "execution_count": null,
      "id": "e1d9efc0-aa4c-4cc3-bb94-11595bd9a4c0",
      "metadata": {
        "id": "e1d9efc0-aa4c-4cc3-bb94-11595bd9a4c0",
        "outputId": "41659697-fd6a-4e71-c40d-93ff1dd8c8ca"
      },
      "outputs": [
        {
          "data": {
            "text/html": [
              "<style>#sk-container-id-3 {color: black;background-color: white;}#sk-container-id-3 pre{padding: 0;}#sk-container-id-3 div.sk-toggleable {background-color: white;}#sk-container-id-3 label.sk-toggleable__label {cursor: pointer;display: block;width: 100%;margin-bottom: 0;padding: 0.3em;box-sizing: border-box;text-align: center;}#sk-container-id-3 label.sk-toggleable__label-arrow:before {content: \"▸\";float: left;margin-right: 0.25em;color: #696969;}#sk-container-id-3 label.sk-toggleable__label-arrow:hover:before {color: black;}#sk-container-id-3 div.sk-estimator:hover label.sk-toggleable__label-arrow:before {color: black;}#sk-container-id-3 div.sk-toggleable__content {max-height: 0;max-width: 0;overflow: hidden;text-align: left;background-color: #f0f8ff;}#sk-container-id-3 div.sk-toggleable__content pre {margin: 0.2em;color: black;border-radius: 0.25em;background-color: #f0f8ff;}#sk-container-id-3 input.sk-toggleable__control:checked~div.sk-toggleable__content {max-height: 200px;max-width: 100%;overflow: auto;}#sk-container-id-3 input.sk-toggleable__control:checked~label.sk-toggleable__label-arrow:before {content: \"▾\";}#sk-container-id-3 div.sk-estimator input.sk-toggleable__control:checked~label.sk-toggleable__label {background-color: #d4ebff;}#sk-container-id-3 div.sk-label input.sk-toggleable__control:checked~label.sk-toggleable__label {background-color: #d4ebff;}#sk-container-id-3 input.sk-hidden--visually {border: 0;clip: rect(1px 1px 1px 1px);clip: rect(1px, 1px, 1px, 1px);height: 1px;margin: -1px;overflow: hidden;padding: 0;position: absolute;width: 1px;}#sk-container-id-3 div.sk-estimator {font-family: monospace;background-color: #f0f8ff;border: 1px dotted black;border-radius: 0.25em;box-sizing: border-box;margin-bottom: 0.5em;}#sk-container-id-3 div.sk-estimator:hover {background-color: #d4ebff;}#sk-container-id-3 div.sk-parallel-item::after {content: \"\";width: 100%;border-bottom: 1px solid gray;flex-grow: 1;}#sk-container-id-3 div.sk-label:hover label.sk-toggleable__label {background-color: #d4ebff;}#sk-container-id-3 div.sk-serial::before {content: \"\";position: absolute;border-left: 1px solid gray;box-sizing: border-box;top: 0;bottom: 0;left: 50%;z-index: 0;}#sk-container-id-3 div.sk-serial {display: flex;flex-direction: column;align-items: center;background-color: white;padding-right: 0.2em;padding-left: 0.2em;position: relative;}#sk-container-id-3 div.sk-item {position: relative;z-index: 1;}#sk-container-id-3 div.sk-parallel {display: flex;align-items: stretch;justify-content: center;background-color: white;position: relative;}#sk-container-id-3 div.sk-item::before, #sk-container-id-3 div.sk-parallel-item::before {content: \"\";position: absolute;border-left: 1px solid gray;box-sizing: border-box;top: 0;bottom: 0;left: 50%;z-index: -1;}#sk-container-id-3 div.sk-parallel-item {display: flex;flex-direction: column;z-index: 1;position: relative;background-color: white;}#sk-container-id-3 div.sk-parallel-item:first-child::after {align-self: flex-end;width: 50%;}#sk-container-id-3 div.sk-parallel-item:last-child::after {align-self: flex-start;width: 50%;}#sk-container-id-3 div.sk-parallel-item:only-child::after {width: 0;}#sk-container-id-3 div.sk-dashed-wrapped {border: 1px dashed gray;margin: 0 0.4em 0.5em 0.4em;box-sizing: border-box;padding-bottom: 0.4em;background-color: white;}#sk-container-id-3 div.sk-label label {font-family: monospace;font-weight: bold;display: inline-block;line-height: 1.2em;}#sk-container-id-3 div.sk-label-container {text-align: center;}#sk-container-id-3 div.sk-container {/* jupyter's `normalize.less` sets `[hidden] { display: none; }` but bootstrap.min.css set `[hidden] { display: none !important; }` so we also need the `!important` here to be able to override the default hidden behavior on the sphinx rendered scikit-learn.org. See: https://github.com/scikit-learn/scikit-learn/issues/21755 */display: inline-block !important;position: relative;}#sk-container-id-3 div.sk-text-repr-fallback {display: none;}</style><div id=\"sk-container-id-3\" class=\"sk-top-container\"><div class=\"sk-text-repr-fallback\"><pre>DecisionTreeClassifier()</pre><b>In a Jupyter environment, please rerun this cell to show the HTML representation or trust the notebook. <br />On GitHub, the HTML representation is unable to render, please try loading this page with nbviewer.org.</b></div><div class=\"sk-container\" hidden><div class=\"sk-item\"><div class=\"sk-estimator sk-toggleable\"><input class=\"sk-toggleable__control sk-hidden--visually\" id=\"sk-estimator-id-3\" type=\"checkbox\" checked><label for=\"sk-estimator-id-3\" class=\"sk-toggleable__label sk-toggleable__label-arrow\">DecisionTreeClassifier</label><div class=\"sk-toggleable__content\"><pre>DecisionTreeClassifier()</pre></div></div></div></div></div>"
            ],
            "text/plain": [
              "DecisionTreeClassifier()"
            ]
          },
          "execution_count": 72,
          "metadata": {},
          "output_type": "execute_result"
        }
      ],
      "source": [
        "#import the algoo\n",
        "from sklearn.tree import DecisionTreeClassifier\n",
        "\n",
        "#init\n",
        "model = DecisionTreeClassifier()\n",
        "\n",
        "#train\n",
        "model.fit(x_smote,y_smote)"
      ]
    },
    {
      "cell_type": "code",
      "execution_count": null,
      "id": "d99d213a-78af-41f2-9ec0-6f101bd07216",
      "metadata": {
        "id": "d99d213a-78af-41f2-9ec0-6f101bd07216"
      },
      "outputs": [],
      "source": [
        "y_test_pred = model.predict(x_test)"
      ]
    },
    {
      "cell_type": "code",
      "execution_count": null,
      "id": "a501ebba-fe7b-4ab4-aaf0-c29e4c61c03c",
      "metadata": {
        "id": "a501ebba-fe7b-4ab4-aaf0-c29e4c61c03c",
        "outputId": "7b525fcf-62d4-407c-b65e-2ed75d62ee07"
      },
      "outputs": [
        {
          "data": {
            "text/plain": [
              "0.7541899441340782"
            ]
          },
          "execution_count": 74,
          "metadata": {},
          "output_type": "execute_result"
        }
      ],
      "source": [
        "accuracy_score(y_test,y_test_pred)"
      ]
    },
    {
      "cell_type": "code",
      "execution_count": null,
      "id": "c43b6607-6b31-47e6-b9be-279b19535b25",
      "metadata": {
        "id": "c43b6607-6b31-47e6-b9be-279b19535b25"
      },
      "outputs": [],
      "source": [
        "y_train_pred= model.predict(x_smote)"
      ]
    },
    {
      "cell_type": "code",
      "execution_count": null,
      "id": "128f986a-70e0-4e41-a87d-8b60e77316cf",
      "metadata": {
        "id": "128f986a-70e0-4e41-a87d-8b60e77316cf",
        "outputId": "840b5066-663f-4e35-b8c6-5438532440a1"
      },
      "outputs": [
        {
          "data": {
            "text/plain": [
              "0.9718468468468469"
            ]
          },
          "execution_count": 76,
          "metadata": {},
          "output_type": "execute_result"
        }
      ],
      "source": [
        "accuracy_score(y_smote,y_train_pred)"
      ]
    },
    {
      "cell_type": "code",
      "execution_count": null,
      "id": "6c65435a-9d21-41ba-bcec-531a1e9d5a9b",
      "metadata": {
        "id": "6c65435a-9d21-41ba-bcec-531a1e9d5a9b",
        "outputId": "482328ac-af10-4894-8f69-ac55b2c61705"
      },
      "outputs": [
        {
          "name": "stdout",
          "output_type": "stream",
          "text": [
            "Confusion Matrix:\n",
            " [[82 23]\n",
            " [21 53]]\n"
          ]
        }
      ],
      "source": [
        "from sklearn.metrics import confusion_matrix\n",
        "confusion_matrix = confusion_matrix(y_test, y_test_pred)\n",
        "print(\"Confusion Matrix:\\n\", confusion_matrix)"
      ]
    },
    {
      "cell_type": "code",
      "execution_count": null,
      "id": "fe93029d-2738-49bf-8405-be0032acede7",
      "metadata": {
        "id": "fe93029d-2738-49bf-8405-be0032acede7"
      },
      "outputs": [],
      "source": []
    }
  ],
  "metadata": {
    "kernelspec": {
      "display_name": "Python 3 (ipykernel)",
      "language": "python",
      "name": "python3"
    },
    "language_info": {
      "codemirror_mode": {
        "name": "ipython",
        "version": 3
      },
      "file_extension": ".py",
      "mimetype": "text/x-python",
      "name": "python",
      "nbconvert_exporter": "python",
      "pygments_lexer": "ipython3",
      "version": "3.11.7"
    },
    "widgets": {
      "application/vnd.jupyter.widget-state+json": {}
    },
    "colab": {
      "provenance": []
    }
  },
  "nbformat": 4,
  "nbformat_minor": 5
}